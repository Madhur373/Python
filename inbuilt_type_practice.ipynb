{
 "cells": [
  {
   "cell_type": "code",
   "execution_count": 4,
   "id": "04e38b1c-5dcd-4b7b-a9a2-98cf6912fac1",
   "metadata": {},
   "outputs": [
    {
     "name": "stdout",
     "output_type": "stream",
     "text": [
      "[9, 8, 7, 6, 5, 4, 3, 2, 1]\n",
      "[9, 8, 7, 6, 5, 4, 3, 2, 1]\n"
     ]
    }
   ],
   "source": [
    "l=[1,2,3,4,5,6,7,8,9]\n",
    "n=len(l)\n",
    "rl=[]\n",
    "rl1=l[::-1]\n",
    "print(rl1)\n",
    "for i in range(n,0,-1):\n",
    "    rl.append(i)\n",
    "print(rl)\n"
   ]
  },
  {
   "cell_type": "code",
   "execution_count": 3,
   "id": "06b74e81-37ad-4af9-af33-03caf3752fe8",
   "metadata": {},
   "outputs": [
    {
     "ename": "SyntaxError",
     "evalue": "incomplete input (2308536163.py, line 4)",
     "output_type": "error",
     "traceback": [
      "\u001b[1;36m  Cell \u001b[1;32mIn[3], line 4\u001b[1;36m\u001b[0m\n\u001b[1;33m    \u001b[0m\n\u001b[1;37m    ^\u001b[0m\n\u001b[1;31mSyntaxError\u001b[0m\u001b[1;31m:\u001b[0m incomplete input\n"
     ]
    }
   ],
   "source": [
    "q=[12,34,5,6,7,8,9,9]\n",
    "r=[]\n",
    "for i in q:\n",
    "    "
   ]
  },
  {
   "cell_type": "code",
   "execution_count": 19,
   "id": "847f1b64-a1d0-48ed-a756-3c05391fb9a2",
   "metadata": {},
   "outputs": [
    {
     "name": "stdout",
     "output_type": "stream",
     "text": [
      "[1, 5, 1, 3, 5, 15]\n"
     ]
    }
   ],
   "source": [
    "n=5\n",
    "m=15\n",
    "l=[]\n",
    "for i in range(1,n+1):\n",
    "    if n%i==0:\n",
    "        l.append(i)\n",
    "for i in range(1,m+1):\n",
    "    if m%i==0:\n",
    "        l.append(i)\n",
    "print(l)"
   ]
  },
  {
   "cell_type": "code",
   "execution_count": 25,
   "id": "defdbe99-b9e8-42df-abff-77df7938785b",
   "metadata": {},
   "outputs": [],
   "source": [
    "def gcd(n, m):\n",
    "    l = []\n",
    "    l1 = []\n",
    "    \n",
    "    # Collect divisors of n\n",
    "    for i in range(1, n+1):\n",
    "        if n % i == 0:\n",
    "            l.append(i)\n",
    "    \n",
    "    # Collect divisors of m\n",
    "    for i in range(1, m+1):\n",
    "        if m % i == 0:\n",
    "            l1.append(i)\n",
    "    \n",
    "    # Find common divisors\n",
    "    common_divisors = []\n",
    "    for i in l1:\n",
    "        if i in l:\n",
    "            common_divisors.append(i)\n",
    "    \n",
    "    # Return the greatest common divisor (largest value in the common divisors list)\n",
    "    return common_divisors"
   ]
  },
  {
   "cell_type": "code",
   "execution_count": 29,
   "id": "a03c2af9-c5cd-4ce7-9094-eddccbdcd4ea",
   "metadata": {},
   "outputs": [
    {
     "data": {
      "text/plain": [
       "[1, 3]"
      ]
     },
     "execution_count": 29,
     "metadata": {},
     "output_type": "execute_result"
    }
   ],
   "source": [
    "gcd(75,36)"
   ]
  },
  {
   "cell_type": "code",
   "execution_count": null,
   "id": "b6e54c0f-2747-4ecb-8882-55cafcdebc85",
   "metadata": {},
   "outputs": [],
   "source": []
  }
 ],
 "metadata": {
  "kernelspec": {
   "display_name": "Python 3 (ipykernel)",
   "language": "python",
   "name": "python3"
  },
  "language_info": {
   "codemirror_mode": {
    "name": "ipython",
    "version": 3
   },
   "file_extension": ".py",
   "mimetype": "text/x-python",
   "name": "python",
   "nbconvert_exporter": "python",
   "pygments_lexer": "ipython3",
   "version": "3.12.4"
  }
 },
 "nbformat": 4,
 "nbformat_minor": 5
}
