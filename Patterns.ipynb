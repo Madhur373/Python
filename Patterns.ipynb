{
 "cells": [
  {
   "cell_type": "raw",
   "id": "ff3b7d2a-adf2-43fb-bdd6-ec4ddedfdca4",
   "metadata": {},
   "source": [
    "PATTERNS"
   ]
  },
  {
   "cell_type": "code",
   "execution_count": 8,
   "id": "1070196e-8eee-4db8-87aa-ca65c74eeaa7",
   "metadata": {},
   "outputs": [
    {
     "name": "stdin",
     "output_type": "stream",
     "text": [
      " 6\n"
     ]
    },
    {
     "name": "stdout",
     "output_type": "stream",
     "text": [
      "xxxxxx\n",
      "xxxxxx\n",
      "xxxxxx\n",
      "xxxxxx\n",
      "xxxxxx\n",
      "xxxxxx\n"
     ]
    }
   ],
   "source": [
    "#square\n",
    "n=int(input())\n",
    "for i in range(n):\n",
    "    for j in range(n):\n",
    "        print(\"x\",end='')\n",
    "    print()\n",
    "        "
   ]
  },
  {
   "cell_type": "code",
   "execution_count": 17,
   "id": "b22b2043-a720-4328-b19d-2b3a1c5852e2",
   "metadata": {},
   "outputs": [
    {
     "name": "stdin",
     "output_type": "stream",
     "text": [
      " 8\n"
     ]
    },
    {
     "name": "stdout",
     "output_type": "stream",
     "text": [
      "xxxxxxxx\n",
      "x      x\n",
      "x      x\n",
      "x      x\n",
      "x      x\n",
      "x      x\n",
      "x      x\n",
      "xxxxxxxx\n"
     ]
    }
   ],
   "source": [
    "#hollow sqaure\n",
    "size=int(input())\n",
    "for i in range(size):\n",
    "    for j in range(size):\n",
    "        if i==0 or j==0 or i==size-1 or j==size-1:\n",
    "            print(\"x\",end=\"\")\n",
    "        else:\n",
    "            print(\" \",end=\"\")\n",
    "    print()\n",
    "        "
   ]
  },
  {
   "cell_type": "code",
   "execution_count": 35,
   "id": "8ff77168-c379-47b1-96a4-147095d2fae8",
   "metadata": {},
   "outputs": [
    {
     "name": "stdin",
     "output_type": "stream",
     "text": [
      " 9\n"
     ]
    },
    {
     "name": "stdout",
     "output_type": "stream",
     "text": [
      "\n",
      "* \n",
      "* * \n",
      "* * * \n",
      "* * * * \n",
      "* * * * * \n",
      "* * * * * * \n",
      "* * * * * * * \n",
      "* * * * * * * * \n",
      "* * * * * * * * * \n"
     ]
    }
   ],
   "source": [
    "n=int(input())\n",
    "for i in range(n+1):\n",
    "    for j in range(i):\n",
    "        print(\"*\",end=\" \")\n",
    "    print()\n",
    "        "
   ]
  },
  {
   "cell_type": "code",
   "execution_count": 55,
   "id": "b07d1ae6-c8cf-42cd-857c-981151fe2181",
   "metadata": {},
   "outputs": [
    {
     "name": "stdin",
     "output_type": "stream",
     "text": [
      " 8\n"
     ]
    },
    {
     "name": "stdout",
     "output_type": "stream",
     "text": [
      "1 1 1 1 1 1 1 1 \n",
      "0 1 1 1 1 1 1 1 \n",
      "0 0 1 1 1 1 1 1 \n",
      "0 0 0 1 1 1 1 1 \n",
      "0 0 0 0 1 1 1 1 \n",
      "0 0 0 0 0 1 1 1 \n",
      "0 0 0 0 0 0 1 1 \n",
      "0 0 0 0 0 0 0 1 \n"
     ]
    }
   ],
   "source": [
    "n=int(input())\n",
    "for i in range(n):\n",
    "    for j in range(i):\n",
    "        print(\"0\",end=\" \")\n",
    "    for j in range(n-i):\n",
    "        print(\"1\",end=\" \")\n",
    "    print()\n",
    "        "
   ]
  },
  {
   "cell_type": "code",
   "execution_count": 60,
   "id": "b17ed98e-7674-40ee-a8c6-297ed839142b",
   "metadata": {},
   "outputs": [
    {
     "name": "stdin",
     "output_type": "stream",
     "text": [
      " 6\n"
     ]
    },
    {
     "name": "stdout",
     "output_type": "stream",
     "text": [
      "0 0 0 0 0 1 \n",
      "0 0 0 0 1 1 \n",
      "0 0 0 1 1 1 \n",
      "0 0 1 1 1 1 \n",
      "0 1 1 1 1 1 \n",
      "1 1 1 1 1 1 \n"
     ]
    }
   ],
   "source": [
    "n=int(input())\n",
    "for i in range(n):\n",
    "    for j in range(1,n-i):\n",
    "        print(\"0\",end=\" \")\n",
    "    for j in range(i+1):\n",
    "        print(\"1\",end=\" \")\n",
    "    print()\n",
    "        "
   ]
  },
  {
   "cell_type": "code",
   "execution_count": 39,
   "id": "db06876a-770f-4c24-b51f-c600653fffc4",
   "metadata": {},
   "outputs": [
    {
     "name": "stdin",
     "output_type": "stream",
     "text": [
      " 7\n"
     ]
    },
    {
     "name": "stdout",
     "output_type": "stream",
     "text": [
      "* * * * * * * \n",
      "* * * * * * \n",
      "* * * * * \n",
      "* * * * \n",
      "* * * \n",
      "* * \n",
      "* \n",
      "\n"
     ]
    }
   ],
   "source": [
    "n=int(input())\n",
    "for i in range(n+1):\n",
    "    for j in range(n-i):\n",
    "        print(\"*\",end=\" \")\n",
    "    print()\n",
    "        "
   ]
  },
  {
   "cell_type": "code",
   "execution_count": 42,
   "id": "1bd772fb-3f99-44c0-af51-51d075266170",
   "metadata": {},
   "outputs": [
    {
     "name": "stdin",
     "output_type": "stream",
     "text": [
      " 3\n"
     ]
    },
    {
     "name": "stdout",
     "output_type": "stream",
     "text": [
      "xxx\n",
      "xx\n",
      "x\n"
     ]
    }
   ],
   "source": [
    "n=int(input())\n",
    "i=n\n",
    "j=0\n",
    "while i>0:\n",
    "    while j<i:\n",
    "        print(\"x\",end=\"\")\n",
    "        j=j+1\n",
    "    j=0\n",
    "    i=i-1\n",
    "    print()\n",
    "    \n",
    "    \n",
    "    "
   ]
  },
  {
   "cell_type": "code",
   "execution_count": 87,
   "id": "7d2265ee-1b8d-41f4-a5f0-934223d12c2e",
   "metadata": {},
   "outputs": [
    {
     "name": "stdin",
     "output_type": "stream",
     "text": [
      " 8\n"
     ]
    },
    {
     "name": "stdout",
     "output_type": "stream",
     "text": [
      "*\n",
      "**\n",
      "*0*\n",
      "*00*\n",
      "*000*\n",
      "*0000*\n",
      "*00000*\n",
      "********\n"
     ]
    }
   ],
   "source": [
    "n=int(input())\n",
    "for i in range(1,n+1):\n",
    "    for j in range(i):\n",
    "        if j==0 or j==i-1:\n",
    "            print(\"*\",end=\"\")\n",
    "        else:\n",
    "            if i!=n:\n",
    "                print(\"0\", end=\"\")\n",
    "            else:\n",
    "                print(\"*\",end=\"\")\n",
    "    print()"
   ]
  },
  {
   "cell_type": "code",
   "execution_count": 7,
   "id": "f18e0248-c213-4624-bd12-a13d8eda64de",
   "metadata": {},
   "outputs": [
    {
     "name": "stdout",
     "output_type": "stream",
     "text": [
      "  \n",
      " *\n",
      "***\n"
     ]
    }
   ],
   "source": [
    "n=3\n",
    "for i in range(n):\n",
    "    for j in range(n-i-1):\n",
    "        print(\" \",end=\"\")\n",
    "    for k in range(2*i-1):\n",
    "        print(\"*\",end=\"\")\n",
    "    print()"
   ]
  },
  {
   "cell_type": "code",
   "execution_count": 6,
   "id": "c05c7538-32be-480f-a3e2-e8debc7a3d8a",
   "metadata": {},
   "outputs": [
    {
     "name": "stdout",
     "output_type": "stream",
     "text": [
      "  *\n",
      " ***\n",
      "*****\n"
     ]
    }
   ],
   "source": [
    "n = 3\n",
    "for i in range(n):\n",
    "    for j in range(n-i-1):\n",
    "        print(\" \", end=\"\")   # Print spaces\n",
    "    for k in range(2*i+1):   # Corrected this loop to print stars\n",
    "        print(\"*\", end=\"\")   # Print stars\n",
    "    print()  "
   ]
  },
  {
   "cell_type": "code",
   "execution_count": 38,
   "id": "ccc56630-74ca-4394-8f1f-820227a33d50",
   "metadata": {},
   "outputs": [
    {
     "name": "stdout",
     "output_type": "stream",
     "text": [
      "  *\n",
      " ***\n",
      "*****\n",
      "*****\n",
      " *** \n",
      "  *  \n"
     ]
    }
   ],
   "source": [
    "n =3\n",
    "for i in range(n):\n",
    "    for j in range(n-i-1):\n",
    "        print(\" \", end=\"\")   # Print spaces\n",
    "    for k in range(2*i+1):   # Corrected this loop to print stars\n",
    "        print(\"*\", end=\"\")\n",
    "    print()\n",
    "n=3\n",
    "for i in range(n,0,-1):\n",
    "    print(\" \"*(n-i)+\"*\"*(2*i-1)+\" \"*(n-i))"
   ]
  },
  {
   "cell_type": "code",
   "execution_count": 62,
   "id": "842bc331-ab4a-4523-9439-13cfa817b0c6",
   "metadata": {},
   "outputs": [
    {
     "name": "stdin",
     "output_type": "stream",
     "text": [
      " 5\n"
     ]
    },
    {
     "name": "stdout",
     "output_type": "stream",
     "text": [
      "....x....\n",
      "...xxx...\n",
      "..xxxxx..\n",
      ".xxxxxxx.\n",
      "xxxxxxxxx\n",
      ".xxxxxxx.\n",
      "..xxxxx..\n",
      "...xxx...\n",
      "....x....\n"
     ]
    }
   ],
   "source": [
    "n=int(input())\n",
    "for i in range(1,n):\n",
    "    print(\".\"*(n-i)+\"x\"*(2*i-1)+\".\"*(n-i))\n",
    "for i in range(n,0,-1):\n",
    "    print(\".\"*(n-i)+\"x\"*(2*i-1)+\".\"*(n-i))"
   ]
  },
  {
   "cell_type": "code",
   "execution_count": 66,
   "id": "23508425-23c9-4c0b-89dc-50250b179ec9",
   "metadata": {},
   "outputs": [
    {
     "name": "stdin",
     "output_type": "stream",
     "text": [
      " 3\n"
     ]
    },
    {
     "name": "stdout",
     "output_type": "stream",
     "text": [
      "['  *  ', ' *** ', '*****', ' *** ', '  *  ']\n"
     ]
    }
   ],
   "source": [
    "n=int(input())\n",
    "lis=[]\n",
    "for i in range(1,n):\n",
    "    lis.append(\" \"*(n-i)+\"*\"*(2*i-1)+\" \"*(n-i))\n",
    "for i in range(n,0,-1):\n",
    "    lis.append(\" \"*(n-i)+\"*\"*(2*i-1)+\" \"*(n-i))\n",
    "print(lis)"
   ]
  },
  {
   "cell_type": "code",
   "execution_count": 74,
   "id": "d95323d4-24a0-4846-95e9-644cbcdbecc5",
   "metadata": {},
   "outputs": [
    {
     "name": "stdout",
     "output_type": "stream",
     "text": [
      "000 1\n",
      "00 11\n",
      "0 111\n",
      " 1111\n"
     ]
    }
   ],
   "source": [
    "n=4\n",
    "for i in range(1,n+1):\n",
    "    print(\"0\"*(n-i),\"1\"*i)\n"
   ]
  },
  {
   "cell_type": "code",
   "execution_count": 78,
   "id": "01429240-ace2-4830-9e21-4f8fc57db8c6",
   "metadata": {},
   "outputs": [
    {
     "name": "stdout",
     "output_type": "stream",
     "text": [
      "['   *', '  **', ' ***', '****']\n"
     ]
    }
   ],
   "source": [
    "lis=[]\n",
    "n=4\n",
    "for i in range(1,n+1):\n",
    "    lis.append(\" \" *(n-i) +\"*\"*i)\n",
    "print(lis)"
   ]
  },
  {
   "cell_type": "code",
   "execution_count": 92,
   "id": "4d818482-0f1d-48ae-bd36-834511025bf7",
   "metadata": {},
   "outputs": [
    {
     "name": "stdout",
     "output_type": "stream",
     "text": [
      "['*****', ' *** ', '  *  ', '  *  ', ' *** ', '*****']\n"
     ]
    }
   ],
   "source": [
    "lis=[]\n",
    "n=3\n",
    "for i in range(n,0,-1):\n",
    "    d=\"\".join(\" \"*(n-i)+\"*\"*(2*i-1)+\" \"*(n-i))\n",
    "    lis.append(d)\n",
    "for i in range(1,n+1):\n",
    "    e=\"\".join(\" \"*(n-i)+\"*\"*(2*i-1)+\" \"*(n-i))\n",
    "    lis.append(e)\n",
    "print(lis)"
   ]
  },
  {
   "cell_type": "code",
   "execution_count": 96,
   "id": "a97f6406-c640-458f-b773-c8fa7e933827",
   "metadata": {},
   "outputs": [
    {
     "name": "stdout",
     "output_type": "stream",
     "text": [
      "0\n",
      "1\n",
      "2\n",
      "\n",
      "0\n",
      "1\n",
      "2\n",
      "\n",
      "0\n",
      "1\n",
      "2\n",
      "\n"
     ]
    }
   ],
   "source": [
    "for i in range(3):\n",
    "    for i in range(3):\n",
    "        print(i)\n",
    "    print()"
   ]
  },
  {
   "cell_type": "code",
   "execution_count": 124,
   "id": "6c7cc767-832d-4dc0-a249-64bd180bad2d",
   "metadata": {},
   "outputs": [
    {
     "name": "stdout",
     "output_type": "stream",
     "text": [
      "0\n",
      "00\n",
      "070\n",
      "0770\n",
      "00000\n"
     ]
    }
   ],
   "source": [
    "n=5\n",
    "for i in range(1,n+1):\n",
    "    for j in range(1,i+1):\n",
    "        if i==1 or j==1 or i==j or i==n:\n",
    "            print(0,end=\"\")\n",
    "        else:\n",
    "            print(7,end=\"\")\n",
    "    print()"
   ]
  },
  {
   "cell_type": "code",
   "execution_count": 138,
   "id": "bee44c65-b55f-4ea8-8cf1-5cdc16103394",
   "metadata": {},
   "outputs": [
    {
     "name": "stdout",
     "output_type": "stream",
     "text": [
      "['', '', '', '', '']\n"
     ]
    }
   ],
   "source": [
    " lis=[]\n",
    "    \n",
    "for i in range(1,n+1):\n",
    "    k=\"\"\n",
    "    for j in range(1,i+1):\n",
    "        \n",
    "        if i==1 or j==1 or i==j or i==n:\n",
    "            k.join(\"*\")\n",
    "        \n",
    "        else:\n",
    "            k.join(\" \")\n",
    "    lis.append(k)\n",
    "print(lis)"
   ]
  },
  {
   "cell_type": "code",
   "execution_count": 150,
   "id": "f16fdcab-3f36-4364-b74e-ad983ab47e43",
   "metadata": {},
   "outputs": [
    {
     "name": "stdout",
     "output_type": "stream",
     "text": [
      "\n",
      "1\n",
      "12\n",
      "123\n"
     ]
    }
   ],
   "source": [
    "n=5\n",
    "for i in range(1,n):\n",
    "    for j in range(1,i):\n",
    "        print(j,end=\"\")\n",
    "    print()"
   ]
  },
  {
   "cell_type": "code",
   "execution_count": null,
   "id": "3b4d7e46-c32f-4cb5-8490-17c3432c2b20",
   "metadata": {},
   "outputs": [],
   "source": []
  }
 ],
 "metadata": {
  "kernelspec": {
   "display_name": "Python 3 (ipykernel)",
   "language": "python",
   "name": "python3"
  },
  "language_info": {
   "codemirror_mode": {
    "name": "ipython",
    "version": 3
   },
   "file_extension": ".py",
   "mimetype": "text/x-python",
   "name": "python",
   "nbconvert_exporter": "python",
   "pygments_lexer": "ipython3",
   "version": "3.12.4"
  }
 },
 "nbformat": 4,
 "nbformat_minor": 5
}
