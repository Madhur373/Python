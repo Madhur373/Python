{
 "cells": [
  {
   "cell_type": "code",
   "execution_count": 1,
   "id": "b1cc2183-dbc5-41d0-b57d-fcd979188191",
   "metadata": {},
   "outputs": [],
   "source": [
    "def even_or_odd(a):\n",
    "    if a%2==0:\n",
    "        print(\"EVEN\")\n",
    "    else:\n",
    "        print(\"ODD\")"
   ]
  },
  {
   "cell_type": "code",
   "execution_count": 3,
   "id": "d66b687e-f172-47ba-99de-fdba7bd88541",
   "metadata": {},
   "outputs": [
    {
     "name": "stdout",
     "output_type": "stream",
     "text": [
      "EVEN\n"
     ]
    }
   ],
   "source": [
    "even_or_odd(8)"
   ]
  },
  {
   "cell_type": "code",
   "execution_count": 5,
   "id": "f02fbd85-a0f0-4afc-8bc7-cdfc8485e3e7",
   "metadata": {},
   "outputs": [
    {
     "name": "stdout",
     "output_type": "stream",
     "text": [
      "ODD\n"
     ]
    }
   ],
   "source": [
    "even_or_odd(9)"
   ]
  },
  {
   "cell_type": "code",
   "execution_count": 7,
   "id": "e0532c16-033d-4963-956c-d34aa9d6902e",
   "metadata": {},
   "outputs": [
    {
     "name": "stdout",
     "output_type": "stream",
     "text": [
      "ODD\n"
     ]
    }
   ],
   "source": [
    "even_or_odd(97)\n"
   ]
  },
  {
   "cell_type": "code",
   "execution_count": 9,
   "id": "1c2f6c07-53d8-4750-9bd0-fcb0f9e08206",
   "metadata": {},
   "outputs": [],
   "source": [
    "def add(a,b):\n",
    "    print(a+b)"
   ]
  },
  {
   "cell_type": "code",
   "execution_count": 9,
   "id": "a40ce5fd-164d-4c8d-90d6-482bbd63bea6",
   "metadata": {},
   "outputs": [],
   "source": [
    "def add(a,b):\n",
    "    return(a+b)"
   ]
  },
  {
   "cell_type": "code",
   "execution_count": 15,
   "id": "f6aec335-2fa0-4529-9710-99b3268b55bc",
   "metadata": {},
   "outputs": [
    {
     "name": "stdout",
     "output_type": "stream",
     "text": [
      "5\n"
     ]
    }
   ],
   "source": [
    "add(2,3)"
   ]
  },
  {
   "cell_type": "code",
   "execution_count": 32,
   "id": "aab4a4a1-eebe-4089-a911-f8cdb74c6130",
   "metadata": {},
   "outputs": [],
   "source": [
    "def greet(name=\"User\"):\n",
    "    print(f\"Helloo,{name}\")"
   ]
  },
  {
   "cell_type": "code",
   "execution_count": 36,
   "id": "334f6918-8361-4201-a34c-1eb4de430e1b",
   "metadata": {},
   "outputs": [
    {
     "name": "stdout",
     "output_type": "stream",
     "text": [
      "Helloo,Madhur\n"
     ]
    }
   ],
   "source": [
    "greet(\"Madhur\")"
   ]
  },
  {
   "cell_type": "code",
   "execution_count": 34,
   "id": "2a858104-695f-4be8-a51d-72ffc0922a23",
   "metadata": {},
   "outputs": [
    {
     "name": "stdout",
     "output_type": "stream",
     "text": [
      "Helloo,User\n"
     ]
    }
   ],
   "source": [
    "greet()"
   ]
  },
  {
   "cell_type": "code",
   "execution_count": 42,
   "id": "79988546-c7e6-4e5b-979a-823ef1e49609",
   "metadata": {},
   "outputs": [],
   "source": [
    "def position(*args):\n",
    "    for i in args:\n",
    "        print(i)"
   ]
  },
  {
   "cell_type": "code",
   "execution_count": 46,
   "id": "71eef0c1-5d6d-49c8-b7bd-e941e9725ecb",
   "metadata": {},
   "outputs": [
    {
     "name": "stdout",
     "output_type": "stream",
     "text": [
      "1\n",
      "2\n",
      "3\n",
      "4\n",
      "5\n",
      "6\n",
      "7\n",
      "7\n",
      "8\n",
      "6\n",
      "5\n",
      "4\n",
      "3\n",
      "2\n",
      "12\n",
      "1\n",
      "1\n",
      "3\n",
      "54\n",
      "5\n",
      "6\n"
     ]
    }
   ],
   "source": [
    "position(1,2,3,4,5,6,7,7,8,6,5,4,3,2,12,1,1,3,54,5,6)"
   ]
  },
  {
   "cell_type": "code",
   "execution_count": 76,
   "id": "365bd839-8d10-4e8b-898b-cabd64fd7719",
   "metadata": {},
   "outputs": [],
   "source": [
    "def key_word(*arg, **kwargs):\n",
    "    for valu in arg:\n",
    "        print(f\"{valu}is a pos arg\")\n",
    "    for key,value in kwargs.items():\n",
    "        print(f\"{key} is key and {value} is value\")"
   ]
  },
  {
   "cell_type": "code",
   "execution_count": 78,
   "id": "b852d8c6-d51e-4549-af77-f95de6946bbe",
   "metadata": {},
   "outputs": [
    {
     "name": "stdout",
     "output_type": "stream",
     "text": [
      "1is a pos arg\n",
      "2is a pos arg\n",
      "3is a pos arg\n",
      "4is a pos arg\n",
      "5is a pos arg\n",
      "6is a pos arg\n",
      "7is a pos arg\n",
      "7is a pos arg\n",
      "8is a pos arg\n",
      "6is a pos arg\n",
      "5is a pos arg\n",
      "4is a pos arg\n",
      "3is a pos arg\n",
      "2is a pos arg\n",
      "12is a pos arg\n",
      "1is a pos arg\n",
      "1is a pos arg\n",
      "3is a pos arg\n",
      "54is a pos arg\n",
      "5is a pos arg\n",
      "name is key and rjrj is value\n",
      "game is key and rejurrrr is value\n"
     ]
    }
   ],
   "source": [
    "key_word(1,2,3,4,5,6,7,7,8,6,5,4,3,2,12,1,1,3,54,5,name=\"rjrj\",game=\"rejurrrr\")"
   ]
  },
  {
   "cell_type": "code",
   "execution_count": 94,
   "id": "1c25f685-c9c6-4f37-9d39-2dc3c999b949",
   "metadata": {},
   "outputs": [],
   "source": [
    "def conversion(temp,unit):\n",
    "    if unit==\"C\":\n",
    "        return str(temp*9/5+32) +\" F\"\n",
    "    elif unit==\"F\":\n",
    "        return str((temp-32)*5/9 )+\" C\"\n",
    "    else:\n",
    "        return None\n",
    "        \n",
    "    "
   ]
  },
  {
   "cell_type": "code",
   "execution_count": 92,
   "id": "59ec07d9-642a-4342-b0ba-d61bbcd16d6a",
   "metadata": {},
   "outputs": [
    {
     "data": {
      "text/plain": [
       "'1.1111111111111112C'"
      ]
     },
     "execution_count": 92,
     "metadata": {},
     "output_type": "execute_result"
    }
   ],
   "source": [
    "conversion(34,\"F\")"
   ]
  },
  {
   "cell_type": "code",
   "execution_count": 96,
   "id": "1925c98d-1b76-4f9e-b368-3f893e2a62e1",
   "metadata": {},
   "outputs": [
    {
     "data": {
      "text/plain": [
       "'93.2 F'"
      ]
     },
     "execution_count": 96,
     "metadata": {},
     "output_type": "execute_result"
    }
   ],
   "source": [
    "conversion(34,\"C\")"
   ]
  },
  {
   "cell_type": "code",
   "execution_count": 102,
   "id": "33d5aebe-9643-4b1a-85eb-f1c70c6558a6",
   "metadata": {},
   "outputs": [
    {
     "name": "stdout",
     "output_type": "stream",
     "text": [
      "48.888888888888886 C\n"
     ]
    }
   ],
   "source": [
    "print(conversion(120,\"F\"))"
   ]
  },
  {
   "cell_type": "code",
   "execution_count": 2,
   "id": "d06b09be-e56b-44fc-982e-f2ca83df21ed",
   "metadata": {},
   "outputs": [],
   "source": [
    "#lambda\n",
    "d=lambda a,b,c:a+b+c"
   ]
  },
  {
   "cell_type": "code",
   "execution_count": 6,
   "id": "698a002b-4946-4c98-8596-97662cb5df12",
   "metadata": {},
   "outputs": [
    {
     "data": {
      "text/plain": [
       "6"
      ]
     },
     "execution_count": 6,
     "metadata": {},
     "output_type": "execute_result"
    }
   ],
   "source": [
    "d(1,2,3)"
   ]
  },
  {
   "cell_type": "code",
   "execution_count": 50,
   "id": "34a6e6aa-0898-4c81-b709-87ee0ed11c54",
   "metadata": {},
   "outputs": [],
   "source": [
    "arr=[1,2,3,4,5,7]\n",
    "k=lambda x:x**2\n",
    "k2=list(map(k,arr))"
   ]
  },
  {
   "cell_type": "code",
   "execution_count": 52,
   "id": "9a58c53a-e61c-4db6-b5ea-0f6738f49df7",
   "metadata": {},
   "outputs": [
    {
     "data": {
      "text/plain": [
       "[1, 4, 9, 16, 25, 49]"
      ]
     },
     "execution_count": 52,
     "metadata": {},
     "output_type": "execute_result"
    }
   ],
   "source": [
    "k2"
   ]
  },
  {
   "cell_type": "code",
   "execution_count": 54,
   "id": "0c209310-2961-4094-8ec0-9d0bb7fdc901",
   "metadata": {},
   "outputs": [
    {
     "data": {
      "text/plain": [
       "<function __main__.<lambda>(x)>"
      ]
     },
     "execution_count": 54,
     "metadata": {},
     "output_type": "execute_result"
    }
   ],
   "source": [
    "k"
   ]
  },
  {
   "cell_type": "code",
   "execution_count": 56,
   "id": "899cd11d-36d6-411e-8659-3cd305218d4c",
   "metadata": {},
   "outputs": [
    {
     "data": {
      "text/plain": [
       "<function __main__.<lambda>(x)>"
      ]
     },
     "execution_count": 56,
     "metadata": {},
     "output_type": "execute_result"
    }
   ],
   "source": [
    "k"
   ]
  },
  {
   "cell_type": "code",
   "execution_count": 18,
   "id": "694c0391-0dac-4baf-a4ce-731f222972bb",
   "metadata": {},
   "outputs": [
    {
     "name": "stdin",
     "output_type": "stream",
     "text": [
      " 123445\n"
     ]
    }
   ],
   "source": [
    "k2=list(map(int, input()))"
   ]
  },
  {
   "cell_type": "code",
   "execution_count": 38,
   "id": "93731138-0e43-4275-9a1c-00349a544e43",
   "metadata": {},
   "outputs": [
    {
     "ename": "TypeError",
     "evalue": "'list' object is not callable",
     "output_type": "error",
     "traceback": [
      "\u001b[1;31m---------------------------------------------------------------------------\u001b[0m",
      "\u001b[1;31mTypeError\u001b[0m                                 Traceback (most recent call last)",
      "Cell \u001b[1;32mIn[38], line 1\u001b[0m\n\u001b[1;32m----> 1\u001b[0m k2\u001b[38;5;241m=\u001b[39m\u001b[38;5;28mlist\u001b[39m(\u001b[38;5;28mmap\u001b[39m(k,arr))\n",
      "\u001b[1;31mTypeError\u001b[0m: 'list' object is not callable"
     ]
    }
   ],
   "source": [
    "k2=list(map(k,arr))"
   ]
  },
  {
   "cell_type": "code",
   "execution_count": 20,
   "id": "dcea9eb4-d884-47a7-b30f-3b969f7f41f8",
   "metadata": {},
   "outputs": [
    {
     "data": {
      "text/plain": [
       "[1, 2, 3, 4, 4, 5]"
      ]
     },
     "execution_count": 20,
     "metadata": {},
     "output_type": "execute_result"
    }
   ],
   "source": [
    "k2"
   ]
  },
  {
   "cell_type": "code",
   "execution_count": 22,
   "id": "22702bac-198f-45b4-8dde-be5446063b21",
   "metadata": {},
   "outputs": [],
   "source": [
    "k2=list(map(int, \"1234567\"))"
   ]
  },
  {
   "cell_type": "code",
   "execution_count": 30,
   "id": "1f93a79c-2555-46d2-a385-304669dfa12d",
   "metadata": {},
   "outputs": [],
   "source": [
    "k2=list(map(str, \"qwertyuio rfghj\"))"
   ]
  },
  {
   "cell_type": "code",
   "execution_count": 42,
   "id": "ab8c9061-6bb0-4e4f-b473-9edf3eafc520",
   "metadata": {},
   "outputs": [
    {
     "ename": "NameError",
     "evalue": "name 'list' is not defined",
     "output_type": "error",
     "traceback": [
      "\u001b[1;31m---------------------------------------------------------------------------\u001b[0m",
      "\u001b[1;31mNameError\u001b[0m                                 Traceback (most recent call last)",
      "Cell \u001b[1;32mIn[42], line 1\u001b[0m\n\u001b[1;32m----> 1\u001b[0m \u001b[38;5;28;01mdel\u001b[39;00m \u001b[38;5;28mlist\u001b[39m\n",
      "\u001b[1;31mNameError\u001b[0m: name 'list' is not defined"
     ]
    }
   ],
   "source": [
    "del list\n"
   ]
  },
  {
   "cell_type": "code",
   "execution_count": 46,
   "id": "7f7328e0-511c-44ad-896e-013b8dd3685b",
   "metadata": {},
   "outputs": [
    {
     "ename": "TypeError",
     "evalue": "'list' object is not callable",
     "output_type": "error",
     "traceback": [
      "\u001b[1;31m---------------------------------------------------------------------------\u001b[0m",
      "\u001b[1;31mTypeError\u001b[0m                                 Traceback (most recent call last)",
      "Cell \u001b[1;32mIn[46], line 1\u001b[0m\n\u001b[1;32m----> 1\u001b[0m k2\u001b[38;5;241m=\u001b[39m\u001b[38;5;28mlist\u001b[39m(\u001b[38;5;28mmap\u001b[39m(k,arr))\n",
      "\u001b[1;31mTypeError\u001b[0m: 'list' object is not callable"
     ]
    }
   ],
   "source": []
  },
  {
   "cell_type": "code",
   "execution_count": 32,
   "id": "3a2f5193-ae6b-41c3-842e-fca15840c762",
   "metadata": {},
   "outputs": [
    {
     "data": {
      "text/plain": [
       "['q', 'w', 'e', 'r', 't', 'y', 'u', 'i', 'o', ' ', 'r', 'f', 'g', 'h', 'j']"
      ]
     },
     "execution_count": 32,
     "metadata": {},
     "output_type": "execute_result"
    }
   ],
   "source": [
    "k2"
   ]
  },
  {
   "cell_type": "code",
   "execution_count": 64,
   "id": "bd44b0e3-9735-4339-aab3-84684235994c",
   "metadata": {},
   "outputs": [],
   "source": [
    "list6=[1,2,3,4,5,6,7,8,9]\n",
    "fun=list(map(lambda x:x**x,list6))\n"
   ]
  },
  {
   "cell_type": "code",
   "execution_count": 66,
   "id": "debca202-0c20-4966-9eda-b1fe13a11023",
   "metadata": {},
   "outputs": [
    {
     "data": {
      "text/plain": [
       "[1, 4, 27, 256, 3125, 46656, 823543, 16777216, 387420489]"
      ]
     },
     "execution_count": 66,
     "metadata": {},
     "output_type": "execute_result"
    }
   ],
   "source": [
    "fun\n"
   ]
  },
  {
   "cell_type": "code",
   "execution_count": 72,
   "id": "8d62b2f2-a333-431e-983e-d6939f38b71a",
   "metadata": {},
   "outputs": [
    {
     "name": "stdout",
     "output_type": "stream",
     "text": [
      "[2, 4, 6, 8, 10]\n"
     ]
    }
   ],
   "source": [
    "#map multiple \n",
    "\"\"\"\n",
    "m=[1,2,3,4,5]\n",
    "n=[1,2,3,4,5]\n",
    "x=[]\n",
    "for i,j in m,n:\n",
    "    k=(i+j)\n",
    "    x.append(i+j)\n",
    "\"\"\"\n",
    "m = [1, 2, 3, 4, 5]\n",
    "n = [1, 2, 3, 4, 5]\n",
    "x = []\n",
    "\n",
    "# Use zip to loop over both lists together\n",
    "for i, j in zip(m, n):\n",
    "    k = i + j  # Sum of corresponding elements\n",
    "    x.append(k)  # Append the sum to list x\n",
    "\n",
    "print(x)"
   ]
  },
  {
   "cell_type": "code",
   "execution_count": 74,
   "id": "43e7e867-dcc5-4669-9104-91b58d925639",
   "metadata": {},
   "outputs": [
    {
     "name": "stdout",
     "output_type": "stream",
     "text": [
      "(1, 2, 3)\n",
      "(4, 5, 6)\n"
     ]
    }
   ],
   "source": [
    "##unzip\n",
    "\n",
    "zipped = [(1, 4), (2, 5), (3, 6)]\n",
    "m, n = zip(*zipped)\n",
    "\n",
    "print(m)  # Output: (1, 2, 3)\n",
    "\n",
    "print(n)  # Output: (4, 5, 6)"
   ]
  },
  {
   "cell_type": "code",
   "execution_count": 76,
   "id": "0009683f-76a3-4394-a46d-1ca982fcf1ef",
   "metadata": {},
   "outputs": [
    {
     "name": "stdout",
     "output_type": "stream",
     "text": [
      "[(1, 4), (2, 5)]\n"
     ]
    }
   ],
   "source": [
    "m = [1, 2, 3]\n",
    "n = [4, 5]\n",
    "\n",
    "zipped = zip(m, n)\n",
    "\n",
    "print(list(zipped))  # Output: [(1, 4), (2, 5)]"
   ]
  },
  {
   "cell_type": "code",
   "execution_count": 78,
   "id": "78100b43-7829-4519-91e5-c9b84901fa50",
   "metadata": {},
   "outputs": [
    {
     "name": "stdout",
     "output_type": "stream",
     "text": [
      "1 4 7\n",
      "2 5 8\n",
      "3 6 9\n"
     ]
    }
   ],
   "source": [
    "m = [1, 2, 3]\n",
    "n = [4, 5, 6]\n",
    "o = [7, 8, 9]\n",
    "\n",
    "for i, j, k in zip(m, n, o):\n",
    "    print(i, j, k)\n",
    "\n",
    "# Output:\n",
    "# 1 4 7\n",
    "# 2 5 8\n",
    "# 3 6 9"
   ]
  },
  {
   "cell_type": "code",
   "execution_count": 82,
   "id": "a3e43e4c-58a5-4232-8a01-96e096f7e785",
   "metadata": {},
   "outputs": [],
   "source": [
    "m = [1, 2, 3]\n",
    "n = [4, 5, 6]\n",
    "for i in range(len(m)):\n",
    "    n[i]=n[i]+m[i]"
   ]
  },
  {
   "cell_type": "code",
   "execution_count": 84,
   "id": "00ac9c2c-6e94-4a14-90ee-f3e7dee88d64",
   "metadata": {},
   "outputs": [
    {
     "data": {
      "text/plain": [
       "[5, 7, 9]"
      ]
     },
     "execution_count": 84,
     "metadata": {},
     "output_type": "execute_result"
    }
   ],
   "source": [
    "n"
   ]
  },
  {
   "cell_type": "code",
   "execution_count": 94,
   "id": "d8ad59ef-6e0a-4f24-a1df-ecc252f6df1d",
   "metadata": {},
   "outputs": [],
   "source": [
    "m = [1, 2, 3]\n",
    "n = [4, 5, 6]\n",
    "m4=list()\n",
    "o=list(map(lambda x,y:x+y,m,n))"
   ]
  },
  {
   "cell_type": "code",
   "execution_count": 96,
   "id": "a825c489-37c3-4b87-b649-c215fa613a1d",
   "metadata": {},
   "outputs": [
    {
     "data": {
      "text/plain": [
       "[5, 7, 9]"
      ]
     },
     "execution_count": 96,
     "metadata": {},
     "output_type": "execute_result"
    }
   ],
   "source": [
    "o"
   ]
  },
  {
   "cell_type": "code",
   "execution_count": 98,
   "id": "dc78d8c8-c93d-4bab-9d92-75ae3f4a03cf",
   "metadata": {},
   "outputs": [
    {
     "name": "stdout",
     "output_type": "stream",
     "text": [
      "['APPLE', 'BANANA', 'CHERRY']\n"
     ]
    }
   ],
   "source": [
    "words=['apple','banana','cherry']\n",
    "upper_word=list(map(str.upper,words))\n",
    "print(upper_word)"
   ]
  },
  {
   "cell_type": "code",
   "execution_count": 104,
   "id": "d30ccfbc-ad2c-4350-ad05-2ad6f0c40f51",
   "metadata": {},
   "outputs": [
    {
     "name": "stdin",
     "output_type": "stream",
     "text": [
      " 1\n"
     ]
    },
    {
     "name": "stdout",
     "output_type": "stream",
     "text": [
      "['*']\n"
     ]
    }
   ],
   "source": []
  },
  {
   "cell_type": "code",
   "execution_count": 106,
   "id": "c5e5fa6d-ee98-463d-9c95-308cd3636542",
   "metadata": {},
   "outputs": [
    {
     "ename": "SyntaxError",
     "evalue": "invalid syntax (3879646175.py, line 2)",
     "output_type": "error",
     "traceback": [
      "\u001b[1;36m  Cell \u001b[1;32mIn[106], line 2\u001b[1;36m\u001b[0m\n\u001b[1;33m    *   *\u001b[0m\n\u001b[1;37m        ^\u001b[0m\n\u001b[1;31mSyntaxError\u001b[0m\u001b[1;31m:\u001b[0m invalid syntax\n"
     ]
    }
   ],
   "source": [
    "\n",
    "    "
   ]
  },
  {
   "cell_type": "code",
   "execution_count": null,
   "id": "a807dbec-3b30-47f7-bc39-8d51c8d8ac12",
   "metadata": {},
   "outputs": [],
   "source": []
  }
 ],
 "metadata": {
  "kernelspec": {
   "display_name": "Python 3 (ipykernel)",
   "language": "python",
   "name": "python3"
  },
  "language_info": {
   "codemirror_mode": {
    "name": "ipython",
    "version": 3
   },
   "file_extension": ".py",
   "mimetype": "text/x-python",
   "name": "python",
   "nbconvert_exporter": "python",
   "pygments_lexer": "ipython3",
   "version": "3.12.4"
  }
 },
 "nbformat": 4,
 "nbformat_minor": 5
}
