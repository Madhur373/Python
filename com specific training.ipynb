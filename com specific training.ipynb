{
 "cells": [
  {
   "cell_type": "code",
   "execution_count": 57,
   "id": "f08cc0a2-5554-495f-ab6e-1f8c6384e366",
   "metadata": {},
   "outputs": [],
   "source": [
    "#idk some random series"
   ]
  },
  {
   "cell_type": "code",
   "execution_count": 6,
   "id": "2c561e19-8494-4f33-812b-fe6aa568c95b",
   "metadata": {},
   "outputs": [
    {
     "name": "stdin",
     "output_type": "stream",
     "text": [
      " 18\n"
     ]
    },
    {
     "name": "stdout",
     "output_type": "stream",
     "text": [
      "9.0\n",
      "28.0\n",
      "14.0\n",
      "7.0\n",
      "22.0\n",
      "11.0\n",
      "34.0\n",
      "17.0\n",
      "52.0\n",
      "26.0\n",
      "13.0\n",
      "40.0\n",
      "20.0\n",
      "10.0\n",
      "5.0\n",
      "16.0\n",
      "8.0\n",
      "4.0\n",
      "2.0\n",
      "1.0\n"
     ]
    }
   ],
   "source": [
    "o=int(input())\n",
    "while o!=1:\n",
    "    if o%2==0:\n",
    "        o=o/2\n",
    "    else:\n",
    "        o=3*o+1\n",
    "    print(o)"
   ]
  },
  {
   "cell_type": "code",
   "execution_count": null,
   "id": "dde67d52-e529-4c53-bde8-a6d7fae20558",
   "metadata": {},
   "outputs": [],
   "source": [
    "#diagonal"
   ]
  },
  {
   "cell_type": "code",
   "execution_count": 7,
   "id": "4afa318b-c604-4e72-b5f8-c33bfb2c9621",
   "metadata": {},
   "outputs": [
    {
     "name": "stdin",
     "output_type": "stream",
     "text": [
      " 3 4 5 7 87\n"
     ]
    }
   ],
   "source": [
    "p=list(map(int,input().split()))"
   ]
  },
  {
   "cell_type": "code",
   "execution_count": 8,
   "id": "381aeb4b-215d-460b-a235-69f0bd14efcf",
   "metadata": {},
   "outputs": [
    {
     "data": {
      "text/plain": [
       "[3, 4, 5, 7, 87]"
      ]
     },
     "execution_count": 8,
     "metadata": {},
     "output_type": "execute_result"
    }
   ],
   "source": [
    "p"
   ]
  },
  {
   "cell_type": "code",
   "execution_count": 21,
   "id": "b1c3ed38-b9dc-495b-a5c2-8cf6dd4f59dd",
   "metadata": {},
   "outputs": [
    {
     "name": "stdin",
     "output_type": "stream",
     "text": [
      " 1\n",
      " 2\n",
      " 3\n",
      " 4\n",
      " 54\n",
      " 5\n",
      " 6\n",
      " 7\n",
      " 8\n"
     ]
    },
    {
     "name": "stdout",
     "output_type": "stream",
     "text": [
      "[6, 7, 8]\n"
     ]
    }
   ],
   "source": [
    "n=3\n",
    "l=[]\n",
    "for i in range(n):\n",
    "    l1=[]\n",
    "    for j in range(n):\n",
    "        e=int(input())\n",
    "        l1.append(e)\n",
    "    l.append(l1)\n",
    "\n",
    "   \n",
    "    \n",
    "print(ll)\n",
    "        "
   ]
  },
  {
   "cell_type": "code",
   "execution_count": 22,
   "id": "c2b86299-c092-40ac-aa1f-8f90f8f68544",
   "metadata": {},
   "outputs": [
    {
     "data": {
      "text/plain": [
       "[[1, 2, 3], [4, 54, 5], [6, 7, 8]]"
      ]
     },
     "execution_count": 22,
     "metadata": {},
     "output_type": "execute_result"
    }
   ],
   "source": [
    "l"
   ]
  },
  {
   "cell_type": "code",
   "execution_count": 55,
   "id": "9b59fa34-08c5-45cd-ba7c-fe4e39d6249e",
   "metadata": {},
   "outputs": [
    {
     "name": "stdout",
     "output_type": "stream",
     "text": [
      "upper\n"
     ]
    }
   ],
   "source": [
    "l=[[1, 0, 0], [4, 54, 0], [6, 7, 8]]\n",
    "l=[[1, 0, 0], [4, 54, 0], [0, 0,8]]\n",
    "for i in range(n):\n",
    "    \n",
    "    for j in range(n):\n",
    "        if j>i:\n",
    "            if l[i][j]==0:\n",
    "                upper=True\n",
    "            else:\n",
    "                \n",
    "                upper=False\n",
    "if upper==True:\n",
    "    print(\"upper\")\n",
    "else:\n",
    "    print(\"not\")\n",
    "    \n",
    "                \n",
    "        "
   ]
  },
  {
   "cell_type": "code",
   "execution_count": null,
   "id": "1b746864-fa85-4350-8599-4dab7ed5f0b2",
   "metadata": {},
   "outputs": [],
   "source": []
  },
  {
   "cell_type": "code",
   "execution_count": null,
   "id": "6665f08f-fe6f-4a4c-93af-e2a03b910504",
   "metadata": {},
   "outputs": [],
   "source": []
  }
 ],
 "metadata": {
  "kernelspec": {
   "display_name": "Python 3 (ipykernel)",
   "language": "python",
   "name": "python3"
  },
  "language_info": {
   "codemirror_mode": {
    "name": "ipython",
    "version": 3
   },
   "file_extension": ".py",
   "mimetype": "text/x-python",
   "name": "python",
   "nbconvert_exporter": "python",
   "pygments_lexer": "ipython3",
   "version": "3.12.4"
  }
 },
 "nbformat": 4,
 "nbformat_minor": 5
}
