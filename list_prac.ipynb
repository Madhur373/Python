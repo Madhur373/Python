{
 "cells": [
  {
   "cell_type": "code",
   "execution_count": 5,
   "id": "b43325dc-0575-4ed3-871b-a6f1647c16d1",
   "metadata": {},
   "outputs": [],
   "source": [
    "a=[1,2,3,4,5,6,7,8]\n"
   ]
  },
  {
   "cell_type": "code",
   "execution_count": 2,
   "id": "7112d33c-d975-423d-9a1a-121f357d9d92",
   "metadata": {},
   "outputs": [
    {
     "data": {
      "text/plain": [
       "8"
      ]
     },
     "execution_count": 2,
     "metadata": {},
     "output_type": "execute_result"
    }
   ],
   "source": [
    "len(l)"
   ]
  },
  {
   "cell_type": "code",
   "execution_count": 6,
   "id": "705e660e-f6db-4fe3-9c63-b81475ce111d",
   "metadata": {},
   "outputs": [
    {
     "name": "stdout",
     "output_type": "stream",
     "text": [
      "[8, 2, 3, 4, 5, 6, 7, 1]\n"
     ]
    }
   ],
   "source": [
    "a[0],a[len(l)-1]=a[len(l)-1],a[0]\n",
    "print(a)"
   ]
  },
  {
   "cell_type": "code",
   "execution_count": 7,
   "id": "f8819336-537e-4bb5-85f1-97bc78de2adf",
   "metadata": {},
   "outputs": [],
   "source": [
    "a[0],a[-1]=a[-1],a[0]"
   ]
  },
  {
   "cell_type": "code",
   "execution_count": 8,
   "id": "557db315-f0a0-447d-818e-1c034590b8a0",
   "metadata": {},
   "outputs": [
    {
     "data": {
      "text/plain": [
       "[1, 2, 3, 4, 5, 6, 7, 8]"
      ]
     },
     "execution_count": 8,
     "metadata": {},
     "output_type": "execute_result"
    }
   ],
   "source": [
    "a"
   ]
  },
  {
   "cell_type": "code",
   "execution_count": 14,
   "id": "573c9698-85a7-44b9-9d0f-6f092a04d49e",
   "metadata": {},
   "outputs": [],
   "source": [
    "a,*b,c=d\n"
   ]
  },
  {
   "cell_type": "code",
   "execution_count": 15,
   "id": "db4392e3-79ea-45fa-b26b-553d2e778696",
   "metadata": {},
   "outputs": [
    {
     "data": {
      "text/plain": [
       "8"
      ]
     },
     "execution_count": 15,
     "metadata": {},
     "output_type": "execute_result"
    }
   ],
   "source": [
    "a\n",
    "b\n",
    "c"
   ]
  },
  {
   "cell_type": "code",
   "execution_count": 13,
   "id": "11b3ce0a-2064-4cfa-8989-391075ae0881",
   "metadata": {},
   "outputs": [],
   "source": [
    "d=[1,2,3,4,5,6,7,8]"
   ]
  },
  {
   "cell_type": "code",
   "execution_count": 19,
   "id": "ddc0bff0-2129-4fa3-9331-1efc685ed85a",
   "metadata": {},
   "outputs": [],
   "source": [
    "a,c=c,a"
   ]
  },
  {
   "cell_type": "code",
   "execution_count": 16,
   "id": "8f2064bf-ee39-4449-9bb9-06b5e146ec4d",
   "metadata": {},
   "outputs": [
    {
     "data": {
      "text/plain": [
       "1"
      ]
     },
     "execution_count": 16,
     "metadata": {},
     "output_type": "execute_result"
    }
   ],
   "source": [
    "a"
   ]
  },
  {
   "cell_type": "code",
   "execution_count": 17,
   "id": "a4e53d08-2932-46c4-bc2b-5de489d05b0b",
   "metadata": {},
   "outputs": [
    {
     "data": {
      "text/plain": [
       "[2, 3, 4, 5, 6, 7]"
      ]
     },
     "execution_count": 17,
     "metadata": {},
     "output_type": "execute_result"
    }
   ],
   "source": [
    "b"
   ]
  },
  {
   "cell_type": "code",
   "execution_count": 18,
   "id": "4e13ee33-76ae-4d4e-9e8f-04e116c64af4",
   "metadata": {},
   "outputs": [
    {
     "data": {
      "text/plain": [
       "[1, 2, 3, 4, 5, 6, 7, 8]"
      ]
     },
     "execution_count": 18,
     "metadata": {},
     "output_type": "execute_result"
    }
   ],
   "source": [
    "d"
   ]
  },
  {
   "cell_type": "code",
   "execution_count": 20,
   "id": "5accf482-d2a9-4e8c-be04-c022005363e7",
   "metadata": {},
   "outputs": [
    {
     "data": {
      "text/plain": [
       "8"
      ]
     },
     "execution_count": 20,
     "metadata": {},
     "output_type": "execute_result"
    }
   ],
   "source": [
    "a"
   ]
  },
  {
   "cell_type": "code",
   "execution_count": 21,
   "id": "3fec49d6-421f-469b-8c90-cfc7fc6c6621",
   "metadata": {},
   "outputs": [
    {
     "data": {
      "text/plain": [
       "1"
      ]
     },
     "execution_count": 21,
     "metadata": {},
     "output_type": "execute_result"
    }
   ],
   "source": [
    "c"
   ]
  },
  {
   "cell_type": "code",
   "execution_count": 24,
   "id": "471c2a66-437c-4377-ace1-e61aca7ff478",
   "metadata": {},
   "outputs": [],
   "source": [
    "packed=a,*b,c"
   ]
  },
  {
   "cell_type": "code",
   "execution_count": 25,
   "id": "fa55a157-9efb-4a4f-9cd0-3a74f5df2503",
   "metadata": {},
   "outputs": [
    {
     "data": {
      "text/plain": [
       "(8, 2, 3, 4, 5, 6, 7, 1)"
      ]
     },
     "execution_count": 25,
     "metadata": {},
     "output_type": "execute_result"
    }
   ],
   "source": [
    "packed"
   ]
  },
  {
   "cell_type": "code",
   "execution_count": 27,
   "id": "d5f8ee9b-2fb8-41ac-8f6e-29e867d292fe",
   "metadata": {},
   "outputs": [],
   "source": [
    "l_P=list(packed)"
   ]
  },
  {
   "cell_type": "code",
   "execution_count": 29,
   "id": "0e74b2b9-98b1-428a-a0da-01e13ba36fc0",
   "metadata": {},
   "outputs": [
    {
     "data": {
      "text/plain": [
       "[8, 2, 3, 4, 5, 6, 7, 1]"
      ]
     },
     "execution_count": 29,
     "metadata": {},
     "output_type": "execute_result"
    }
   ],
   "source": [
    "l_P"
   ]
  },
  {
   "cell_type": "code",
   "execution_count": 30,
   "id": "ad50959d-bce2-4b7c-ad41-ff185002655b",
   "metadata": {},
   "outputs": [],
   "source": [
    "l=[1,2,3,4,5,6,7,8,9]"
   ]
  },
  {
   "cell_type": "code",
   "execution_count": 31,
   "id": "98981618-9d1b-4fd4-adbe-f735b29b8dc9",
   "metadata": {},
   "outputs": [],
   "source": [
    "ele=\"eabcdderf\""
   ]
  },
  {
   "cell_type": "code",
   "execution_count": 42,
   "id": "8873b396-46a2-4567-a576-69ea1728256e",
   "metadata": {},
   "outputs": [
    {
     "name": "stdin",
     "output_type": "stream",
     "text": [
      " 1 2 3 4 5 76 \n"
     ]
    },
    {
     "data": {
      "text/plain": [
       "[1, 2, 3, 4, 5, 76]"
      ]
     },
     "execution_count": 42,
     "metadata": {},
     "output_type": "execute_result"
    }
   ],
   "source": [
    "elements=list(map(int,input().split()))\n",
    "elements"
   ]
  },
  {
   "cell_type": "code",
   "execution_count": null,
   "id": "46fe5617-cde0-4736-a636-f892954ab44b",
   "metadata": {},
   "outputs": [],
   "source": []
  },
  {
   "cell_type": "code",
   "execution_count": 57,
   "id": "bf91e093-9932-4349-a15f-512e2f737288",
   "metadata": {},
   "outputs": [],
   "source": [
    "m=max(elements)\n",
    "for i in l:\n",
    "    if i==m:\n",
    "        l=elements.pop(elements[i])\n",
    "        elements.append(l)"
   ]
  },
  {
   "cell_type": "code",
   "execution_count": 54,
   "id": "5ce3f294-a92f-4adf-81aa-b6f576547c24",
   "metadata": {},
   "outputs": [],
   "source": [
    "elements=[1,2,3,4,5,67,43,2,1,3]"
   ]
  },
  {
   "cell_type": "code",
   "execution_count": 58,
   "id": "6ab854b7-f698-44c3-9e4f-73c0ef1dd5ae",
   "metadata": {},
   "outputs": [
    {
     "data": {
      "text/plain": [
       "[1, 2, 3, 4, 5, 67, 43, 2, 1, 3]"
      ]
     },
     "execution_count": 58,
     "metadata": {},
     "output_type": "execute_result"
    }
   ],
   "source": [
    "elements"
   ]
  },
  {
   "cell_type": "code",
   "execution_count": 60,
   "id": "f32a426a-7f98-41f5-a31c-abc6f034ca32",
   "metadata": {},
   "outputs": [],
   "source": [
    "l=elements.copy()\n",
    "\n"
   ]
  },
  {
   "cell_type": "code",
   "execution_count": 62,
   "id": "5e632600-e96e-4f2a-a894-dbd514eb8e65",
   "metadata": {},
   "outputs": [],
   "source": [
    "e=max(l)\n",
    "in_e=l.index(e)\n",
    "je=l.pop(in_e)\n",
    "l.append(je)\n"
   ]
  },
  {
   "cell_type": "code",
   "execution_count": 63,
   "id": "8f46582a-77b9-4842-98f1-651660f8a248",
   "metadata": {},
   "outputs": [
    {
     "data": {
      "text/plain": [
       "[1, 2, 3, 4, 5, 43, 2, 1, 3, 67]"
      ]
     },
     "execution_count": 63,
     "metadata": {},
     "output_type": "execute_result"
    }
   ],
   "source": [
    "l\n"
   ]
  },
  {
   "cell_type": "code",
   "execution_count": 6,
   "id": "5c59ae4a-7939-4009-a8a6-dd767b102c71",
   "metadata": {},
   "outputs": [],
   "source": [
    "x=99**99"
   ]
  },
  {
   "cell_type": "code",
   "execution_count": null,
   "id": "2685a892-f5a5-4fb5-bde7-7fa2680bdd01",
   "metadata": {},
   "outputs": [],
   "source": [
    "x\n"
   ]
  },
  {
   "cell_type": "code",
   "execution_count": 7,
   "id": "765e0144-129e-4b02-8e61-6303c7078d74",
   "metadata": {},
   "outputs": [
    {
     "name": "stdout",
     "output_type": "stream",
     "text": [
      "198\n",
      "936\n"
     ]
    }
   ],
   "source": [
    "count=0\n",
    "\n",
    "sum=0\n",
    "\n",
    "while x>1:\n",
    "    rem=x%10\n",
    "    sum=sum+rem\n",
    "    x//=10\n",
    "    count=count+1\n",
    "print(count)\n",
    "print(sum)\n",
    "    "
   ]
  },
  {
   "cell_type": "code",
   "execution_count": null,
   "id": "c533290b-a64b-4409-86e6-6c950bcb9fc7",
   "metadata": {},
   "outputs": [],
   "source": [
    "count\n",
    "\n"
   ]
  },
  {
   "cell_type": "code",
   "execution_count": 1,
   "id": "bea98716-b01e-4440-b5ab-a7e1021270e6",
   "metadata": {},
   "outputs": [
    {
     "name": "stdout",
     "output_type": "stream",
     "text": [
      "Number of digits: 198\n"
     ]
    }
   ],
   "source": [
    "\n",
    "def count_digits(number):\n",
    "    # Convert the number to a string and return its length\n",
    "    return len(str(abs(number)))\n",
    "\n",
    "# Example usage\n",
    "number = 99**99\n",
    "\n",
    "print(\"Number of digits:\", count_digits(number))"
   ]
  },
  {
   "cell_type": "code",
   "execution_count": 1,
   "id": "3defeab9-d642-480d-aae7-59f06592dff7",
   "metadata": {},
   "outputs": [
    {
     "name": "stdin",
     "output_type": "stream",
     "text": [
      " 3\n",
      " 3 4 5 65 67 \n"
     ]
    }
   ],
   "source": [
    "l=int(input())\n",
    "M=list(map(int,input().split()))"
   ]
  },
  {
   "cell_type": "code",
   "execution_count": 2,
   "id": "371e42a0-8e87-469d-abca-9c25514164cb",
   "metadata": {},
   "outputs": [
    {
     "data": {
      "text/plain": [
       "[3, 4, 5, 65, 67]"
      ]
     },
     "execution_count": 2,
     "metadata": {},
     "output_type": "execute_result"
    }
   ],
   "source": [
    "M\n"
   ]
  },
  {
   "cell_type": "code",
   "execution_count": 5,
   "id": "c8166e4d-a2bd-4aad-8304-d102c71c2114",
   "metadata": {},
   "outputs": [
    {
     "name": "stdin",
     "output_type": "stream",
     "text": [
      " 3\n"
     ]
    },
    {
     "name": "stdout",
     "output_type": "stream",
     "text": [
      "0 1 2 "
     ]
    }
   ],
   "source": [
    "l=int(input())\n",
    "for i in range(l):\n",
    "    print(i,end=\" \")"
   ]
  },
  {
   "cell_type": "code",
   "execution_count": null,
   "id": "86178951-5707-46da-8adf-0b092c2d5993",
   "metadata": {},
   "outputs": [],
   "source": [
    "n = int(input())\n",
    "balloons = list(map(str, input().split()))\n",
    "\n",
    "# Convert all colors to lowercase for case-insensitive comparison\n",
    "balloons_lower = [color.lower() for color in balloons]\n",
    "\n",
    "# Dictionary to count occurrences of each color\n",
    "color_count = {}\n",
    "\n",
    "# Populate the dictionary with counts\n",
    "for color in balloons_lower:\n",
    "    if color in color_count:\n",
    "        color_count[color] += 1\n",
    "    else:\n",
    "        color_count[color] = 1\n",
    "\n",
    "# Find the first color with an odd count\n",
    "found_odd = False\n",
    "for i in range(n):\n",
    "    if color_count[balloons_lower[i]] % 2 != 0:\n",
    "        print(balloons[i])  # Print the original case-sensitive color\n",
    "        found_odd = True\n",
    "        break\n",
    "\n",
    "if not found_odd:\n",
    "    print(\"All colors are even\")"
   ]
  }
 ],
 "metadata": {
  "kernelspec": {
   "display_name": "Python 3 (ipykernel)",
   "language": "python",
   "name": "python3"
  },
  "language_info": {
   "codemirror_mode": {
    "name": "ipython",
    "version": 3
   },
   "file_extension": ".py",
   "mimetype": "text/x-python",
   "name": "python",
   "nbconvert_exporter": "python",
   "pygments_lexer": "ipython3",
   "version": "3.12.4"
  }
 },
 "nbformat": 4,
 "nbformat_minor": 5
}
