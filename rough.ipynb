{
 "cells": [
  {
   "cell_type": "code",
   "execution_count": 19,
   "id": "6c5708a9-9b56-4f63-9356-193fe99458cc",
   "metadata": {},
   "outputs": [
    {
     "name": "stdin",
     "output_type": "stream",
     "text": [
      " 33 33\n"
     ]
    }
   ],
   "source": [
    "#ip\n",
    "x,y=input().split()\n"
   ]
  },
  {
   "cell_type": "code",
   "execution_count": 21,
   "id": "ca6bfe47-34a4-4e20-b92c-a57534b67a44",
   "metadata": {},
   "outputs": [
    {
     "name": "stdout",
     "output_type": "stream",
     "text": [
      "33\n",
      "33\n"
     ]
    }
   ],
   "source": [
    "\n",
    "print(x)\n",
    "print(y)\n"
   ]
  },
  {
   "cell_type": "code",
   "execution_count": 28,
   "id": "e927f550-0874-4ac1-a151-4a621898b705",
   "metadata": {},
   "outputs": [
    {
     "name": "stdin",
     "output_type": "stream",
     "text": [
      "Please Enter Elements of list1:  23455\n"
     ]
    }
   ],
   "source": [
    "list1 = list(input(\"Please Enter Elements of list1: \"))\n"
   ]
  },
  {
   "cell_type": "code",
   "execution_count": 30,
   "id": "df7fd827-146a-4c4e-b6d2-65735f66c7ed",
   "metadata": {},
   "outputs": [
    {
     "data": {
      "text/plain": [
       "['2', '3', '4', '5', '5']"
      ]
     },
     "execution_count": 30,
     "metadata": {},
     "output_type": "execute_result"
    }
   ],
   "source": [
    "list1"
   ]
  },
  {
   "cell_type": "code",
   "execution_count": 32,
   "id": "2c900718-4b2d-4d77-8311-b7f63bca3462",
   "metadata": {},
   "outputs": [
    {
     "name": "stdout",
     "output_type": "stream",
     "text": [
      "3>>>2>>>1>>>Start\n"
     ]
    }
   ],
   "source": [
    "import time\n",
    "\n",
    "count_seconds = 3\n",
    "for i in reversed(range(count_seconds + 1)):\n",
    "    if i > 0:\n",
    "        print(i, end='>>>')\n",
    "        time.sleep(1)\n",
    "    else:\n",
    "        print('Start')"
   ]
  },
  {
   "cell_type": "code",
   "execution_count": 42,
   "id": "d5c1ced2-c684-411a-b70c-486bce3b9d6e",
   "metadata": {},
   "outputs": [
    {
     "name": "stdout",
     "output_type": "stream",
     "text": [
      "0 1 2 3 4 "
     ]
    }
   ],
   "source": [
    "import time\n",
    "\n",
    "for i in range(5):\n",
    "    print(i, end=' ', flush=False)  # Output may be delayed due to buffering\n",
    "    time.sleep(1)"
   ]
  },
  {
   "cell_type": "code",
   "execution_count": 46,
   "id": "8cd93ac1-2172-4f10-b4fe-2f2c96bd3c7e",
   "metadata": {},
   "outputs": [
    {
     "name": "stdout",
     "output_type": "stream",
     "text": [
      "1 2 3\n"
     ]
    }
   ],
   "source": [
    "numbers = [1, 2, 3]\n",
    "print(*numbers)"
   ]
  },
  {
   "cell_type": "code",
   "execution_count": 50,
   "id": "456fe021-26d9-4cc2-bbfa-6fa9c64367d7",
   "metadata": {},
   "outputs": [
    {
     "name": "stdin",
     "output_type": "stream",
     "text": [
      " d d\n"
     ]
    }
   ],
   "source": [
    "x, y = input().split()"
   ]
  },
  {
   "cell_type": "code",
   "execution_count": 52,
   "id": "4bc49bae-055e-43fe-9fb1-5ef94645817b",
   "metadata": {},
   "outputs": [
    {
     "data": {
      "text/plain": [
       "'d'"
      ]
     },
     "execution_count": 52,
     "metadata": {},
     "output_type": "execute_result"
    }
   ],
   "source": [
    "x"
   ]
  },
  {
   "cell_type": "code",
   "execution_count": 54,
   "id": "58e66e93-1495-432b-8736-e35d29e61039",
   "metadata": {},
   "outputs": [
    {
     "data": {
      "text/plain": [
       "'d'"
      ]
     },
     "execution_count": 54,
     "metadata": {},
     "output_type": "execute_result"
    }
   ],
   "source": [
    "y"
   ]
  },
  {
   "cell_type": "code",
   "execution_count": 58,
   "id": "cd502ac6-fd4d-46e4-9c66-f30aa846aa30",
   "metadata": {},
   "outputs": [
    {
     "name": "stdin",
     "output_type": "stream",
     "text": [
      " 4 4\n"
     ]
    }
   ],
   "source": [
    "m, n = map(int, input().split())"
   ]
  },
  {
   "cell_type": "code",
   "execution_count": 60,
   "id": "4dad01dd-b0d8-41af-9d22-d023bab5b437",
   "metadata": {},
   "outputs": [
    {
     "data": {
      "text/plain": [
       "4"
      ]
     },
     "execution_count": 60,
     "metadata": {},
     "output_type": "execute_result"
    }
   ],
   "source": [
    "m"
   ]
  },
  {
   "cell_type": "code",
   "execution_count": 62,
   "id": "8f951ad4-b57a-4c79-aae9-2175af55824f",
   "metadata": {},
   "outputs": [
    {
     "data": {
      "text/plain": [
       "4"
      ]
     },
     "execution_count": 62,
     "metadata": {},
     "output_type": "execute_result"
    }
   ],
   "source": [
    "n"
   ]
  },
  {
   "cell_type": "code",
   "execution_count": 70,
   "id": "f069b6a9-1682-4ebe-9bd9-0d94eb7eda1e",
   "metadata": {},
   "outputs": [
    {
     "name": "stdin",
     "output_type": "stream",
     "text": [
      " 1234\n"
     ]
    },
    {
     "ename": "ValueError",
     "evalue": "not enough values to unpack (expected 2, got 1)",
     "output_type": "error",
     "traceback": [
      "\u001b[1;31m---------------------------------------------------------------------------\u001b[0m",
      "\u001b[1;31mValueError\u001b[0m                                Traceback (most recent call last)",
      "Cell \u001b[1;32mIn[70], line 1\u001b[0m\n\u001b[1;32m----> 1\u001b[0m m,n\u001b[38;5;241m=\u001b[39m\u001b[38;5;28mmap\u001b[39m(\u001b[38;5;28mint\u001b[39m, \u001b[38;5;28minput\u001b[39m()\u001b[38;5;241m.\u001b[39msplit())\n",
      "\u001b[1;31mValueError\u001b[0m: not enough values to unpack (expected 2, got 1)"
     ]
    }
   ],
   "source": [
    "m,n=map(int, input().split())"
   ]
  },
  {
   "cell_type": "code",
   "execution_count": 66,
   "id": "b9933ffa-8f1a-4f80-8ba5-38a16a565042",
   "metadata": {},
   "outputs": [
    {
     "data": {
      "text/plain": [
       "1234567"
      ]
     },
     "execution_count": 66,
     "metadata": {},
     "output_type": "execute_result"
    }
   ],
   "source": [
    "m"
   ]
  },
  {
   "cell_type": "code",
   "execution_count": 68,
   "id": "8d2d2fae-46a7-4eea-b333-89f7201a34ba",
   "metadata": {},
   "outputs": [
    {
     "data": {
      "text/plain": [
       "[]"
      ]
     },
     "execution_count": 68,
     "metadata": {},
     "output_type": "execute_result"
    }
   ],
   "source": [
    "n\n"
   ]
  },
  {
   "cell_type": "code",
   "execution_count": 72,
   "id": "5a2f6c93-71c6-4ba5-a1e4-9fb2c2ac148d",
   "metadata": {},
   "outputs": [
    {
     "name": "stdin",
     "output_type": "stream",
     "text": [
      "How many numbers do you want to input?  3\n",
      "Enter number 1:  34\n",
      "Enter number 2:  34\n",
      "Enter number 3:  212\n"
     ]
    },
    {
     "name": "stdout",
     "output_type": "stream",
     "text": [
      "List of numbers: [34, 34, 212]\n"
     ]
    }
   ],
   "source": [
    "n = int(input(\"How many numbers do you want to input? \"))\n",
    "numbers = []\n",
    "for i in range(n):\n",
    "    num = int(input(f\"Enter number {i + 1}: \"))\n",
    "    numbers.append(num)\n",
    "print(\"List of numbers:\", numbers)"
   ]
  },
  {
   "cell_type": "code",
   "execution_count": 74,
   "id": "3af4dd1c-fb29-43ad-b77d-f32fe98d181d",
   "metadata": {},
   "outputs": [
    {
     "name": "stdin",
     "output_type": "stream",
     "text": [
      " 234565432\n"
     ]
    },
    {
     "name": "stdout",
     "output_type": "stream",
     "text": [
      "[234565432]\n"
     ]
    }
   ],
   "source": [
    "n = list(map(int, input().split()))\n",
    "print(n)\n"
   ]
  },
  {
   "cell_type": "code",
   "execution_count": 106,
   "id": "604b0f86-525b-4be9-bae2-42fe05678930",
   "metadata": {},
   "outputs": [
    {
     "name": "stdin",
     "output_type": "stream",
     "text": [
      " 4 54 65 67\n"
     ]
    },
    {
     "name": "stdout",
     "output_type": "stream",
     "text": [
      "[4, 54, 65, 67]\n"
     ]
    }
   ],
   "source": [
    "n = list(map(int, input().split()))\n",
    "print(n)"
   ]
  },
  {
   "cell_type": "code",
   "execution_count": 110,
   "id": "ea7c611c-53a8-4a53-bb3b-25f08e8404bf",
   "metadata": {},
   "outputs": [
    {
     "name": "stdin",
     "output_type": "stream",
     "text": [
      " 556 67 78\n"
     ]
    },
    {
     "name": "stdout",
     "output_type": "stream",
     "text": [
      "['556-->67-->78']\n"
     ]
    }
   ],
   "source": [
    "n = list(map(str, input().replace(\" \", \"-->\").split()))\n",
    "print(n)"
   ]
  },
  {
   "cell_type": "code",
   "execution_count": 134,
   "id": "a3b8fbae-83ce-4b14-87bf-c7b324659c89",
   "metadata": {},
   "outputs": [
    {
     "name": "stdout",
     "output_type": "stream",
     "text": [
      "6-->7-->8-->9\n"
     ]
    }
   ],
   "source": [
    "nm = [6, 7, 8, 9]\n",
    "n = len(nm)\n",
    "for i in range(n):\n",
    "    if i == n - 1:\n",
    "        print(nm[i])  # Print the last element without the arrow\n",
    "    else:\n",
    "        print(nm[i], end=\"-->\")  # Print element with arrow if it's not the last one"
   ]
  },
  {
   "cell_type": "code",
   "execution_count": 114,
   "id": "f2170386-cd05-42e6-9073-610f05fbdfe2",
   "metadata": {},
   "outputs": [
    {
     "name": "stdin",
     "output_type": "stream",
     "text": [
      " 56 6 7 8 9 6\n"
     ]
    },
    {
     "name": "stdout",
     "output_type": "stream",
     "text": [
      "56 [6, 7, 8, 9, 6]\n"
     ]
    }
   ],
   "source": [
    "str, *lst = input().split()\n",
    "lst = list(map(int, lst))\n",
    " \n",
    "print(str, lst)"
   ]
  },
  {
   "cell_type": "code",
   "execution_count": 136,
   "id": "d20967b5-7b08-4f5a-a4d1-239d16b53b50",
   "metadata": {},
   "outputs": [
    {
     "name": "stdout",
     "output_type": "stream",
     "text": [
      "geeks\n",
      "for\n",
      "geeks\n"
     ]
    }
   ],
   "source": [
    "#op\n",
    "lst = ['geeks', 'for', 'geeks']\n",
    " \n",
    "for i in lst:\n",
    "    print(i)"
   ]
  },
  {
   "cell_type": "code",
   "execution_count": 140,
   "id": "dc4a71eb-d73d-44ef-959e-2d1f77b433fc",
   "metadata": {},
   "outputs": [
    {
     "name": "stdout",
     "output_type": "stream",
     "text": [
      "geeks for geeks "
     ]
    }
   ],
   "source": [
    "lst = ['geeks', 'for', 'geeks']\n",
    " \n",
    "for i in lst:\n",
    "    print(i, end=' ')"
   ]
  },
  {
   "cell_type": "code",
   "execution_count": 142,
   "id": "c4c6e66b-b1e1-47c7-b17a-2301e0ec7376",
   "metadata": {},
   "outputs": [
    {
     "name": "stdout",
     "output_type": "stream",
     "text": [
      "Hello World!!!\n"
     ]
    }
   ],
   "source": [
    "val = \"Hello\"\n",
    "print(f\"{val} World!!!\")"
   ]
  },
  {
   "cell_type": "code",
   "execution_count": 144,
   "id": "6f700cd2-98bb-42e7-b0cb-1fa06fe730a9",
   "metadata": {},
   "outputs": [
    {
     "name": "stdout",
     "output_type": "stream",
     "text": [
      "3.12.4 | packaged by Anaconda, Inc. | (main, Jun 18 2024, 15:03:56) [MSC v.1929 64 bit (AMD64)]\n"
     ]
    }
   ],
   "source": [
    "import sys\n",
    "\n",
    "print(sys.version)"
   ]
  },
  {
   "cell_type": "code",
   "execution_count": 148,
   "id": "999e3c77-1c9f-4eb0-b3f3-0ac097721919",
   "metadata": {},
   "outputs": [
    {
     "name": "stdout",
     "output_type": "stream",
     "text": [
      "s\n",
      "a\n",
      "k\n",
      "k\n"
     ]
    }
   ],
   "source": [
    "e=\"sakk\"\n",
    "f=\"\"\n",
    "for i in e:\n",
    "    print(i)\n",
    "    f+=i"
   ]
  },
  {
   "cell_type": "code",
   "execution_count": 150,
   "id": "27395dea-c8fd-47b0-a528-78a73521da38",
   "metadata": {},
   "outputs": [
    {
     "data": {
      "text/plain": [
       "'sakk'"
      ]
     },
     "execution_count": 150,
     "metadata": {},
     "output_type": "execute_result"
    }
   ],
   "source": [
    "f"
   ]
  },
  {
   "cell_type": "code",
   "execution_count": 154,
   "id": "110028c2-5425-4047-85b3-c3a05ce76776",
   "metadata": {},
   "outputs": [],
   "source": [
    "r=\"Lorem Ipsum is simply dummy text of the printing and typesetting industry. Lorem Ipsum has been the industry's standard dummy text ever since the 1500s, when an unknown printer took a galley of type and scrambled it to make a type specimen book. It has survived not only five centuries, but also the leap into electronic typesetting, remaining essentially unchanged. It was popularised in the 1960s with the release of Letraset sheets containing Lorem Ipsum passages, and more recently with desktop publishing software like Aldus PageMaker including versions of Lorem Ipsum.\"\n"
   ]
  },
  {
   "cell_type": "code",
   "execution_count": 174,
   "id": "9714530d-bdbe-41b4-9d78-363d011f5682",
   "metadata": {},
   "outputs": [
    {
     "name": "stdout",
     "output_type": "stream",
     "text": [
      "4\n"
     ]
    }
   ],
   "source": [
    "words=r.split()\n",
    "count=0\n",
    "for i in words:   \n",
    "    if i==\"Lorem\":\n",
    "        count+=1\n",
    "print(count)"
   ]
  },
  {
   "cell_type": "code",
   "execution_count": 178,
   "id": "8623ecf6-aeae-48f3-bcce-c0c51d2934fa",
   "metadata": {},
   "outputs": [
    {
     "name": "stdout",
     "output_type": "stream",
     "text": [
      "['Hello,', 'World!']\n"
     ]
    }
   ],
   "source": [
    "a = \"Hello, World!\"\n",
    "print(a.split()) # returns ['Hello', ' World!']"
   ]
  },
  {
   "cell_type": "code",
   "execution_count": 9,
   "id": "071886b9-e5fc-4d81-a702-4ae7f577534a",
   "metadata": {},
   "outputs": [
    {
     "name": "stdout",
     "output_type": "stream",
     "text": [
      "Progress: 100%\r"
     ]
    }
   ],
   "source": [
    "import time\n",
    "\n",
    "for i in range(101):\n",
    "    print(f\"Progress: {i}%\", end='\\r')\n",
    "    time.sleep(0.1)\n"
   ]
  },
  {
   "cell_type": "code",
   "execution_count": 11,
   "id": "9a46386c-e6a2-4260-9a81-df3330868248",
   "metadata": {},
   "outputs": [
    {
     "name": "stdout",
     "output_type": "stream",
     "text": [
      "Progress: 100%\r"
     ]
    }
   ],
   "source": [
    "for i in range(101):\n",
    "    print(f\"Progress: {i}%\", end='\\r')\n",
    "    \n"
   ]
  },
  {
   "cell_type": "code",
   "execution_count": 13,
   "id": "90ae9e0b-5aec-4adc-8951-e1901f27efcd",
   "metadata": {},
   "outputs": [
    {
     "name": "stdout",
     "output_type": "stream",
     "text": [
      "['apple', 'blackcurrant', 'watermelon', 'cherry']\n"
     ]
    }
   ],
   "source": [
    "thislist = [\"apple\", \"banana\", \"cherry\"]\n",
    "thislist[1:2] = [\"blackcurrant\", \"watermelon\"]\n",
    "print(thislist)\n"
   ]
  },
  {
   "cell_type": "code",
   "execution_count": 35,
   "id": "22362c9f-c424-46b9-8946-9607ea693e78",
   "metadata": {},
   "outputs": [
    {
     "name": "stdout",
     "output_type": "stream",
     "text": [
      "['cherry', 'banana', 'apple']\n"
     ]
    }
   ],
   "source": [
    "l = [\"apple\", \"banana\", \"cherry\"]\n",
    "l1=[]\n",
    "n=len(l)\n",
    "m=l.reverse()\n",
    "print(l)\n"
   ]
  },
  {
   "cell_type": "code",
   "execution_count": 37,
   "id": "66fc8e6c-867b-41bb-9c16-219343b1113a",
   "metadata": {},
   "outputs": [
    {
     "name": "stdout",
     "output_type": "stream",
     "text": [
      "6\n"
     ]
    }
   ],
   "source": [
    "h=\"hjkjhg\"\n",
    "count=0\n",
    "for i in h:\n",
    "    if i!=None:\n",
    "        count+=1\n",
    "print(count)\n",
    "    "
   ]
  },
  {
   "cell_type": "code",
   "execution_count": 39,
   "id": "e09a3424-26c5-42ac-a41f-caa1ce128b3f",
   "metadata": {},
   "outputs": [
    {
     "name": "stdout",
     "output_type": "stream",
     "text": [
      "The length of the string 'Hello, World!' is: 13\n"
     ]
    }
   ],
   "source": [
    "def string_length(s):\n",
    "    count = 0\n",
    "    for char in s:\n",
    "        count += 1\n",
    "    return count\n",
    "\n",
    "# Test the function\n",
    "input_string = \"Hello, World!\"\n",
    "length = string_length(input_string)\n",
    "print(f\"The length of the string '{input_string}' is: {length}\")"
   ]
  },
  {
   "cell_type": "code",
   "execution_count": null,
   "id": "ff773f51-3a23-4fea-b160-3b5a65bfa00a",
   "metadata": {},
   "outputs": [],
   "source": []
  }
 ],
 "metadata": {
  "kernelspec": {
   "display_name": "Python 3 (ipykernel)",
   "language": "python",
   "name": "python3"
  },
  "language_info": {
   "codemirror_mode": {
    "name": "ipython",
    "version": 3
   },
   "file_extension": ".py",
   "mimetype": "text/x-python",
   "name": "python",
   "nbconvert_exporter": "python",
   "pygments_lexer": "ipython3",
   "version": "3.12.4"
  }
 },
 "nbformat": 4,
 "nbformat_minor": 5
}
