{
 "cells": [
  {
   "cell_type": "code",
   "execution_count": 17,
   "id": "150df14a-7fdd-45e0-bfd7-3aab1e9f3d51",
   "metadata": {},
   "outputs": [
    {
     "data": {
      "text/plain": [
       "(True, 3)"
      ]
     },
     "execution_count": 17,
     "metadata": {},
     "output_type": "execute_result"
    }
   ],
   "source": [
    "def find_element(arr,n):\n",
    "    for i in range(len(arr)):\n",
    "        if n in arr:\n",
    "            return True,arr.index(n)\n",
    "        else:\n",
    "            return False,-1\n",
    "ar=[3,4,5,6,7]\n",
    "n=6\n",
    "find_element(ar,n)"
   ]
  },
  {
   "cell_type": "code",
   "execution_count": 23,
   "id": "32ab9333-2f5b-4e10-b44b-078192c96261",
   "metadata": {},
   "outputs": [
    {
     "data": {
      "text/plain": [
       "(True, 3)"
      ]
     },
     "execution_count": 23,
     "metadata": {},
     "output_type": "execute_result"
    }
   ],
   "source": [
    "def find_element(arr,n):\n",
    "    for i in range(len(arr)):\n",
    "        if arr[i]==n:\n",
    "            return True,i\n",
    "    else:\n",
    "        return False,-1\n",
    "ar=[3,4,5,6,7]\n",
    "n=6\n",
    "find_element(ar,n)"
   ]
  },
  {
   "cell_type": "code",
   "execution_count": 33,
   "id": "4d1d6f4e-fe59-4d1c-8779-3473bfac215d",
   "metadata": {},
   "outputs": [
    {
     "name": "stdout",
     "output_type": "stream",
     "text": [
      "2\n"
     ]
    }
   ],
   "source": [
    "#binary serach\n",
    "def b_s(arr,target):\n",
    "    size=len(arr)-1\n",
    "    start=0\n",
    "    end=size-1\n",
    "    while start<=end:\n",
    "        middle=(start+end)//2\n",
    "        if (arr[middle]==target):\n",
    "            return middle\n",
    "        elif arr[middle]>target:\n",
    "            end=middle-1\n",
    "        else:\n",
    "            start=middle+1\n",
    "    return -1\n",
    "arr=[10,20,30,40,50]\n",
    "target=30\n",
    "result=b_s(arr,target)\n",
    "print(result)"
   ]
  },
  {
   "cell_type": "code",
   "execution_count": 65,
   "id": "54d1fffd-c6ed-47a8-aa29-538609fb7eb1",
   "metadata": {},
   "outputs": [
    {
     "name": "stdout",
     "output_type": "stream",
     "text": [
      "[1, 2, 34, 356, 3344, 4444]\n"
     ]
    }
   ],
   "source": [
    "#bubble sort\n",
    "def bubble(arr):\n",
    "    k=len(arr)\n",
    "    for i in range(k):\n",
    "       for j in range(k-i):\n",
    "           if arr[i]<arr[j]:\n",
    "               arr[i],arr[j]=arr[j],arr[i]\n",
    "    return arr\n",
    "arr=[1,2,34,3344,356,4444]\n",
    "print(bubble(arr))\n",
    "        "
   ]
  },
  {
   "cell_type": "code",
   "execution_count": 77,
   "id": "b04532a7-78c4-42ec-b02b-7bb29ec89633",
   "metadata": {},
   "outputs": [
    {
     "data": {
      "text/plain": [
       "[1, 5, 5, 24, 66, 223, 432, 2213]"
      ]
     },
     "execution_count": 77,
     "metadata": {},
     "output_type": "execute_result"
    }
   ],
   "source": [
    "def selection_sort(lst):\n",
    "    n=len(lst)\n",
    "    for i in range(n-1):\n",
    "        min_index=i\n",
    "        for j in range(i+1,n):\n",
    "            if lst[j]<lst[min_index]:\n",
    "                lst[j],lst[min_index]=lst[min_index],lst[j]\n",
    "    return lst\n",
    "lst=[1,223,2213,24,5,5,66,432]\n",
    "selection_sort(lst)"
   ]
  },
  {
   "cell_type": "code",
   "execution_count": null,
   "id": "4e5f88fc-ef9a-4d0a-a407-c36215ef7afa",
   "metadata": {},
   "outputs": [],
   "source": []
  }
 ],
 "metadata": {
  "kernelspec": {
   "display_name": "Python 3 (ipykernel)",
   "language": "python",
   "name": "python3"
  },
  "language_info": {
   "codemirror_mode": {
    "name": "ipython",
    "version": 3
   },
   "file_extension": ".py",
   "mimetype": "text/x-python",
   "name": "python",
   "nbconvert_exporter": "python",
   "pygments_lexer": "ipython3",
   "version": "3.12.4"
  }
 },
 "nbformat": 4,
 "nbformat_minor": 5
}
