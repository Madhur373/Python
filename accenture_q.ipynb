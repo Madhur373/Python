{
 "cells": [
  {
   "cell_type": "code",
   "execution_count": 4,
   "id": "19836448-4d40-48ca-8e97-f26590ab9081",
   "metadata": {},
   "outputs": [],
   "source": [
    "set=\"ab\"\n",
    "set2=\"ab\"\n"
   ]
  },
  {
   "cell_type": "code",
   "execution_count": 6,
   "id": "32b88214-427c-445a-a510-4729458438b5",
   "metadata": {},
   "outputs": [
    {
     "data": {
      "text/plain": [
       "True"
      ]
     },
     "execution_count": 6,
     "metadata": {},
     "output_type": "execute_result"
    }
   ],
   "source": [
    "set is set2\n"
   ]
  },
  {
   "cell_type": "code",
   "execution_count": 16,
   "id": "f8285e8f-a412-4340-85ae-2e155e4db750",
   "metadata": {},
   "outputs": [
    {
     "name": "stdin",
     "output_type": "stream",
     "text": [
      " aa\n",
      " ab\n"
     ]
    },
    {
     "name": "stdout",
     "output_type": "stream",
     "text": [
      "0\n"
     ]
    }
   ],
   "source": [
    "s1,s2=input(),input()\n",
    "\n",
    "s3=\"\".join(sorted(s1))\n",
    "s4=\"\".join(sorted(s2))\n",
    "\n",
    "\n",
    "if s3 == s4:\n",
    "    print(1)\n",
    "else:\n",
    "    print(0)\n",
    "    "
   ]
  },
  {
   "cell_type": "code",
   "execution_count": 22,
   "id": "38618e4d-8573-40f0-a031-bbd1c3f78b20",
   "metadata": {},
   "outputs": [
    {
     "name": "stdin",
     "output_type": "stream",
     "text": [
      " sd\n",
      " ds\n"
     ]
    },
    {
     "name": "stdout",
     "output_type": "stream",
     "text": [
      "['sd']\n",
      "['ds']\n",
      "0\n"
     ]
    }
   ],
   "source": [
    "s1,s2=input(),input()\n",
    "\n",
    "s3=list(map(str,s1.split()))\n",
    "s4=list(map(str,s2.split()))\n",
    "\n",
    "print(s3)\n",
    "print(s4)\n",
    "\n",
    "if s3 == s4:\n",
    "    print(1)\n",
    "else:\n",
    "    print(0)"
   ]
  },
  {
   "cell_type": "code",
   "execution_count": 28,
   "id": "ad95987c-58fd-401d-b850-116107b2cb75",
   "metadata": {},
   "outputs": [
    {
     "ename": "AttributeError",
     "evalue": "'str' object has no attribute 'append'",
     "output_type": "error",
     "traceback": [
      "\u001b[1;31m---------------------------------------------------------------------------\u001b[0m",
      "\u001b[1;31mAttributeError\u001b[0m                            Traceback (most recent call last)",
      "Cell \u001b[1;32mIn[28], line 3\u001b[0m\n\u001b[0;32m      1\u001b[0m s11\u001b[38;5;241m=\u001b[39m\u001b[38;5;124m\"\u001b[39m\u001b[38;5;124masd\u001b[39m\u001b[38;5;124m\"\u001b[39m\n\u001b[0;32m      2\u001b[0m \u001b[38;5;28;01mfor\u001b[39;00m i \u001b[38;5;129;01min\u001b[39;00m \u001b[38;5;28mrange\u001b[39m(\u001b[38;5;28mlen\u001b[39m(s1)):\n\u001b[1;32m----> 3\u001b[0m     s21\u001b[38;5;241m=\u001b[39m\u001b[38;5;124m\"\u001b[39m\u001b[38;5;124m\"\u001b[39m\u001b[38;5;241m.\u001b[39mappend(s11[i])\n",
      "\u001b[1;31mAttributeError\u001b[0m: 'str' object has no attribute 'append'"
     ]
    }
   ],
   "source": [
    "s11=\"asd\"\n",
    "for i in range(len(s1)):\n",
    "    s21=\"\".append(s11[i])"
   ]
  },
  {
   "cell_type": "code",
   "execution_count": 26,
   "id": "e0a1b505-fc8d-4613-b44c-696b99fb589d",
   "metadata": {},
   "outputs": [
    {
     "ename": "NameError",
     "evalue": "name 's21' is not defined",
     "output_type": "error",
     "traceback": [
      "\u001b[1;31m---------------------------------------------------------------------------\u001b[0m",
      "\u001b[1;31mNameError\u001b[0m                                 Traceback (most recent call last)",
      "Cell \u001b[1;32mIn[26], line 1\u001b[0m\n\u001b[1;32m----> 1\u001b[0m s21\n",
      "\u001b[1;31mNameError\u001b[0m: name 's21' is not defined"
     ]
    }
   ],
   "source": [
    "s21\n"
   ]
  },
  {
   "cell_type": "code",
   "execution_count": null,
   "id": "9d37005d-0788-40d8-a61b-feb88efb7be3",
   "metadata": {},
   "outputs": [],
   "source": [
    "v "
   ]
  }
 ],
 "metadata": {
  "kernelspec": {
   "display_name": "Python 3 (ipykernel)",
   "language": "python",
   "name": "python3"
  },
  "language_info": {
   "codemirror_mode": {
    "name": "ipython",
    "version": 3
   },
   "file_extension": ".py",
   "mimetype": "text/x-python",
   "name": "python",
   "nbconvert_exporter": "python",
   "pygments_lexer": "ipython3",
   "version": "3.12.4"
  }
 },
 "nbformat": 4,
 "nbformat_minor": 5
}
