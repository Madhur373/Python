{
 "cells": [
  {
   "cell_type": "code",
   "execution_count": 43,
   "id": "d3fe9e5f-b0d8-44c3-92fa-65d2beda89b3",
   "metadata": {},
   "outputs": [
    {
     "name": "stdout",
     "output_type": "stream",
     "text": [
      "['cherry', 'banana', 'apple']\n"
     ]
    }
   ],
   "source": [
    "l = [\"apple\", \"banana\", \"cherry\"]\n",
    "l1=[]\n",
    "n=-len(l)\n",
    "i=-1\n",
    "while i>=n:\n",
    "    l1.append(l[i])\n",
    "    i-=1\n",
    "print(l1)\n",
    "    "
   ]
  },
  {
   "cell_type": "code",
   "execution_count": 15,
   "id": "b075a148-103d-449d-9bc2-1102ce5cbcd6",
   "metadata": {},
   "outputs": [],
   "source": [
    "l2=l[::-1]"
   ]
  },
  {
   "cell_type": "code",
   "execution_count": 17,
   "id": "c8796985-8be9-419b-a337-1577091e64ca",
   "metadata": {},
   "outputs": [
    {
     "data": {
      "text/plain": [
       "['cherry', 'banana', 'apple']"
      ]
     },
     "execution_count": 17,
     "metadata": {},
     "output_type": "execute_result"
    }
   ],
   "source": [
    "l2"
   ]
  },
  {
   "cell_type": "code",
   "execution_count": 35,
   "id": "33240da2-d752-472e-8e8c-d115b4bea7e5",
   "metadata": {},
   "outputs": [
    {
     "name": "stdout",
     "output_type": "stream",
     "text": [
      "['cherry', 'banana', 'apple']\n"
     ]
    }
   ],
   "source": [
    "l = [\"apple\", \"banana\", \"cherry\"]\n",
    "l1 = []\n",
    "i = -1  # Start from the last element\n",
    "n = -len(l)  # End when we reach the first element (negative index of the first element)\n",
    "\n",
    "while i >= n:\n",
    "    l1.append(l[i])\n",
    "    i -= 1  # Move to the previous element\n",
    "\n",
    "print(l1)\n"
   ]
  },
  {
   "cell_type": "code",
   "execution_count": 90,
   "id": "1bad1d1e-3bcd-4eec-8ac3-907d1f4984de",
   "metadata": {},
   "outputs": [
    {
     "name": "stdout",
     "output_type": "stream",
     "text": [
      "-1 cherry\n",
      "-2 banana\n",
      "-3 apple\n"
     ]
    }
   ],
   "source": [
    "l = [\"apple\", \"banana\", \"cherry\"]\n",
    "l1 = []\n",
    "\n",
    "n = -len(l)  # End when we reach the first element (negative index of the first element)\n",
    "for i in range(-1, n-1, -1):\n",
    "    print(i,l[i])"
   ]
  },
  {
   "cell_type": "code",
   "execution_count": null,
   "id": "ee6b0614-e848-44a6-b978-6f59534fca5b",
   "metadata": {},
   "outputs": [],
   "source": []
  },
  {
   "cell_type": "code",
   "execution_count": null,
   "id": "51ca3419-6c62-40d9-b267-609b0c68382f",
   "metadata": {},
   "outputs": [],
   "source": []
  }
 ],
 "metadata": {
  "kernelspec": {
   "display_name": "Python 3 (ipykernel)",
   "language": "python",
   "name": "python3"
  },
  "language_info": {
   "codemirror_mode": {
    "name": "ipython",
    "version": 3
   },
   "file_extension": ".py",
   "mimetype": "text/x-python",
   "name": "python",
   "nbconvert_exporter": "python",
   "pygments_lexer": "ipython3",
   "version": "3.12.4"
  }
 },
 "nbformat": 4,
 "nbformat_minor": 5
}
