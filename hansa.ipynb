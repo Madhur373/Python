{
 "cells": [
  {
   "cell_type": "code",
   "execution_count": 1,
   "id": "b265edfd-350e-4091-a1a2-1ffe53bb096a",
   "metadata": {},
   "outputs": [
    {
     "name": "stdin",
     "output_type": "stream",
     "text": [
      "Enter a sentence:  I have 10 apple and 1 banana\n"
     ]
    },
    {
     "name": "stdout",
     "output_type": "stream",
     "text": [
      "$ have 01 $pple $nd 0 banana\n"
     ]
    }
   ],
   "source": [
    "def process_sentence(sentence):\n",
    "    vowels = 'AEIOUaeiou'\n",
    "    result = []\n",
    "    words = sentence.split()\n",
    "\n",
    "    for word in words:\n",
    "        new_word = \"\"\n",
    "        if word.isdigit():  # Check if the word is a number\n",
    "            if len(word) == 1:  # Single-digit number\n",
    "                new_word = '0'\n",
    "            elif len(word) == 2:  # Two-digit number\n",
    "                new_word = '01'\n",
    "        else:\n",
    "            if word[0] in vowels:  # First letter is a vowel\n",
    "                new_word = '$' + word[1:]\n",
    "            else:\n",
    "                new_word = word\n",
    "\n",
    "        result.append(new_word)\n",
    "\n",
    "    return ' '.join(result)\n",
    "\n",
    "\n",
    "# Taking input from user\n",
    "sentence = input(\"Enter a sentence: \")\n",
    "\n",
    "# Output\n",
    "print(process_sentence(sentence))"
   ]
  },
  {
   "cell_type": "code",
   "execution_count": 7,
   "id": "fddf0af6-31a6-47af-8267-e61503509d7e",
   "metadata": {},
   "outputs": [
    {
     "name": "stdin",
     "output_type": "stream",
     "text": [
      " 11234\n"
     ]
    },
    {
     "ename": "TypeError",
     "evalue": "'list' object cannot be interpreted as an integer",
     "output_type": "error",
     "traceback": [
      "\u001b[1;31m---------------------------------------------------------------------------\u001b[0m",
      "\u001b[1;31mTypeError\u001b[0m                                 Traceback (most recent call last)",
      "Cell \u001b[1;32mIn[7], line 21\u001b[0m\n\u001b[0;32m     17\u001b[0m         \u001b[38;5;28msum\u001b[39m\u001b[38;5;241m=\u001b[39m\u001b[38;5;28msum\u001b[39m\u001b[38;5;241m+\u001b[39mnew_list[j]\n\u001b[0;32m     19\u001b[0m     \u001b[38;5;28mprint\u001b[39m(\u001b[38;5;28msum\u001b[39m)\n\u001b[1;32m---> 21\u001b[0m sum_uni_num()\n",
      "Cell \u001b[1;32mIn[7], line 7\u001b[0m, in \u001b[0;36msum_uni_num\u001b[1;34m()\u001b[0m\n\u001b[0;32m      3\u001b[0m n\u001b[38;5;241m=\u001b[39m\u001b[38;5;28mlist\u001b[39m(\u001b[38;5;28mmap\u001b[39m(\u001b[38;5;28mint\u001b[39m,\u001b[38;5;28minput\u001b[39m()\u001b[38;5;241m.\u001b[39msplit()))\n\u001b[0;32m      5\u001b[0m new_list\u001b[38;5;241m=\u001b[39m[]\n\u001b[1;32m----> 7\u001b[0m \u001b[38;5;28;01mfor\u001b[39;00m i \u001b[38;5;129;01min\u001b[39;00m \u001b[38;5;28mrange\u001b[39m(n):\n\u001b[0;32m      9\u001b[0m     \u001b[38;5;28;01mif\u001b[39;00m i \u001b[38;5;129;01mnot\u001b[39;00m \u001b[38;5;129;01min\u001b[39;00m new_list:\n\u001b[0;32m     11\u001b[0m         new_list\u001b[38;5;241m.\u001b[39mappend(i)\n",
      "\u001b[1;31mTypeError\u001b[0m: 'list' object cannot be interpreted as an integer"
     ]
    }
   ],
   "source": [
    "def sum_uni_num():\n",
    "\n",
    "    n=list(map(int,input().split()))\n",
    "\n",
    "    new_list=[]\n",
    "\n",
    "    for i in range(n):\n",
    "\n",
    "        if i not in new_list:\n",
    "\n",
    "            new_list.append(i)\n",
    "\n",
    "    sum=0\n",
    "\n",
    "    for j in range(len(new_list)):\n",
    "\n",
    "        sum=sum+new_list[j]\n",
    "\n",
    "    print(sum)\n",
    "\n",
    "sum_uni_num()\n",
    "\n"
   ]
  },
  {
   "cell_type": "code",
   "execution_count": 15,
   "id": "fc5f963c-a910-49fb-a51f-87154af8f8d3",
   "metadata": {},
   "outputs": [
    {
     "name": "stdin",
     "output_type": "stream",
     "text": [
      " 1 2 3 4 5 4 3 2\n"
     ]
    },
    {
     "ename": "ValueError",
     "evalue": "invalid literal for int() with base 10: '1 2 3 4 5 4 3 2'",
     "output_type": "error",
     "traceback": [
      "\u001b[1;31m---------------------------------------------------------------------------\u001b[0m",
      "\u001b[1;31mValueError\u001b[0m                                Traceback (most recent call last)",
      "Cell \u001b[1;32mIn[15], line 27\u001b[0m\n\u001b[0;32m     23\u001b[0m         \u001b[38;5;28;01mif\u001b[39;00m count\u001b[38;5;241m>\u001b[39m\u001b[38;5;241m1\u001b[39m:\n\u001b[0;32m     25\u001b[0m             \u001b[38;5;28mprint\u001b[39m(\u001b[38;5;124mf\u001b[39m\u001b[38;5;124m\"\u001b[39m\u001b[38;5;132;01m{\u001b[39;00mnum\u001b[38;5;132;01m}\u001b[39;00m\u001b[38;5;124m:\u001b[39m\u001b[38;5;132;01m{\u001b[39;00mcount\u001b[38;5;132;01m}\u001b[39;00m\u001b[38;5;124m times\u001b[39m\u001b[38;5;124m\"\u001b[39m)\n\u001b[1;32m---> 27\u001b[0m dis_rep_num()\n",
      "Cell \u001b[1;32mIn[15], line 5\u001b[0m, in \u001b[0;36mdis_rep_num\u001b[1;34m()\u001b[0m\n\u001b[0;32m      1\u001b[0m \u001b[38;5;28;01mdef\u001b[39;00m \u001b[38;5;21mdis_rep_num\u001b[39m():\n\u001b[1;32m----> 5\u001b[0m     n\u001b[38;5;241m=\u001b[39m\u001b[38;5;28mint\u001b[39m(\u001b[38;5;28minput\u001b[39m())\n\u001b[0;32m      7\u001b[0m     \u001b[38;5;28mdict\u001b[39m\u001b[38;5;241m=\u001b[39m{}\n\u001b[0;32m      9\u001b[0m     \u001b[38;5;28;01mfor\u001b[39;00m i \u001b[38;5;129;01min\u001b[39;00m n:\n",
      "\u001b[1;31mValueError\u001b[0m: invalid literal for int() with base 10: '1 2 3 4 5 4 3 2'"
     ]
    }
   ],
   "source": [
    "def dis_rep_num():\n",
    "\n",
    "    \n",
    "\n",
    "    n=int(input())\n",
    "\n",
    "    dict={}\n",
    "\n",
    "    for i in n:\n",
    "\n",
    "        if i in dict:\n",
    "\n",
    "            d[i]+=1\n",
    "\n",
    "        else:\n",
    "\n",
    "            d[i]=1\n",
    "\n",
    "    \n",
    "\n",
    "    for num,count in dict.items():\n",
    "\n",
    "        if count>1:\n",
    "\n",
    "            print(f\"{num}:{count} times\")\n",
    "\n",
    "dis_rep_num()\n",
    "\n"
   ]
  },
  {
   "cell_type": "code",
   "execution_count": null,
   "id": "e06159b3-9aba-497a-9a74-81808bd43e0c",
   "metadata": {},
   "outputs": [],
   "source": []
  }
 ],
 "metadata": {
  "kernelspec": {
   "display_name": "Python 3 (ipykernel)",
   "language": "python",
   "name": "python3"
  },
  "language_info": {
   "codemirror_mode": {
    "name": "ipython",
    "version": 3
   },
   "file_extension": ".py",
   "mimetype": "text/x-python",
   "name": "python",
   "nbconvert_exporter": "python",
   "pygments_lexer": "ipython3",
   "version": "3.12.4"
  }
 },
 "nbformat": 4,
 "nbformat_minor": 5
}
