{
 "cells": [
  {
   "cell_type": "code",
   "execution_count": 72,
   "id": "b1df17b8-f39b-48fa-b5d5-c32866a77978",
   "metadata": {},
   "outputs": [],
   "source": [
    "class Node:\n",
    "    def __init__(self,data):\n",
    "        self.data=data\n",
    "        self.next=None\n",
    "\n",
    "class LinkedList:\n",
    "    def __init__(self):\n",
    "        self.size=0\n",
    "        self.head=None\n",
    "    \n",
    "    def addelement_atend(self,data):\n",
    "        current=self.head\n",
    "        if current==None:\n",
    "            node=Node(data)\n",
    "            self.head=node\n",
    "        else:\n",
    "            while(current.next!=None):\n",
    "                current=current.next\n",
    "            current.next=Node(data)\n",
    "        self.size+=1\n",
    "    `\n",
    "    def addbeg(self):\n",
    "        current=self.head\n",
    "        if self.head==None:\n",
    "            current=self.head\n",
    "        else:\n",
    "            \n",
    "    def display(self):  \n",
    "        #Node current will point to head  \n",
    "        current = self.head;  \n",
    "          \n",
    "        if(self.head == None):  \n",
    "            print(\"List is empty\");  \n",
    "            return;  \n",
    "        print(\"Nodes of singly linked list: \");  \n",
    "        while(current != None):  \n",
    "            #Prints each node by incrementing pointer  \n",
    "            print(current.data),  \n",
    "            current = current.next;  \n",
    "   \n",
    "    \n",
    "    "
   ]
  },
  {
   "cell_type": "code",
   "execution_count": 73,
   "id": "d3355dc4-5641-426a-a817-f919ccf98571",
   "metadata": {},
   "outputs": [],
   "source": [
    "ll=LinkedList()"
   ]
  },
  {
   "cell_type": "code",
   "execution_count": 74,
   "id": "edf889f4-f4af-4640-aec6-c17754e1bc5c",
   "metadata": {},
   "outputs": [],
   "source": [
    "ll.addelement_atend(10)\n"
   ]
  },
  {
   "cell_type": "code",
   "execution_count": 75,
   "id": "b3096210-8571-488c-9f57-921b03f8ee77",
   "metadata": {},
   "outputs": [],
   "source": [
    "ll.addelement_atend(20)\n",
    "ll.addelement_atend(30)\n",
    "ll.addelement_atend(40)"
   ]
  },
  {
   "cell_type": "code",
   "execution_count": 76,
   "id": "20847f01-f83c-4c7c-9359-171f0ee40be5",
   "metadata": {},
   "outputs": [
    {
     "name": "stdout",
     "output_type": "stream",
     "text": [
      "Nodes of singly linked list: \n",
      "10\n",
      "20\n",
      "30\n",
      "40\n"
     ]
    }
   ],
   "source": [
    "ll.display()\n"
   ]
  },
  {
   "cell_type": "code",
   "execution_count": null,
   "id": "bf1074c8-5e8e-4c15-9693-eaaaf24b1bc4",
   "metadata": {},
   "outputs": [],
   "source": []
  },
  {
   "cell_type": "code",
   "execution_count": null,
   "id": "148aae63-28f6-447c-822a-ffb858520c5a",
   "metadata": {},
   "outputs": [],
   "source": []
  }
 ],
 "metadata": {
  "kernelspec": {
   "display_name": "Python 3 (ipykernel)",
   "language": "python",
   "name": "python3"
  },
  "language_info": {
   "codemirror_mode": {
    "name": "ipython",
    "version": 3
   },
   "file_extension": ".py",
   "mimetype": "text/x-python",
   "name": "python",
   "nbconvert_exporter": "python",
   "pygments_lexer": "ipython3",
   "version": "3.12.4"
  }
 },
 "nbformat": 4,
 "nbformat_minor": 5
}
