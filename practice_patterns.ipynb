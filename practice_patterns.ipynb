{
 "cells": [
  {
   "cell_type": "code",
   "execution_count": 73,
   "id": "d793c799-d13c-4e0d-a811-fa5b7eb7094f",
   "metadata": {},
   "outputs": [
    {
     "name": "stdout",
     "output_type": "stream",
     "text": [
      "*****\n",
      "*   *\n",
      "*   *\n",
      "*   *\n",
      "*****\n"
     ]
    }
   ],
   "source": [
    "lis=[]\n",
    "\"\"\"\n",
    "*****\n",
    "*   *\n",
    "*   *\n",
    "*   *\n",
    "*****\n",
    "\"\"\"\n",
    "n=5\n",
    "\n",
    "for i in range(n):\n",
    "    for j in range(n):\n",
    "        if i==0 or j==0 or i==n-1 or j==n-1:\n",
    "            print(\"*\",end=\"\")\n",
    "        else:\n",
    "           print(\" \",end=\"\")\n",
    "    print()\n"
   ]
  },
  {
   "cell_type": "code",
   "execution_count": 77,
   "id": "3781fedc-284b-4df5-9bcf-407cd5163025",
   "metadata": {},
   "outputs": [
    {
     "name": "stdout",
     "output_type": "stream",
     "text": [
      "*\n",
      "*\n",
      "*\n",
      "*\n",
      "*\n"
     ]
    }
   ],
   "source": [
    "lis=[]\n",
    "\"\"\"\n",
    "*****\n",
    "*   *\n",
    "*   *\n",
    "*   *\n",
    "*****\n",
    "\"\"\"\n",
    "n=5\n",
    "var=\"\"\n",
    "for i in range(n):\n",
    "    for j in range(n):\n",
    "        if i==0 or j==0 or i==n-1 or j==n-1:\n",
    "            var=var.join(\"*\")\n",
    "        else:\n",
    "           var=var.join(\" \")\n",
    "    print(var)\n"
   ]
  },
  {
   "cell_type": "code",
   "execution_count": 71,
   "id": "88770380-d465-4806-94e1-69ad99706b5d",
   "metadata": {},
   "outputs": [
    {
     "name": "stdout",
     "output_type": "stream",
     "text": [
      "******\n",
      "*    *\n",
      "*    *\n",
      "*    *\n",
      "*    *\n",
      "******\n"
     ]
    }
   ],
   "source": [
    "n=5\n",
    "i=0\n",
    "while i<=n:\n",
    "    j=0\n",
    "    while j <=n:\n",
    "        if i==0 or j==0 or i==n or j==n:\n",
    "            print(\"*\",end=\"\")\n",
    "        else:\n",
    "           print(\" \",end=\"\")\n",
    "        j=j+1\n",
    "    print()\n",
    "        \n",
    "    i=i+1\n",
    "    \n"
   ]
  },
  {
   "cell_type": "code",
   "execution_count": 87,
   "id": "d862f50c-e968-4da0-b952-12f1c952f3d7",
   "metadata": {},
   "outputs": [
    {
     "name": "stdout",
     "output_type": "stream",
     "text": [
      "['******', '*    *', '*    *', '*    *', '*    *', '******']\n"
     ]
    }
   ],
   "source": [
    "n=5\n",
    "i=0\n",
    "lis=[]\n",
    "while i<=n:\n",
    "    j=0\n",
    "    line=\"\"\n",
    "    while j <=n:\n",
    "        if i==0 or j==0 or i==n or j==n:\n",
    "            line+=\"*\"\n",
    "        else:\n",
    "           line+=\" \"\n",
    "        \n",
    "        j=j+1\n",
    "    lis.append(line)\n",
    "        \n",
    "    i=i+1\n",
    "    \n",
    "print(lis)"
   ]
  },
  {
   "cell_type": "code",
   "execution_count": 65,
   "id": "24cae34a-3372-4576-9ad6-fac2c210cef4",
   "metadata": {},
   "outputs": [
    {
     "name": "stdout",
     "output_type": "stream",
     "text": [
      "0\n",
      "1\n",
      "2\n",
      "3\n",
      "4\n",
      "5\n",
      "6\n",
      "7\n",
      "8\n"
     ]
    }
   ],
   "source": [
    "i=0\n",
    "while i<9:\n",
    "    print(i)\n",
    "    i+=1"
   ]
  },
  {
   "cell_type": "code",
   "execution_count": 81,
   "id": "7f96b371-7988-4f71-aea4-69c66cc9c213",
   "metadata": {},
   "outputs": [
    {
     "name": "stdout",
     "output_type": "stream",
     "text": [
      "xb\n"
     ]
    }
   ],
   "source": [
    "l=\"x\"\n",
    "m=\"b\"\n",
    "print(l+m)"
   ]
  },
  {
   "cell_type": "code",
   "execution_count": 93,
   "id": "b5982710-f84d-42e0-a79e-3b05647d5aaa",
   "metadata": {},
   "outputs": [
    {
     "name": "stdout",
     "output_type": "stream",
     "text": [
      "['***', '**', '*']\n"
     ]
    }
   ],
   "source": [
    "n=3\n",
    "lis=[]\n",
    "for i in range(n,0,-1):\n",
    "    lis.append(\"*\"*i)\n",
    "    \n",
    "print(lis)"
   ]
  },
  {
   "cell_type": "code",
   "execution_count": 169,
   "id": "1e23e4fa-f58e-48d7-a0fe-e814b9022ed2",
   "metadata": {},
   "outputs": [
    {
     "name": "stdout",
     "output_type": "stream",
     "text": [
      "['*****', ' *** ', '  *  ']\n"
     ]
    }
   ],
   "source": [
    "n = 3\n",
    "lis=[]\n",
    "for i in range(n,0,-1):\n",
    "    lis.append(\" \"*(n-i)+\"*\"*(2*i-1)+\" \"*(n-i))\n",
    "print(lis)"
   ]
  },
  {
   "cell_type": "code",
   "execution_count": 173,
   "id": "c9df463a-10c7-4a65-b372-0dfc965033fb",
   "metadata": {},
   "outputs": [
    {
     "name": "stdout",
     "output_type": "stream",
     "text": [
      "\n",
      "1\n",
      "22\n",
      "333\n",
      "4444\n"
     ]
    }
   ],
   "source": [
    "\n",
    "for i in range(5):\n",
    "    print(str(i)*i)\n",
    "    "
   ]
  },
  {
   "cell_type": "code",
   "execution_count": 177,
   "id": "67be3481-87a8-4f7f-afe0-96b7a07bacf2",
   "metadata": {},
   "outputs": [
    {
     "name": "stdin",
     "output_type": "stream",
     "text": [
      " 7\n"
     ]
    },
    {
     "name": "stdout",
     "output_type": "stream",
     "text": [
      "['1', '22', '333', '4444', '55555', '666666', '7777777']\n"
     ]
    }
   ],
   "source": [
    "n=int(input())\n",
    "list1=[]\n",
    "for i in range(1,n+1):\n",
    "    list1.append(str(i)*i)\n",
    "print(list1)"
   ]
  },
  {
   "cell_type": "code",
   "execution_count": 189,
   "id": "56c6720f-6867-4860-a16f-9c9dbb567219",
   "metadata": {},
   "outputs": [
    {
     "name": "stdout",
     "output_type": "stream",
     "text": [
      "\n",
      "1\n",
      "12\n",
      "123\n"
     ]
    }
   ],
   "source": [
    "n=4\n",
    "for i in range(1,n+1):\n",
    "    for j in range(1,i):\n",
    "        print(j,end=\"\")\n",
    "    print()\n"
   ]
  },
  {
   "cell_type": "code",
   "execution_count": 223,
   "id": "21a1d809-1ea1-4230-bfec-e02411a81876",
   "metadata": {},
   "outputs": [
    {
     "name": "stdout",
     "output_type": "stream",
     "text": [
      "['1', '2', '3', '4', '5', '6', '7', '8', '9', '10', '11', '12', '13', '14', '15', '16', '17', '18', '19', '20', '21', '22', '23', '24', '25', '26', '27', '28', '29', '30', '31', '32', '33', '34', '35', '36', '37', '38', '39', '40', '41', '42', '43', '44', '45', '46', '47', '48', '49', '50', '51', '52', '53', '54', '55', '56', '57', '58', '59', '60', '61', '62', '63', '64', '65', '66', '67', '68', '69', '70', '71', '72', '73', '74', '75', '76', '77', '78', '79', '80', '81', '82', '83', '84', '85', '86', '87', '88', '89', '90', '91', '92', '93', '94', '95', '96', '97', '98', '99', '100']\n",
      "1\n",
      "12\n",
      "123\n"
     ]
    }
   ],
   "source": [
    "lis=list(map(lambda x:str(x),range(1,101)))\n",
    "print(lis)\n",
    "n=3\n",
    "for i in range(1,n+1):\n",
    "    for j in range(0,i):\n",
    "        \n",
    "        print(lis[j],end=\"\")\n",
    "    print()"
   ]
  },
  {
   "cell_type": "code",
   "execution_count": 249,
   "id": "989142cb-16c4-4d9e-a9f7-cf7bdc5dbc43",
   "metadata": {},
   "outputs": [
    {
     "name": "stdout",
     "output_type": "stream",
     "text": [
      "['1', '12', '123', '1234', '12345', '123456', '1234567', '12345678', '123456789', '12345678910', '1234567891011', '123456789101112', '12345678910111213', '1234567891011121314', '123456789101112131415']\n"
     ]
    }
   ],
   "source": [
    "a=1\n",
    "b=\"\"\n",
    "lis=[]\n",
    "for i in range(1,6):\n",
    "    for j in range(i):\n",
    "        b+=str(a)\n",
    "        lis.append(b)\n",
    "        a+=1\n",
    "        b=\"\"\n",
    "print(lis)"
   ]
  },
  {
   "cell_type": "code",
   "execution_count": 251,
   "id": "58032d4d-68dd-43d4-b83d-2c30606d805f",
   "metadata": {},
   "outputs": [
    {
     "name": "stdout",
     "output_type": "stream",
     "text": [
      "['1', '2 3', '4 5 6']\n"
     ]
    }
   ],
   "source": [
    "l=[]\n",
    "p=0\n",
    "for i in range(1,n+1):\n",
    "    l1=[str(j+p) for j in range(1,i+1)]\n",
    "    p=int(l1[-1])\n",
    "    l.append(\" \".join(l1))\n",
    "print(l)"
   ]
  },
  {
   "cell_type": "code",
   "execution_count": 257,
   "id": "580543ca-4c9c-455b-8560-b77f61e609a4",
   "metadata": {},
   "outputs": [
    {
     "name": "stdin",
     "output_type": "stream",
     "text": [
      " 3\n"
     ]
    },
    {
     "name": "stdout",
     "output_type": "stream",
     "text": [
      "['1', '2 3', '4 5 6']\n"
     ]
    }
   ],
   "source": [
    "n=int(input())\n",
    "triangle = []\n",
    "    \n",
    "    # Initialize the first number to be used in the triangle\n",
    "current_num = 1\n",
    "    \n",
    "    # Loop through each row from 1 to n\n",
    "for i in range(1, n + 1):\n",
    "        # Create a row by collecting the next i numbers\n",
    "    row = ' '.join(str(current_num + j) for j in range(i))\n",
    "        # Append the row to the list\n",
    "    triangle.append(row)\n",
    "        # Update the current number for the next row\n",
    "    current_num += i\n",
    "\n",
    "print(triangle)\n",
    "    "
   ]
  },
  {
   "cell_type": "code",
   "execution_count": 279,
   "id": "312fce09-55e1-43a1-afdf-5a28c6b81c96",
   "metadata": {},
   "outputs": [
    {
     "name": "stdin",
     "output_type": "stream",
     "text": [
      " 7\n"
     ]
    },
    {
     "name": "stdout",
     "output_type": "stream",
     "text": [
      "['1', '2 3', '4 5 6', '7 8 9 10', '11 12 13 14 15', '16 17 18 19 20 21', '22 23 24 25 26 27 28']\n"
     ]
    }
   ],
   "source": [
    "n = int(input())\n",
    "l = []\n",
    "current = 1\n",
    "\n",
    "for i in range(1, n + 1):\n",
    "    row = \" \".join(str(current + j) for j in range(i))\n",
    "    l.append(row)\n",
    "    current += i\n",
    "print(l)"
   ]
  },
  {
   "cell_type": "code",
   "execution_count": null,
   "id": "fe8d4751-fe5e-4806-a794-8c6bb6ab1512",
   "metadata": {},
   "outputs": [],
   "source": []
  },
  {
   "cell_type": "code",
   "execution_count": 286,
   "id": "904d0a22-3bc3-4308-89bd-c5c087061762",
   "metadata": {},
   "outputs": [
    {
     "name": "stdin",
     "output_type": "stream",
     "text": [
      " 3\n"
     ]
    },
    {
     "name": "stdout",
     "output_type": "stream",
     "text": [
      "['', '29', '29 30']\n"
     ]
    }
   ],
   "source": [
    "n=int(input())\n",
    "l=[]\n",
    "c=1\n",
    "for i in range1(n):\n",
    "    row=\" \".join((str(current+j) for j in range(i)))\n",
    "    l.append(row)\n",
    "    c+=i\n",
    "print(l)\n",
    "    "
   ]
  },
  {
   "cell_type": "code",
   "execution_count": null,
   "id": "ae35dc3e-5d8b-4a59-931a-7a18d02393d0",
   "metadata": {},
   "outputs": [],
   "source": []
  },
  {
   "cell_type": "code",
   "execution_count": null,
   "id": "fa0c0783-b3ba-42b2-bdac-7f65823c0860",
   "metadata": {},
   "outputs": [],
   "source": []
  },
  {
   "cell_type": "code",
   "execution_count": null,
   "id": "81cdd885-993e-4b5f-a364-f0b6259e8f4d",
   "metadata": {},
   "outputs": [],
   "source": []
  },
  {
   "cell_type": "code",
   "execution_count": null,
   "id": "9243c2b3-76e1-4378-ab7a-116a3055fa51",
   "metadata": {},
   "outputs": [],
   "source": []
  },
  {
   "cell_type": "code",
   "execution_count": null,
   "id": "9cdf8d90-8690-41cc-b1b1-b247448f5ad2",
   "metadata": {},
   "outputs": [],
   "source": []
  },
  {
   "cell_type": "code",
   "execution_count": null,
   "id": "ea71077f-367f-41d3-a6a3-6905c7914d83",
   "metadata": {},
   "outputs": [],
   "source": []
  },
  {
   "cell_type": "code",
   "execution_count": null,
   "id": "4ff14749-a9d5-4f47-a241-24ce06e44c89",
   "metadata": {},
   "outputs": [],
   "source": []
  },
  {
   "cell_type": "code",
   "execution_count": null,
   "id": "ed9b3bf2-7fae-4743-a564-dcf282216579",
   "metadata": {},
   "outputs": [],
   "source": []
  }
 ],
 "metadata": {
  "kernelspec": {
   "display_name": "Python 3 (ipykernel)",
   "language": "python",
   "name": "python3"
  },
  "language_info": {
   "codemirror_mode": {
    "name": "ipython",
    "version": 3
   },
   "file_extension": ".py",
   "mimetype": "text/x-python",
   "name": "python",
   "nbconvert_exporter": "python",
   "pygments_lexer": "ipython3",
   "version": "3.12.4"
  }
 },
 "nbformat": 4,
 "nbformat_minor": 5
}
