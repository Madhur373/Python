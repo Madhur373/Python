{
 "cells": [
  {
   "cell_type": "code",
   "execution_count": 27,
   "id": "21d37dca-a053-43e9-acf8-e0436e3e4f08",
   "metadata": {},
   "outputs": [
    {
     "name": "stdin",
     "output_type": "stream",
     "text": [
      " 9999\n"
     ]
    },
    {
     "name": "stdout",
     "output_type": "stream",
     "text": [
      "99980001\n",
      "no\n",
      "981000\n"
     ]
    }
   ],
   "source": [
    "n=int(input())\n",
    "ns=str(n)\n",
    "leng=len(ns)\n",
    "half=leng//2\n",
    "sq=n**2\n",
    "sq2=str(sq)\n",
    "print(sq2)\n",
    "if leng%2!=0:\n",
    "    b=int(sq2[:half+1])+int(sq2[half+1:]) \n",
    "else:\n",
    "    b=int(sq2[:half+1])+int(sq2[half:]) \n",
    "if b==n:\n",
    "    print(\"kapraker\")\n",
    "else:\n",
    "    print(\"no\")\n",
    "print(b)\n",
    "\n"
   ]
  },
  {
   "cell_type": "code",
   "execution_count": 34,
   "id": "e3b6a02a-c953-4d80-958f-1ffc8d2afed1",
   "metadata": {},
   "outputs": [
    {
     "name": "stdin",
     "output_type": "stream",
     "text": [
      "Enter a number:  9\n"
     ]
    },
    {
     "name": "stdout",
     "output_type": "stream",
     "text": [
      "9 is a Kaprekar number\n",
      "Kaprekar sum: 9\n"
     ]
    }
   ],
   "source": [
    "n = int(input(\"Enter a number: \"))  # Input number\n",
    "sq = n ** 2  # Square the number\n",
    "sq_str = str(sq)  # Convert square to string for splitting\n",
    "length = len(sq_str)  # Length of the square\n",
    "\n",
    "# Split the square into two parts\n",
    "left_part = sq_str[:length//2] or '0'  # First half or '0' if empty\n",
    "right_part = sq_str[length//2:]  # Second half\n",
    "\n",
    "# Sum of the two parts\n",
    "kaprekar_sum = int(left_part) + int(right_part)\n",
    "\n",
    "# Check if the sum equals the original number\n",
    "if kaprekar_sum == n:\n",
    "    print(f\"{n} is a Kaprekar number\")\n",
    "else:\n",
    "    print(f\"{n} is not a Kaprekar number\")\n",
    "\n",
    "print(f\"Kaprekar sum: {kaprekar_sum}\")"
   ]
  },
  {
   "cell_type": "code",
   "execution_count": null,
   "id": "34854302-26d1-422d-a810-bb586ad30d24",
   "metadata": {},
   "outputs": [],
   "source": []
  }
 ],
 "metadata": {
  "kernelspec": {
   "display_name": "Python 3 (ipykernel)",
   "language": "python",
   "name": "python3"
  },
  "language_info": {
   "codemirror_mode": {
    "name": "ipython",
    "version": 3
   },
   "file_extension": ".py",
   "mimetype": "text/x-python",
   "name": "python",
   "nbconvert_exporter": "python",
   "pygments_lexer": "ipython3",
   "version": "3.12.4"
  }
 },
 "nbformat": 4,
 "nbformat_minor": 5
}
