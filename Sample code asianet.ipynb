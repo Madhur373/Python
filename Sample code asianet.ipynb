{
 "cells": [
  {
   "cell_type": "code",
   "execution_count": null,
   "id": "14ef7fa0-7d21-4f23-9f1c-1e704e34ad1a",
   "metadata": {},
   "outputs": [],
   "source": [
    "import tensorflow as tf\n",
    "from tensorflow_tts.models import Tacotron2"
   ]
  },
  {
   "cell_type": "code",
   "execution_count": null,
   "id": "eacb0297-0d03-4ce0-8bcf-6575429aecc9",
   "metadata": {},
   "outputs": [],
   "source": [
    "# Load pre-trained model\n",
    "model = Tacotron2()\n",
    "# Input text\n",
    "text = \"Welcome to the personalized audiobook experience.\"\n",
    "# Convert text to speech\n",
    "synthesized_voice = model.synthesize(text, accent=\"Indian English\")\n",
    "# Save to file\n",
    "with open('output.wav', 'wb') as f:\n",
    "    f.write(synthesized_voice)"
   ]
  },
  {
   "cell_type": "code",
   "execution_count": null,
   "id": "e02c0dc0-c9f5-4a46-b589-111ca80e556d",
   "metadata": {},
   "outputs": [],
   "source": []
  }
 ],
 "metadata": {
  "kernelspec": {
   "display_name": "Python 3 (ipykernel)",
   "language": "python",
   "name": "python3"
  },
  "language_info": {
   "codemirror_mode": {
    "name": "ipython",
    "version": 3
   },
   "file_extension": ".py",
   "mimetype": "text/x-python",
   "name": "python",
   "nbconvert_exporter": "python",
   "pygments_lexer": "ipython3",
   "version": "3.12.4"
  }
 },
 "nbformat": 4,
 "nbformat_minor": 5
}
