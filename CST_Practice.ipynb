{
 "cells": [
  {
   "cell_type": "code",
   "execution_count": 8,
   "id": "c87f5812-98a2-4562-97f0-1aa01ba17688",
   "metadata": {},
   "outputs": [
    {
     "data": {
      "text/plain": [
       "[[0, 0, 0],\n",
       " [0, 0, 1],\n",
       " [0, 0, 2],\n",
       " [0, 0, 3],\n",
       " [0, 0, 4],\n",
       " [0, 0, 5],\n",
       " [0, 0, 6],\n",
       " [0, 1, 0],\n",
       " [0, 1, 1],\n",
       " [0, 1, 2],\n",
       " [0, 1, 3],\n",
       " [0, 1, 4],\n",
       " [0, 1, 5],\n",
       " [0, 1, 6],\n",
       " [0, 2, 0],\n",
       " [0, 2, 1],\n",
       " [0, 2, 2],\n",
       " [0, 2, 3],\n",
       " [0, 2, 4],\n",
       " [0, 2, 5],\n",
       " [0, 2, 6],\n",
       " [0, 3, 0],\n",
       " [0, 3, 1],\n",
       " [0, 3, 2],\n",
       " [0, 3, 3],\n",
       " [0, 3, 4],\n",
       " [0, 3, 5],\n",
       " [0, 3, 6],\n",
       " [0, 4, 0],\n",
       " [0, 4, 1],\n",
       " [0, 4, 2],\n",
       " [0, 4, 3],\n",
       " [0, 4, 4],\n",
       " [0, 4, 5],\n",
       " [0, 4, 6],\n",
       " [0, 5, 0],\n",
       " [0, 5, 1],\n",
       " [0, 5, 2],\n",
       " [0, 5, 3],\n",
       " [0, 5, 4],\n",
       " [0, 5, 5],\n",
       " [0, 5, 6],\n",
       " [0, 6, 0],\n",
       " [0, 6, 1],\n",
       " [0, 6, 2],\n",
       " [0, 6, 3],\n",
       " [0, 6, 4],\n",
       " [0, 6, 5],\n",
       " [0, 6, 6],\n",
       " [1, 0, 0],\n",
       " [1, 0, 1],\n",
       " [1, 0, 2],\n",
       " [1, 0, 3],\n",
       " [1, 0, 4],\n",
       " [1, 0, 5],\n",
       " [1, 0, 6],\n",
       " [1, 1, 0],\n",
       " [1, 1, 1],\n",
       " [1, 1, 2],\n",
       " [1, 1, 3],\n",
       " [1, 1, 4],\n",
       " [1, 1, 5],\n",
       " [1, 1, 6],\n",
       " [1, 2, 0],\n",
       " [1, 2, 1],\n",
       " [1, 2, 2],\n",
       " [1, 2, 3],\n",
       " [1, 2, 4],\n",
       " [1, 2, 5],\n",
       " [1, 2, 6],\n",
       " [1, 3, 0],\n",
       " [1, 3, 1],\n",
       " [1, 3, 2],\n",
       " [1, 3, 3],\n",
       " [1, 3, 4],\n",
       " [1, 3, 5],\n",
       " [1, 3, 6],\n",
       " [1, 4, 0],\n",
       " [1, 4, 1],\n",
       " [1, 4, 2],\n",
       " [1, 4, 3],\n",
       " [1, 4, 4],\n",
       " [1, 4, 5],\n",
       " [1, 4, 6],\n",
       " [1, 5, 0],\n",
       " [1, 5, 1],\n",
       " [1, 5, 2],\n",
       " [1, 5, 3],\n",
       " [1, 5, 4],\n",
       " [1, 5, 5],\n",
       " [1, 5, 6],\n",
       " [1, 6, 0],\n",
       " [1, 6, 1],\n",
       " [1, 6, 2],\n",
       " [1, 6, 3],\n",
       " [1, 6, 4],\n",
       " [1, 6, 5],\n",
       " [1, 6, 6],\n",
       " [2, 0, 0],\n",
       " [2, 0, 1],\n",
       " [2, 0, 2],\n",
       " [2, 0, 3],\n",
       " [2, 0, 4],\n",
       " [2, 0, 5],\n",
       " [2, 0, 6],\n",
       " [2, 1, 0],\n",
       " [2, 1, 1],\n",
       " [2, 1, 2],\n",
       " [2, 1, 3],\n",
       " [2, 1, 4],\n",
       " [2, 1, 5],\n",
       " [2, 1, 6],\n",
       " [2, 2, 0],\n",
       " [2, 2, 1],\n",
       " [2, 2, 2],\n",
       " [2, 2, 3],\n",
       " [2, 2, 4],\n",
       " [2, 2, 5],\n",
       " [2, 2, 6],\n",
       " [2, 3, 0],\n",
       " [2, 3, 1],\n",
       " [2, 3, 2],\n",
       " [2, 3, 3],\n",
       " [2, 3, 4],\n",
       " [2, 3, 5],\n",
       " [2, 3, 6],\n",
       " [2, 4, 0],\n",
       " [2, 4, 1],\n",
       " [2, 4, 2],\n",
       " [2, 4, 3],\n",
       " [2, 4, 4],\n",
       " [2, 4, 5],\n",
       " [2, 4, 6],\n",
       " [2, 5, 0],\n",
       " [2, 5, 1],\n",
       " [2, 5, 2],\n",
       " [2, 5, 3],\n",
       " [2, 5, 4],\n",
       " [2, 5, 5],\n",
       " [2, 5, 6],\n",
       " [2, 6, 0],\n",
       " [2, 6, 1],\n",
       " [2, 6, 2],\n",
       " [2, 6, 3],\n",
       " [2, 6, 4],\n",
       " [2, 6, 5],\n",
       " [2, 6, 6],\n",
       " [3, 0, 0],\n",
       " [3, 0, 1],\n",
       " [3, 0, 2],\n",
       " [3, 0, 3],\n",
       " [3, 0, 4],\n",
       " [3, 0, 5],\n",
       " [3, 0, 6],\n",
       " [3, 1, 0],\n",
       " [3, 1, 1],\n",
       " [3, 1, 2],\n",
       " [3, 1, 3],\n",
       " [3, 1, 4],\n",
       " [3, 1, 5],\n",
       " [3, 1, 6],\n",
       " [3, 2, 0],\n",
       " [3, 2, 1],\n",
       " [3, 2, 2],\n",
       " [3, 2, 3],\n",
       " [3, 2, 4],\n",
       " [3, 2, 5],\n",
       " [3, 2, 6],\n",
       " [3, 3, 0],\n",
       " [3, 3, 1],\n",
       " [3, 3, 2],\n",
       " [3, 3, 3],\n",
       " [3, 3, 4],\n",
       " [3, 3, 5],\n",
       " [3, 3, 6],\n",
       " [3, 4, 0],\n",
       " [3, 4, 1],\n",
       " [3, 4, 2],\n",
       " [3, 4, 3],\n",
       " [3, 4, 4],\n",
       " [3, 4, 5],\n",
       " [3, 4, 6],\n",
       " [3, 5, 0],\n",
       " [3, 5, 1],\n",
       " [3, 5, 2],\n",
       " [3, 5, 3],\n",
       " [3, 5, 4],\n",
       " [3, 5, 5],\n",
       " [3, 5, 6],\n",
       " [3, 6, 0],\n",
       " [3, 6, 1],\n",
       " [3, 6, 2],\n",
       " [3, 6, 3],\n",
       " [3, 6, 4],\n",
       " [3, 6, 5],\n",
       " [3, 6, 6],\n",
       " [4, 0, 0],\n",
       " [4, 0, 1],\n",
       " [4, 0, 2],\n",
       " [4, 0, 3],\n",
       " [4, 0, 4],\n",
       " [4, 0, 5],\n",
       " [4, 0, 6],\n",
       " [4, 1, 0],\n",
       " [4, 1, 1],\n",
       " [4, 1, 2],\n",
       " [4, 1, 3],\n",
       " [4, 1, 4],\n",
       " [4, 1, 5],\n",
       " [4, 1, 6],\n",
       " [4, 2, 0],\n",
       " [4, 2, 1],\n",
       " [4, 2, 2],\n",
       " [4, 2, 3],\n",
       " [4, 2, 4],\n",
       " [4, 2, 5],\n",
       " [4, 2, 6],\n",
       " [4, 3, 0],\n",
       " [4, 3, 1],\n",
       " [4, 3, 2],\n",
       " [4, 3, 3],\n",
       " [4, 3, 4],\n",
       " [4, 3, 5],\n",
       " [4, 3, 6],\n",
       " [4, 4, 0],\n",
       " [4, 4, 1],\n",
       " [4, 4, 2],\n",
       " [4, 4, 3],\n",
       " [4, 4, 4],\n",
       " [4, 4, 5],\n",
       " [4, 4, 6],\n",
       " [4, 5, 0],\n",
       " [4, 5, 1],\n",
       " [4, 5, 2],\n",
       " [4, 5, 3],\n",
       " [4, 5, 4],\n",
       " [4, 5, 5],\n",
       " [4, 5, 6],\n",
       " [4, 6, 0],\n",
       " [4, 6, 1],\n",
       " [4, 6, 2],\n",
       " [4, 6, 3],\n",
       " [4, 6, 4],\n",
       " [4, 6, 5],\n",
       " [4, 6, 6],\n",
       " [5, 0, 0],\n",
       " [5, 0, 1],\n",
       " [5, 0, 2],\n",
       " [5, 0, 3],\n",
       " [5, 0, 4],\n",
       " [5, 0, 5],\n",
       " [5, 0, 6],\n",
       " [5, 1, 0],\n",
       " [5, 1, 1],\n",
       " [5, 1, 2],\n",
       " [5, 1, 3],\n",
       " [5, 1, 4],\n",
       " [5, 1, 5],\n",
       " [5, 1, 6],\n",
       " [5, 2, 0],\n",
       " [5, 2, 1],\n",
       " [5, 2, 2],\n",
       " [5, 2, 3],\n",
       " [5, 2, 4],\n",
       " [5, 2, 5],\n",
       " [5, 2, 6],\n",
       " [5, 3, 0],\n",
       " [5, 3, 1],\n",
       " [5, 3, 2],\n",
       " [5, 3, 3],\n",
       " [5, 3, 4],\n",
       " [5, 3, 5],\n",
       " [5, 3, 6],\n",
       " [5, 4, 0],\n",
       " [5, 4, 1],\n",
       " [5, 4, 2],\n",
       " [5, 4, 3],\n",
       " [5, 4, 4],\n",
       " [5, 4, 5],\n",
       " [5, 4, 6],\n",
       " [5, 5, 0],\n",
       " [5, 5, 1],\n",
       " [5, 5, 2],\n",
       " [5, 5, 3],\n",
       " [5, 5, 4],\n",
       " [5, 5, 5],\n",
       " [5, 5, 6],\n",
       " [5, 6, 0],\n",
       " [5, 6, 1],\n",
       " [5, 6, 2],\n",
       " [5, 6, 3],\n",
       " [5, 6, 4],\n",
       " [5, 6, 5],\n",
       " [5, 6, 6],\n",
       " [6, 0, 0],\n",
       " [6, 0, 1],\n",
       " [6, 0, 2],\n",
       " [6, 0, 3],\n",
       " [6, 0, 4],\n",
       " [6, 0, 5],\n",
       " [6, 0, 6],\n",
       " [6, 1, 0],\n",
       " [6, 1, 1],\n",
       " [6, 1, 2],\n",
       " [6, 1, 3],\n",
       " [6, 1, 4],\n",
       " [6, 1, 5],\n",
       " [6, 1, 6],\n",
       " [6, 2, 0],\n",
       " [6, 2, 1],\n",
       " [6, 2, 2],\n",
       " [6, 2, 3],\n",
       " [6, 2, 4],\n",
       " [6, 2, 5],\n",
       " [6, 2, 6],\n",
       " [6, 3, 0],\n",
       " [6, 3, 1],\n",
       " [6, 3, 2],\n",
       " [6, 3, 3],\n",
       " [6, 3, 4],\n",
       " [6, 3, 5],\n",
       " [6, 3, 6],\n",
       " [6, 4, 0],\n",
       " [6, 4, 1],\n",
       " [6, 4, 2],\n",
       " [6, 4, 3],\n",
       " [6, 4, 4],\n",
       " [6, 4, 5],\n",
       " [6, 4, 6],\n",
       " [6, 5, 0],\n",
       " [6, 5, 1],\n",
       " [6, 5, 2],\n",
       " [6, 5, 3],\n",
       " [6, 5, 4],\n",
       " [6, 5, 5],\n",
       " [6, 5, 6],\n",
       " [6, 6, 0],\n",
       " [6, 6, 1],\n",
       " [6, 6, 2],\n",
       " [6, 6, 3],\n",
       " [6, 6, 4],\n",
       " [6, 6, 5],\n",
       " [6, 6, 6]]"
      ]
     },
     "execution_count": 8,
     "metadata": {},
     "output_type": "execute_result"
    }
   ],
   "source": [
    "x=6\n",
    "y=6\n",
    "z=6\n",
    "s=[[i,j,k] for i in range(x+1) for j in range(y+1) for k in range(z+1)]\n",
    "\n",
    "s"
   ]
  },
  {
   "cell_type": "code",
   "execution_count": 12,
   "id": "b7e49cdb-aaa9-47c3-80e1-70297cca4b2b",
   "metadata": {},
   "outputs": [
    {
     "name": "stdin",
     "output_type": "stream",
     "text": [
      " 2\n",
      " 3\n"
     ]
    }
   ],
   "source": [
    "ele = int(input())\n",
    "index=int(input())\n",
    "list=[]\n",
    "list.insert(index, ele)"
   ]
  },
  {
   "cell_type": "code",
   "execution_count": 13,
   "id": "39e2b0d1-d1c5-4834-b849-7f9481a1c31a",
   "metadata": {},
   "outputs": [
    {
     "data": {
      "text/plain": [
       "[2]"
      ]
     },
     "execution_count": 13,
     "metadata": {},
     "output_type": "execute_result"
    }
   ],
   "source": [
    "list\n"
   ]
  },
  {
   "cell_type": "code",
   "execution_count": 14,
   "id": "01e6c6c7-ee77-45db-803c-f451284871e1",
   "metadata": {},
   "outputs": [],
   "source": [
    "list.insert(index, ele)\n"
   ]
  },
  {
   "cell_type": "code",
   "execution_count": 15,
   "id": "b7f3db3f-85c6-443d-94e4-6e61122d492a",
   "metadata": {},
   "outputs": [
    {
     "data": {
      "text/plain": [
       "[2, 2]"
      ]
     },
     "execution_count": 15,
     "metadata": {},
     "output_type": "execute_result"
    }
   ],
   "source": [
    "list\n"
   ]
  },
  {
   "cell_type": "code",
   "execution_count": 16,
   "id": "32124189-93eb-4d01-be52-d98ec64747a0",
   "metadata": {},
   "outputs": [
    {
     "name": "stdin",
     "output_type": "stream",
     "text": [
      " 0\n",
      " 3\n"
     ]
    }
   ],
   "source": [
    "ele = int(input())\n",
    "index=int(input())\n",
    "list=[]\n",
    "list.insert(index, ele)\n"
   ]
  },
  {
   "cell_type": "code",
   "execution_count": 17,
   "id": "6418b31d-6bd8-4884-a249-d9232dfd865c",
   "metadata": {},
   "outputs": [
    {
     "data": {
      "text/plain": [
       "[0]"
      ]
     },
     "execution_count": 17,
     "metadata": {},
     "output_type": "execute_result"
    }
   ],
   "source": [
    "list\n"
   ]
  },
  {
   "cell_type": "code",
   "execution_count": 18,
   "id": "c8f2e601-40f2-4e80-9145-4dbde34e7bf1",
   "metadata": {},
   "outputs": [
    {
     "name": "stdin",
     "output_type": "stream",
     "text": [
      " 0\n",
      " 2\n"
     ]
    }
   ],
   "source": [
    "ele = int(input())\n",
    "index=int(input())\n",
    "\n",
    "list.insert(index, ele)"
   ]
  },
  {
   "cell_type": "code",
   "execution_count": 19,
   "id": "09c34d22-0103-4ff9-9a85-32528fe0da8c",
   "metadata": {},
   "outputs": [
    {
     "data": {
      "text/plain": [
       "[0, 0]"
      ]
     },
     "execution_count": 19,
     "metadata": {},
     "output_type": "execute_result"
    }
   ],
   "source": [
    "list\n"
   ]
  },
  {
   "cell_type": "code",
   "execution_count": 20,
   "id": "dfee46a6-0ac4-4c2b-8801-5f5b0ce23678",
   "metadata": {},
   "outputs": [
    {
     "name": "stdin",
     "output_type": "stream",
     "text": [
      " 4\n",
      " 1\n"
     ]
    },
    {
     "data": {
      "text/plain": [
       "[0, 4, 0]"
      ]
     },
     "execution_count": 20,
     "metadata": {},
     "output_type": "execute_result"
    }
   ],
   "source": [
    "ele = int(input())\n",
    "index=int(input())\n",
    "\n",
    "list.insert(index, ele)\n",
    "list"
   ]
  },
  {
   "cell_type": "code",
   "execution_count": 27,
   "id": "f7bef688-06bd-4425-b4e5-4177d11c1af5",
   "metadata": {},
   "outputs": [
    {
     "name": "stdin",
     "output_type": "stream",
     "text": [
      " 3\n",
      " 2 3 3 \n"
     ]
    },
    {
     "ename": "TypeError",
     "evalue": "'list' object is not callable",
     "output_type": "error",
     "traceback": [
      "\u001b[1;31m---------------------------------------------------------------------------\u001b[0m",
      "\u001b[1;31mTypeError\u001b[0m                                 Traceback (most recent call last)",
      "Cell \u001b[1;32mIn[27], line 2\u001b[0m\n\u001b[0;32m      1\u001b[0m n \u001b[38;5;241m=\u001b[39m \u001b[38;5;28mint\u001b[39m(\u001b[38;5;28minput\u001b[39m())\n\u001b[1;32m----> 2\u001b[0m arr \u001b[38;5;241m=\u001b[39m \u001b[38;5;28;43mlist\u001b[39;49m\u001b[43m(\u001b[49m\u001b[38;5;28;43mmap\u001b[39;49m\u001b[43m(\u001b[49m\u001b[38;5;28;43mint\u001b[39;49m\u001b[43m,\u001b[49m\u001b[43m \u001b[49m\u001b[38;5;28;43minput\u001b[39;49m\u001b[43m(\u001b[49m\u001b[43m)\u001b[49m\u001b[38;5;241;43m.\u001b[39;49m\u001b[43msplit\u001b[49m\u001b[43m(\u001b[49m\u001b[43m)\u001b[49m\u001b[43m)\u001b[49m\u001b[43m)\u001b[49m\n",
      "\u001b[1;31mTypeError\u001b[0m: 'list' object is not callable"
     ]
    }
   ],
   "source": [
    "n = int(input())\n",
    "arr = list(map(int, input().split()))"
   ]
  },
  {
   "cell_type": "code",
   "execution_count": 24,
   "id": "6497aed8-7117-4ac7-897d-3513a0378fcd",
   "metadata": {},
   "outputs": [
    {
     "data": {
      "text/plain": [
       "<map at 0x211039ab280>"
      ]
     },
     "execution_count": 24,
     "metadata": {},
     "output_type": "execute_result"
    }
   ],
   "source": [
    "arr\n"
   ]
  },
  {
   "cell_type": "code",
   "execution_count": 31,
   "id": "08198d04-109b-4de4-8e84-ef05db375a29",
   "metadata": {},
   "outputs": [
    {
     "name": "stdin",
     "output_type": "stream",
     "text": [
      " 3\n",
      " 1 2 3\n"
     ]
    },
    {
     "ename": "TypeError",
     "evalue": "'list' object is not callable",
     "output_type": "error",
     "traceback": [
      "\u001b[1;31m---------------------------------------------------------------------------\u001b[0m",
      "\u001b[1;31mTypeError\u001b[0m                                 Traceback (most recent call last)",
      "Cell \u001b[1;32mIn[31], line 2\u001b[0m\n\u001b[0;32m      1\u001b[0m n \u001b[38;5;241m=\u001b[39m \u001b[38;5;28mint\u001b[39m(\u001b[38;5;28minput\u001b[39m())\n\u001b[1;32m----> 2\u001b[0m arr \u001b[38;5;241m=\u001b[39m \u001b[38;5;28;43mlist\u001b[39;49m\u001b[43m(\u001b[49m\u001b[38;5;28;43mmap\u001b[39;49m\u001b[43m(\u001b[49m\u001b[38;5;28;43mint\u001b[39;49m\u001b[43m,\u001b[49m\u001b[43m \u001b[49m\u001b[38;5;28;43minput\u001b[39;49m\u001b[43m(\u001b[49m\u001b[43m)\u001b[49m\u001b[38;5;241;43m.\u001b[39;49m\u001b[43msplit\u001b[49m\u001b[43m(\u001b[49m\u001b[43m)\u001b[49m\u001b[43m)\u001b[49m\u001b[43m)\u001b[49m\n",
      "\u001b[1;31mTypeError\u001b[0m: 'list' object is not callable"
     ]
    }
   ],
   "source": [
    "n = int(input())\n",
    "arr = list(map(int, input().split()))"
   ]
  },
  {
   "cell_type": "code",
   "execution_count": 32,
   "id": "bed4876e-e78c-43e5-a195-92494b77141f",
   "metadata": {},
   "outputs": [
    {
     "ename": "AttributeError",
     "evalue": "'list' object has no attribute 'unique'",
     "output_type": "error",
     "traceback": [
      "\u001b[1;31m---------------------------------------------------------------------------\u001b[0m",
      "\u001b[1;31mAttributeError\u001b[0m                            Traceback (most recent call last)",
      "Cell \u001b[1;32mIn[32], line 2\u001b[0m\n\u001b[0;32m      1\u001b[0m arr\u001b[38;5;241m=\u001b[39m[\u001b[38;5;241m0\u001b[39m,\u001b[38;5;241m9\u001b[39m,\u001b[38;5;241m8\u001b[39m,\u001b[38;5;241m8\u001b[39m]\n\u001b[1;32m----> 2\u001b[0m \u001b[43marr\u001b[49m\u001b[38;5;241;43m.\u001b[39;49m\u001b[43munique\u001b[49m()\n\u001b[0;32m      3\u001b[0m arr\n",
      "\u001b[1;31mAttributeError\u001b[0m: 'list' object has no attribute 'unique'"
     ]
    }
   ],
   "source": [
    "arr=[0,9,8,8]\n",
    "arr.unique()\n",
    "arr"
   ]
  },
  {
   "cell_type": "code",
   "execution_count": null,
   "id": "cd3b60a8-2d5c-4799-938e-4ca09fc0cbf3",
   "metadata": {},
   "outputs": [],
   "source": []
  },
  {
   "cell_type": "code",
   "execution_count": 37,
   "id": "f1dad37e-ddfd-41cc-b550-768a8028170d",
   "metadata": {},
   "outputs": [
    {
     "name": "stdin",
     "output_type": "stream",
     "text": [
      " 3\n",
      " edd\n",
      " 32\n",
      " dddf\n",
      " 33\n",
      " ddf\n",
      " 54\n"
     ]
    }
   ],
   "source": [
    "l=[]\n",
    "for _ in range(int(input())):\n",
    "    name = input()\n",
    "    score = float(input())\n",
    "\n",
    "    l.append([name,score])"
   ]
  },
  {
   "cell_type": "code",
   "execution_count": 38,
   "id": "12318818-c455-4f49-bea6-daf646bbf08e",
   "metadata": {},
   "outputs": [
    {
     "data": {
      "text/plain": [
       "[['edd', 32.0], ['dddf', 33.0], ['ddf', 54.0]]"
      ]
     },
     "execution_count": 38,
     "metadata": {},
     "output_type": "execute_result"
    }
   ],
   "source": [
    "l\n"
   ]
  },
  {
   "cell_type": "code",
   "execution_count": 35,
   "id": "684fc3da-6bd4-468f-96d5-1715a476b876",
   "metadata": {},
   "outputs": [
    {
     "data": {
      "text/plain": [
       "[['www', 44.0]]"
      ]
     },
     "execution_count": 35,
     "metadata": {},
     "output_type": "execute_result"
    }
   ],
   "source": [
    "l\n"
   ]
  },
  {
   "cell_type": "code",
   "execution_count": 39,
   "id": "e8fa6eb9-c83e-41c5-8f5a-f4ae25d1ac4c",
   "metadata": {},
   "outputs": [],
   "source": [
    "l.sort(lambda )"
   ]
  },
  {
   "cell_type": "code",
   "execution_count": 41,
   "id": "2de88b79-67f8-4428-aef5-f6c39f5ae9ea",
   "metadata": {},
   "outputs": [],
   "source": [
    "l.sort(key=lambda x: x[1])\n"
   ]
  },
  {
   "cell_type": "code",
   "execution_count": 42,
   "id": "14e4dec5-1c74-4ddb-a9de-e1a2662ab28d",
   "metadata": {},
   "outputs": [
    {
     "data": {
      "text/plain": [
       "[['edd', 32.0], ['dddf', 33.0], ['ddf', 54.0]]"
      ]
     },
     "execution_count": 42,
     "metadata": {},
     "output_type": "execute_result"
    }
   ],
   "source": [
    "l\n"
   ]
  },
  {
   "cell_type": "code",
   "execution_count": 43,
   "id": "beccc2a0-6e23-4427-a31b-680158b08283",
   "metadata": {},
   "outputs": [],
   "source": [
    "m=l.pop(-1)\n",
    "n=l.pop(-1)"
   ]
  },
  {
   "cell_type": "code",
   "execution_count": 48,
   "id": "4c2403ef-d576-41f0-84b3-92eddce0012a",
   "metadata": {},
   "outputs": [],
   "source": [
    "l\n",
    "m=l[::-1]"
   ]
  },
  {
   "cell_type": "code",
   "execution_count": 49,
   "id": "652f7595-1413-4684-bb1f-9970e626d43d",
   "metadata": {},
   "outputs": [
    {
     "data": {
      "text/plain": [
       "[['edd', 32.0]]"
      ]
     },
     "execution_count": 49,
     "metadata": {},
     "output_type": "execute_result"
    }
   ],
   "source": [
    "m"
   ]
  },
  {
   "cell_type": "code",
   "execution_count": 50,
   "id": "1539a5ac-cc72-4956-8c30-82ea7eff775a",
   "metadata": {},
   "outputs": [
    {
     "data": {
      "text/plain": [
       "['dddf', 33.0]"
      ]
     },
     "execution_count": 50,
     "metadata": {},
     "output_type": "execute_result"
    }
   ],
   "source": [
    "n"
   ]
  },
  {
   "cell_type": "code",
   "execution_count": 52,
   "id": "d793c1b0-06bc-498a-9997-e45e129d0f5a",
   "metadata": {},
   "outputs": [
    {
     "data": {
      "text/plain": [
       "[['edd', 32.0]]"
      ]
     },
     "execution_count": 52,
     "metadata": {},
     "output_type": "execute_result"
    }
   ],
   "source": [
    "l"
   ]
  },
  {
   "cell_type": "code",
   "execution_count": 55,
   "id": "83ae7a17-5683-4669-ba10-12c6934adb16",
   "metadata": {},
   "outputs": [
    {
     "name": "stdin",
     "output_type": "stream",
     "text": [
      " 4\n",
      " one\n",
      " 54\n",
      " two\n",
      " 65\n",
      " three\n",
      " 44\n",
      " four\n",
      " 69\n"
     ]
    }
   ],
   "source": [
    "l=[]\n",
    "for _ in range(int(input())):\n",
    "    name = input()\n",
    "    score = float(input())\n",
    "\n",
    "    l.append([name,score])"
   ]
  },
  {
   "cell_type": "code",
   "execution_count": 56,
   "id": "02ef5838-f8d1-49a4-949a-bda6b583dd74",
   "metadata": {},
   "outputs": [
    {
     "data": {
      "text/plain": [
       "[['one', 54.0], ['two', 65.0], ['three', 44.0], ['four', 69.0]]"
      ]
     },
     "execution_count": 56,
     "metadata": {},
     "output_type": "execute_result"
    }
   ],
   "source": [
    "l\n"
   ]
  },
  {
   "cell_type": "code",
   "execution_count": 57,
   "id": "5ff0954a-1e33-4603-a559-00550a5cd780",
   "metadata": {},
   "outputs": [],
   "source": [
    "m=l.copy()"
   ]
  },
  {
   "cell_type": "code",
   "execution_count": 58,
   "id": "8486a2e0-17a3-47a6-bf39-6d4432bfa6c6",
   "metadata": {},
   "outputs": [
    {
     "data": {
      "text/plain": [
       "[['one', 54.0], ['two', 65.0], ['three', 44.0], ['four', 69.0]]"
      ]
     },
     "execution_count": 58,
     "metadata": {},
     "output_type": "execute_result"
    }
   ],
   "source": [
    "m\n"
   ]
  },
  {
   "cell_type": "code",
   "execution_count": 59,
   "id": "0cd57671-85f2-44ec-9f4d-09e1404a2558",
   "metadata": {},
   "outputs": [],
   "source": [
    "m.sort(key=lambda x: x[1])"
   ]
  },
  {
   "cell_type": "code",
   "execution_count": 61,
   "id": "59c58e02-b430-47e2-be4f-9ee5f4dd5128",
   "metadata": {},
   "outputs": [],
   "source": [
    "n=m[::-1]"
   ]
  },
  {
   "cell_type": "code",
   "execution_count": 62,
   "id": "c94994c3-9a32-471a-b1e5-e67f8e23e431",
   "metadata": {},
   "outputs": [
    {
     "data": {
      "text/plain": [
       "[['four', 69.0], ['two', 65.0], ['one', 54.0], ['three', 44.0]]"
      ]
     },
     "execution_count": 62,
     "metadata": {},
     "output_type": "execute_result"
    }
   ],
   "source": [
    "m\n",
    "n"
   ]
  },
  {
   "cell_type": "code",
   "execution_count": 63,
   "id": "476ec735-a41d-4e47-9e7f-b2db955d6d4a",
   "metadata": {},
   "outputs": [
    {
     "data": {
      "text/plain": [
       "[['three', 44.0], ['one', 54.0], ['two', 65.0], ['four', 69.0]]"
      ]
     },
     "execution_count": 63,
     "metadata": {},
     "output_type": "execute_result"
    }
   ],
   "source": [
    "m"
   ]
  },
  {
   "cell_type": "code",
   "execution_count": 64,
   "id": "0aca5f5a-3f6d-4568-b46c-27f80ec33a51",
   "metadata": {},
   "outputs": [
    {
     "data": {
      "text/plain": [
       "[['four', 69.0], ['two', 65.0], ['one', 54.0], ['three', 44.0]]"
      ]
     },
     "execution_count": 64,
     "metadata": {},
     "output_type": "execute_result"
    }
   ],
   "source": [
    "n"
   ]
  },
  {
   "cell_type": "code",
   "execution_count": 65,
   "id": "c8f54024-ffdd-4418-a73f-6fe829144422",
   "metadata": {},
   "outputs": [],
   "source": [
    "lowest=n.pop()"
   ]
  },
  {
   "cell_type": "code",
   "execution_count": 66,
   "id": "d3c25676-36c9-4a14-b616-b734cfb0d8ef",
   "metadata": {},
   "outputs": [],
   "source": [
    "sec_lowest=n.pop()"
   ]
  },
  {
   "cell_type": "code",
   "execution_count": 69,
   "id": "8ad27f24-63ff-4fe1-83a8-f198bd188548",
   "metadata": {},
   "outputs": [
    {
     "data": {
      "text/plain": [
       "'three'"
      ]
     },
     "execution_count": 69,
     "metadata": {},
     "output_type": "execute_result"
    }
   ],
   "source": [
    "lowest[0]"
   ]
  },
  {
   "cell_type": "code",
   "execution_count": 70,
   "id": "781cdb13-429f-4fa3-b3e8-4d33b3d1a154",
   "metadata": {},
   "outputs": [
    {
     "data": {
      "text/plain": [
       "'one'"
      ]
     },
     "execution_count": 70,
     "metadata": {},
     "output_type": "execute_result"
    }
   ],
   "source": [
    "sec_lowest[0]"
   ]
  },
  {
   "cell_type": "code",
   "execution_count": 2,
   "id": "e0158818-4936-4ab1-bbc2-dc87b1d04b9a",
   "metadata": {},
   "outputs": [
    {
     "name": "stdin",
     "output_type": "stream",
     "text": [
      " 4\n",
      " harry\n",
      " 45\n",
      " m\n",
      " 54\n",
      " mo\n",
      " 65\n",
      " mor\n",
      " 78\n"
     ]
    },
    {
     "name": "stdout",
     "output_type": "stream",
     "text": [
      "harry\n",
      "m\n"
     ]
    }
   ],
   "source": [
    "l=[]\n",
    "for _ in range(int(input())):\n",
    "    name = input()\n",
    "    score= float(input())\n",
    "    l.append([name,score])\n",
    "copy=l.copy()\n",
    "copy.sort(key=lambda x: x[1])\n",
    "n=copy[::-1]\n",
    "lowest=n.pop()\n",
    "sec_lowest=n.pop()\n",
    "print(lowest[0])\n",
    "print(sec_lowest[0])"
   ]
  },
  {
   "cell_type": "code",
   "execution_count": 3,
   "id": "661e3d77-3c24-4abf-979a-bbcf8dfc5377",
   "metadata": {},
   "outputs": [
    {
     "data": {
      "text/plain": [
       "[['harry', 45.0], ['m', 54.0], ['mo', 65.0], ['mor', 78.0]]"
      ]
     },
     "execution_count": 3,
     "metadata": {},
     "output_type": "execute_result"
    }
   ],
   "source": [
    "l"
   ]
  },
  {
   "cell_type": "code",
   "execution_count": 4,
   "id": "b036c706-8a63-4528-837f-418d1ffe09bd",
   "metadata": {},
   "outputs": [
    {
     "data": {
      "text/plain": [
       "[['mor', 78.0], ['mo', 65.0]]"
      ]
     },
     "execution_count": 4,
     "metadata": {},
     "output_type": "execute_result"
    }
   ],
   "source": [
    "n"
   ]
  },
  {
   "cell_type": "code",
   "execution_count": 5,
   "id": "bd49d80c-e27d-46f1-9904-47f39a4f93c4",
   "metadata": {},
   "outputs": [
    {
     "data": {
      "text/plain": [
       "['harry', 45.0]"
      ]
     },
     "execution_count": 5,
     "metadata": {},
     "output_type": "execute_result"
    }
   ],
   "source": [
    "lowest"
   ]
  },
  {
   "cell_type": "code",
   "execution_count": 6,
   "id": "7f3cf9d8-0898-4831-9ebb-0db36fc3d32c",
   "metadata": {},
   "outputs": [
    {
     "data": {
      "text/plain": [
       "['m', 54.0]"
      ]
     },
     "execution_count": 6,
     "metadata": {},
     "output_type": "execute_result"
    }
   ],
   "source": [
    "sec_lowest"
   ]
  },
  {
   "cell_type": "code",
   "execution_count": null,
   "id": "2f11a234-4263-4a12-b347-2aea105d1ab0",
   "metadata": {},
   "outputs": [],
   "source": []
  }
 ],
 "metadata": {
  "kernelspec": {
   "display_name": "Python 3 (ipykernel)",
   "language": "python",
   "name": "python3"
  },
  "language_info": {
   "codemirror_mode": {
    "name": "ipython",
    "version": 3
   },
   "file_extension": ".py",
   "mimetype": "text/x-python",
   "name": "python",
   "nbconvert_exporter": "python",
   "pygments_lexer": "ipython3",
   "version": "3.12.4"
  }
 },
 "nbformat": 4,
 "nbformat_minor": 5
}
