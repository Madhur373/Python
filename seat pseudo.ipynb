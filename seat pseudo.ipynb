{
 "cells": [
  {
   "cell_type": "code",
   "execution_count": 1,
   "id": "54dd050d-77d4-499c-913d-56da7f362494",
   "metadata": {},
   "outputs": [
    {
     "name": "stdin",
     "output_type": "stream",
     "text": [
      "Enter the elements of the array separated by space:  0 -1 2 -3 1\n"
     ]
    },
    {
     "name": "stdout",
     "output_type": "stream",
     "text": [
      "Triplets with zero sum are: [[-3, 1, 2], [-1, 0, 1]]\n"
     ]
    }
   ],
   "source": [
    "def find_triplets_with_zero_sum(arr):\n",
    "    # Sort the array to apply two-pointer technique\n",
    "    arr.sort()\n",
    "    n = len(arr)\n",
    "    triplets = []\n",
    "\n",
    "    # Iterate through the array\n",
    "    for i in range(n - 2):\n",
    "        # Avoid duplicates\n",
    "        if i > 0 and arr[i] == arr[i - 1]:\n",
    "            continue\n",
    "\n",
    "        # Initialize two pointers\n",
    "        left = i + 1\n",
    "        right = n - 1\n",
    "\n",
    "        while left < right:\n",
    "            current_sum = arr[i] + arr[left] + arr[right]\n",
    "\n",
    "            if current_sum == 0:\n",
    "                # Found a triplet\n",
    "                triplets.append([arr[i], arr[left], arr[right]])\n",
    "                \n",
    "                # Move the left and right pointers and avoid duplicates\n",
    "                while left < right and arr[left] == arr[left + 1]:\n",
    "                    left += 1\n",
    "                while left < right and arr[right] == arr[right - 1]:\n",
    "                    right -= 1\n",
    "\n",
    "                left += 1\n",
    "                right -= 1\n",
    "            elif current_sum < 0:\n",
    "                left += 1\n",
    "            else:\n",
    "                right -= 1\n",
    "\n",
    "    return triplets\n",
    "\n",
    "\n",
    "# User-defined array input\n",
    "arr = list(map(int, input(\"Enter the elements of the array separated by space: \").split()))\n",
    "\n",
    "# Find and print the triplets whose sum is zero\n",
    "triplets = find_triplets_with_zero_sum(arr)\n",
    "if triplets:\n",
    "    print(\"Triplets with zero sum are:\", triplets)\n",
    "else:\n",
    "    print(\"No triplets found with zero sum.\") \n"
   ]
  },
  {
   "cell_type": "code",
   "execution_count": 2,
   "id": "b6a0142f-49ea-4ad7-80d1-df33a4df8712",
   "metadata": {},
   "outputs": [
    {
     "name": "stdout",
     "output_type": "stream",
     "text": [
      "afbecd\n"
     ]
    }
   ],
   "source": [
    "def wink_transform(word):\n",
    "    n = len(word)\n",
    "    mid = n // 2\n",
    "    first_half = list(word[:mid])\n",
    "    second_half = word[mid:]\n",
    "    \n",
    "    result = []\n",
    "    # Interleave characters from second_half into first_half\n",
    "    \n",
    "    for i in range(mid):\n",
    "        result.append(first_half[i])\n",
    "        result.append(second_half[-(i+1)])\n",
    "\n",
    "    \n",
    "    # If the word length is odd, append the middle character\n",
    "    \n",
    "    if n % 2 != 0:\n",
    "        result.append(word[mid])\n",
    "    \n",
    "    return ''.join(result)\n",
    "\n",
    "# Example usage:\n",
    "word = \"abcdef\"\n",
    "transformed_word = wink_transform(word)\n",
    "print(transformed_word)"
   ]
  },
  {
   "cell_type": "code",
   "execution_count": 4,
   "id": "4c05ee15-488b-48d5-88dc-e698653d7637",
   "metadata": {},
   "outputs": [
    {
     "name": "stdout",
     "output_type": "stream",
     "text": [
      "aaaaaaa\n"
     ]
    }
   ],
   "source": [
    "def wink_transform(word):\n",
    "    n = len(word)\n",
    "    mid = n // 2\n",
    "    first_half = list(word[:mid])\n",
    "    second_half = word[mid:]\n",
    "    \n",
    "    result = []\n",
    "    # Interleave characters from second_half into first_half\n",
    "    for i in range(mid):\n",
    "        result.append(first_half[i])\n",
    "        result.append(second_half[-(i+1)])\n",
    "    \n",
    "    # If the word length is odd, append the middle character\n",
    "    if n % 2 != 0:\n",
    "        result.append(word[mid])\n",
    "    \n",
    "    return ''.join(result)\n",
    "\n",
    "# Example usage:\n",
    "word = \"aaaaaaa\"\n",
    "transformed_word = wink_transform(word)\n",
    "print(transformed_word)"
   ]
  },
  {
   "cell_type": "code",
   "execution_count": 5,
   "id": "4565e610-9ea0-4719-b001-e6ad56eaf408",
   "metadata": {},
   "outputs": [
    {
     "data": {
      "text/plain": [
       "17"
      ]
     },
     "execution_count": 5,
     "metadata": {},
     "output_type": "execute_result"
    }
   ],
   "source": [
    "a,b=0,0\n",
    "for c in range(1,7):\n",
    "    a=(b+5)+c\n",
    "    if (b+c)<(a&b):\n",
    "        b=(9&b)\n",
    "    else:continue\n",
    "    c=(b+3)+a\n",
    "c+a"
   ]
  },
  {
   "cell_type": "code",
   "execution_count": null,
   "id": "7ba599a5-2ce2-459d-ae65-48c9c1350cbb",
   "metadata": {},
   "outputs": [],
   "source": []
  },
  {
   "cell_type": "code",
   "execution_count": 6,
   "id": "50dcc85c-b46e-484a-ba6a-e8505e68f3a6",
   "metadata": {},
   "outputs": [],
   "source": [
    "def f(p,q,r):\n",
    "    p+=q+r -9\n",
    "    q=(p+q)/2\n",
    "    if p>q:\n",
    "        print(\"i\")\n",
    "    else:print(\"e\")\n",
    "        "
   ]
  },
  {
   "cell_type": "code",
   "execution_count": 8,
   "id": "6fcf6234-27a1-47fc-a34b-28c9b9811fef",
   "metadata": {},
   "outputs": [
    {
     "name": "stdout",
     "output_type": "stream",
     "text": [
      "e\n"
     ]
    }
   ],
   "source": [
    "f(12,24,-5)"
   ]
  },
  {
   "cell_type": "code",
   "execution_count": 9,
   "id": "ce3b90c4-55bd-4a11-84b4-016a7bb97aea",
   "metadata": {},
   "outputs": [
    {
     "name": "stdout",
     "output_type": "stream",
     "text": [
      "i\n"
     ]
    }
   ],
   "source": [
    "f(12,7,-1)"
   ]
  },
  {
   "cell_type": "code",
   "execution_count": 10,
   "id": "0ed44c77-dcc0-4e01-8852-4bedd70bbba3",
   "metadata": {},
   "outputs": [
    {
     "data": {
      "text/plain": [
       "51"
      ]
     },
     "execution_count": 10,
     "metadata": {},
     "output_type": "execute_result"
    }
   ],
   "source": [
    "p,q,r=3,8,4\n",
    "q=(r+10)+p\n",
    "p=10+q\n",
    "if 8&q<p&8:\n",
    "    p=(p^1)+r\n",
    "p+q+r"
   ]
  },
  {
   "cell_type": "code",
   "execution_count": 2,
   "id": "257ff072-0a62-4494-80a8-e8a8fc80d510",
   "metadata": {},
   "outputs": [
    {
     "data": {
      "text/plain": [
       "17"
      ]
     },
     "execution_count": 2,
     "metadata": {},
     "output_type": "execute_result"
    }
   ],
   "source": [
    "p,q,r=0,3,14\n",
    "if (1<p and q+p) >p+q:r+=q\n",
    "p+q+r"
   ]
  },
  {
   "cell_type": "code",
   "execution_count": 4,
   "id": "87bf3666-87ab-4188-8281-473588ba56de",
   "metadata": {},
   "outputs": [
    {
     "data": {
      "text/plain": [
       "20"
      ]
     },
     "execution_count": 4,
     "metadata": {},
     "output_type": "execute_result"
    }
   ],
   "source": [
    "p,q,r=2,6,5\n",
    "q+=p\n",
    "r=p*2\n",
    "p=r+q\n",
    "p=(r+q)&q\n",
    "p+q+r"
   ]
  },
  {
   "cell_type": "code",
   "execution_count": 5,
   "id": "28fc30bb-4b8c-4be9-8d52-b54758f92613",
   "metadata": {},
   "outputs": [
    {
     "data": {
      "text/plain": [
       "54"
      ]
     },
     "execution_count": 5,
     "metadata": {},
     "output_type": "execute_result"
    }
   ],
   "source": [
    "p,q,r=5,8,8\n",
    "for r in range(4,6):\n",
    "    if 1+9<10-p:\n",
    "        p+=q\n",
    "    p+=2*r\n",
    "    q=(12&11) +p\n",
    "p+q"
   ]
  },
  {
   "cell_type": "code",
   "execution_count": 6,
   "id": "45efaa50-d2bc-4847-9719-cb7d0a2b8b26",
   "metadata": {},
   "outputs": [
    {
     "data": {
      "text/plain": [
       "1"
      ]
     },
     "execution_count": 6,
     "metadata": {},
     "output_type": "execute_result"
    }
   ],
   "source": [
    "m=2\n",
    "a=[2,1,1,2]\n",
    "m^=a[2]\n",
    "if (a[1]>1):m^=1\n",
    "else:m^=2\n",
    "m"
   ]
  },
  {
   "cell_type": "code",
   "execution_count": null,
   "id": "eed40076-4512-401a-b557-ae7d820d4d1a",
   "metadata": {},
   "outputs": [],
   "source": [
    "p=24\n",
    "for r in range(2,6):\n",
    "    "
   ]
  },
  {
   "cell_type": "code",
   "execution_count": 10,
   "id": "05c91125-a041-4841-9656-8154ef387c4f",
   "metadata": {},
   "outputs": [
    {
     "name": "stdout",
     "output_type": "stream",
     "text": [
      "9\n",
      "6\n",
      "3\n"
     ]
    }
   ],
   "source": [
    "\n",
    "def r(x,y):\n",
    "    if x>1:\n",
    "        r(x/y,y+3)\n",
    "        print(y)\n",
    "r(103,3)"
   ]
  },
  {
   "cell_type": "code",
   "execution_count": null,
   "id": "f0623349-53c3-4f1e-9b16-1d80bbf05f91",
   "metadata": {},
   "outputs": [],
   "source": [
    "p,q,r=5,8,6\n",
    "p+=q\n",
    "p+=11\n",
    "for "
   ]
  }
 ],
 "metadata": {
  "kernelspec": {
   "display_name": "Python 3 (ipykernel)",
   "language": "python",
   "name": "python3"
  },
  "language_info": {
   "codemirror_mode": {
    "name": "ipython",
    "version": 3
   },
   "file_extension": ".py",
   "mimetype": "text/x-python",
   "name": "python",
   "nbconvert_exporter": "python",
   "pygments_lexer": "ipython3",
   "version": "3.12.4"
  }
 },
 "nbformat": 4,
 "nbformat_minor": 5
}
