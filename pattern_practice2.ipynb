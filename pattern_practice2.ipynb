{
 "cells": [
  {
   "cell_type": "code",
   "execution_count": 3,
   "id": "0f275c46-085c-4387-86c5-ed3a8e5e81eb",
   "metadata": {},
   "outputs": [
    {
     "name": "stdin",
     "output_type": "stream",
     "text": [
      " 4\n"
     ]
    },
    {
     "name": "stdout",
     "output_type": "stream",
     "text": [
      "['1', '2 3', '4 5 6', '7 8 9 10']\n"
     ]
    }
   ],
   "source": [
    "n=int(input())\n",
    "l=[]\n",
    "c=1\n",
    "for i in range(1,n+1):\n",
    "    row=\" \".join((str(c+j) for j in range(i)))\n",
    "    l.append(row)\n",
    "    c+=i\n",
    "print(l)"
   ]
  },
  {
   "cell_type": "code",
   "execution_count": 26,
   "id": "5577e766-f25e-4ebb-bbda-5d2d0a3475ae",
   "metadata": {},
   "outputs": [
    {
     "name": "stdin",
     "output_type": "stream",
     "text": [
      " 5\n"
     ]
    },
    {
     "name": "stdout",
     "output_type": "stream",
     "text": [
      "00100\n",
      "0120\n",
      "01230\n",
      "1234\n",
      "12345\n"
     ]
    }
   ],
   "source": [
    "n=int(input())\n",
    "l=[]\n",
    "c=0\n",
    "for i in range(1,n+1):\n",
    "        print(\"0\"*((n-i)//2),end=\"\")\n",
    "        for j in range(1, i + 1):\n",
    "            print(j, end=\"\")\n",
    "        print(\"0\"*((n-i)//2))\n",
    "    "
   ]
  },
  {
   "cell_type": "code",
   "execution_count": 28,
   "id": "36a55f87-fadc-4383-a90f-343b085c1b3c",
   "metadata": {},
   "outputs": [],
   "source": [
    "def generate_number_pyramid(n):\n",
    "    \"\"\"\n",
    "    Function to return a pyramid pattern of numbers of height n as a list of strings.\n",
    "    \n",
    "    Parameters:\n",
    "    n (int): The height of the pyramid.\n",
    "    \n",
    "    Returns:\n",
    "    list: A list of strings where each string represents a row of the pyramid pattern.\n",
    "    \"\"\"\n",
    "    # Your code here\n",
    "    l = []  # List to store each row\n",
    "    for i in range(1, n + 1):\n",
    "        # Create a row with numbers 1 to i, separated by spaces\n",
    "        row = ' '.join(str(j) for j in range(1, i + 1))\n",
    "        \n",
    "        # Calculate the necessary padding to center the row\n",
    "        padding = ' ' * (n - i)\n",
    "        \n",
    "        # Append the padded row to the list\n",
    "        l.append(padding + row + padding)\n",
    "    \n",
    "    return l\n"
   ]
  },
  {
   "cell_type": "code",
   "execution_count": 32,
   "id": "5650fe0e-84ce-492c-a74f-4bf1347b563e",
   "metadata": {},
   "outputs": [
    {
     "data": {
      "text/plain": [
       "['   1   ', '  1 2  ', ' 1 2 3 ', '1 2 3 4']"
      ]
     },
     "execution_count": 32,
     "metadata": {},
     "output_type": "execute_result"
    }
   ],
   "source": [
    "generate_number_pyramid(4)\n"
   ]
  },
  {
   "cell_type": "code",
   "execution_count": null,
   "id": "cf0f1475-e2d5-4744-8ad1-8b8f7fc1d9b2",
   "metadata": {},
   "outputs": [],
   "source": []
  }
 ],
 "metadata": {
  "kernelspec": {
   "display_name": "Python 3 (ipykernel)",
   "language": "python",
   "name": "python3"
  },
  "language_info": {
   "codemirror_mode": {
    "name": "ipython",
    "version": 3
   },
   "file_extension": ".py",
   "mimetype": "text/x-python",
   "name": "python",
   "nbconvert_exporter": "python",
   "pygments_lexer": "ipython3",
   "version": "3.12.4"
  }
 },
 "nbformat": 4,
 "nbformat_minor": 5
}
