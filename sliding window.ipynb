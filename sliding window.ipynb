{
 "cells": [
  {
   "cell_type": "code",
   "execution_count": 1,
   "id": "d3bb2296-049e-43c1-911d-ba50d455877d",
   "metadata": {},
   "outputs": [],
   "source": [
    "a='BBGBGG'"
   ]
  },
  {
   "cell_type": "code",
   "execution_count": 3,
   "id": "e122740b-8086-4989-b4f6-565757a54b85",
   "metadata": {},
   "outputs": [],
   "source": [
    "b=list(a)"
   ]
  },
  {
   "cell_type": "code",
   "execution_count": 7,
   "id": "83c42464-216f-4954-9747-c8f7010f02dd",
   "metadata": {},
   "outputs": [
    {
     "data": {
      "text/plain": [
       "['B', 'B', 'G', 'B', 'G', 'G']"
      ]
     },
     "execution_count": 7,
     "metadata": {},
     "output_type": "execute_result"
    }
   ],
   "source": [
    "b"
   ]
  },
  {
   "cell_type": "code",
   "execution_count": 9,
   "id": "729b718c-d659-417a-b4cc-534a6ebc663e",
   "metadata": {},
   "outputs": [],
   "source": [
    "i=0\n",
    "j=1\n",
    "n=len(b)"
   ]
  },
  {
   "cell_type": "code",
   "execution_count": 16,
   "id": "c3b9ff8c-af31-4804-ab83-9d83e7bc033b",
   "metadata": {},
   "outputs": [
    {
     "ename": "IndexError",
     "evalue": "list index out of range",
     "output_type": "error",
     "traceback": [
      "\u001b[1;31m---------------------------------------------------------------------------\u001b[0m",
      "\u001b[1;31mIndexError\u001b[0m                                Traceback (most recent call last)",
      "Cell \u001b[1;32mIn[16], line 2\u001b[0m\n\u001b[0;32m      1\u001b[0m \u001b[38;5;28;01mwhile\u001b[39;00m(j\u001b[38;5;241m!=\u001b[39mn\u001b[38;5;241m-\u001b[39m\u001b[38;5;241m1\u001b[39m):\n\u001b[1;32m----> 2\u001b[0m     \u001b[38;5;28;01mif\u001b[39;00m b[i]\u001b[38;5;241m==\u001b[39m\u001b[38;5;124m'\u001b[39m\u001b[38;5;124mB\u001b[39m\u001b[38;5;124m'\u001b[39m \u001b[38;5;129;01mand\u001b[39;00m b[j]\u001b[38;5;241m==\u001b[39m\u001b[38;5;124m'\u001b[39m\u001b[38;5;124mG\u001b[39m\u001b[38;5;124m'\u001b[39m:\n\u001b[0;32m      3\u001b[0m         b[i],b[j]\u001b[38;5;241m=\u001b[39mb[j],b[i]\n\u001b[0;32m      4\u001b[0m     i\u001b[38;5;241m+\u001b[39m\u001b[38;5;241m=\u001b[39m\u001b[38;5;241m2\u001b[39m\n",
      "\u001b[1;31mIndexError\u001b[0m: list index out of range"
     ]
    }
   ],
   "source": [
    "while(j!=n-1):\n",
    "    if b[i]=='B' and b[j]=='G':\n",
    "        b[i],b[j]=b[j],b[i]\n",
    "    i+=2\n",
    "    j+=2\n",
    "print(b)"
   ]
  },
  {
   "cell_type": "code",
   "execution_count": null,
   "id": "07980184-1de6-4fcb-9c5f-fe18443d4fef",
   "metadata": {},
   "outputs": [],
   "source": []
  },
  {
   "cell_type": "code",
   "execution_count": null,
   "id": "840d5779-084a-493e-bc06-005d08436998",
   "metadata": {},
   "outputs": [],
   "source": []
  }
 ],
 "metadata": {
  "kernelspec": {
   "display_name": "Python 3 (ipykernel)",
   "language": "python",
   "name": "python3"
  },
  "language_info": {
   "codemirror_mode": {
    "name": "ipython",
    "version": 3
   },
   "file_extension": ".py",
   "mimetype": "text/x-python",
   "name": "python",
   "nbconvert_exporter": "python",
   "pygments_lexer": "ipython3",
   "version": "3.12.4"
  }
 },
 "nbformat": 4,
 "nbformat_minor": 5
}
