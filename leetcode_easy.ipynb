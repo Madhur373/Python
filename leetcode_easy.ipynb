{
 "cells": [
  {
   "cell_type": "code",
   "execution_count": 8,
   "id": "32ade812-81cb-42ea-b628-9a7d9a5d934b",
   "metadata": {},
   "outputs": [],
   "source": [
    "def palindrom(num):\n",
    "    def rev_num(num):\n",
    "        rev=0\n",
    "        while num>0:\n",
    "            l_d=num%10\n",
    "            rev=rev*10+l_d\n",
    "            num=num//10\n",
    "        \n",
    "        return rev\n",
    "    on=num\n",
    "    rn=rev_num(num)\n",
    "    if on==rn:\n",
    "        return True\n",
    "    else:\n",
    "        return False\n",
    "        "
   ]
  },
  {
   "cell_type": "code",
   "execution_count": null,
   "id": "e81674e7-0348-414b-85a9-7b6c632cde4c",
   "metadata": {},
   "outputs": [],
   "source": []
  },
  {
   "cell_type": "code",
   "execution_count": 10,
   "id": "ff700ea9-fc8a-4eb2-8275-35cb765fbd74",
   "metadata": {},
   "outputs": [
    {
     "name": "stdout",
     "output_type": "stream",
     "text": [
      "True\n"
     ]
    }
   ],
   "source": [
    "print(palindrom(272))"
   ]
  },
  {
   "cell_type": "code",
   "execution_count": 12,
   "id": "127a1f5a-4614-4341-9236-6844161fdafe",
   "metadata": {},
   "outputs": [
    {
     "name": "stdout",
     "output_type": "stream",
     "text": [
      "True\n"
     ]
    }
   ],
   "source": [
    "print(palindrom(121))"
   ]
  },
  {
   "cell_type": "code",
   "execution_count": 18,
   "id": "2a9cc73e-0503-40e4-a62a-82ccb7340eb0",
   "metadata": {},
   "outputs": [],
   "source": [
    "digits=[4,3,2,1]\n",
    "s=\"\"\n",
    "for i in digits:\n",
    "    s+=str(i)\n",
    "    num=int(s)+1"
   ]
  },
  {
   "cell_type": "code",
   "execution_count": 20,
   "id": "838a890a-4d64-4adc-a701-9e9a8498c306",
   "metadata": {},
   "outputs": [
    {
     "data": {
      "text/plain": [
       "4322"
      ]
     },
     "execution_count": 20,
     "metadata": {},
     "output_type": "execute_result"
    }
   ],
   "source": [
    "num"
   ]
  },
  {
   "cell_type": "code",
   "execution_count": 32,
   "id": "d5b585d9-46c2-4d58-b795-165def4f153f",
   "metadata": {},
   "outputs": [
    {
     "name": "stdout",
     "output_type": "stream",
     "text": [
      "10\n"
     ]
    }
   ],
   "source": [
    "o=[9]\n",
    "num=0\n",
    "for i in range(len(o)):\n",
    "    num=num*10+o[i]\n",
    "plus=num+1\n",
    "print(plus)"
   ]
  },
  {
   "cell_type": "code",
   "execution_count": 34,
   "id": "b8225092-532f-4df0-9b22-c724aff17eb0",
   "metadata": {},
   "outputs": [
    {
     "data": {
      "text/plain": [
       "1"
      ]
     },
     "execution_count": 34,
     "metadata": {},
     "output_type": "execute_result"
    }
   ],
   "source": [
    "121//100"
   ]
  },
  {
   "cell_type": "code",
   "execution_count": 36,
   "id": "c943d78b-c1ce-4c4a-839d-fbb228adb37b",
   "metadata": {},
   "outputs": [
    {
     "data": {
      "text/plain": [
       "2"
      ]
     },
     "execution_count": 36,
     "metadata": {},
     "output_type": "execute_result"
    }
   ],
   "source": [
    "21//10\n"
   ]
  },
  {
   "cell_type": "code",
   "execution_count": 38,
   "id": "368adc8b-4ae3-4eb8-b11d-f6178dfbe646",
   "metadata": {},
   "outputs": [
    {
     "data": {
      "text/plain": [
       "1"
      ]
     },
     "execution_count": 38,
     "metadata": {},
     "output_type": "execute_result"
    }
   ],
   "source": [
    "1//1"
   ]
  },
  {
   "cell_type": "code",
   "execution_count": 60,
   "id": "e7a215bd-485c-42e9-a166-2a63c1cc6c11",
   "metadata": {},
   "outputs": [
    {
     "name": "stdin",
     "output_type": "stream",
     "text": [
      " 1\n"
     ]
    },
    {
     "name": "stdout",
     "output_type": "stream",
     "text": [
      "1\n"
     ]
    }
   ],
   "source": [
    "number=2\n",
    "power=int(input())\n",
    "exp=1\n",
    "if power==0:\n",
    "    print(1)\n",
    "elif power>1:\n",
    "    for i in range(power):\n",
    "        exp=exp*number\n",
    "elif power<1 and power>0:\n",
    "    pass\n",
    "\n",
    "print(exp)\n"
   ]
  },
  {
   "cell_type": "code",
   "execution_count": null,
   "id": "edf81e30-be11-45dd-9433-8ca2b9d3ece2",
   "metadata": {},
   "outputs": [],
   "source": []
  }
 ],
 "metadata": {
  "kernelspec": {
   "display_name": "Python 3 (ipykernel)",
   "language": "python",
   "name": "python3"
  },
  "language_info": {
   "codemirror_mode": {
    "name": "ipython",
    "version": 3
   },
   "file_extension": ".py",
   "mimetype": "text/x-python",
   "name": "python",
   "nbconvert_exporter": "python",
   "pygments_lexer": "ipython3",
   "version": "3.12.4"
  }
 },
 "nbformat": 4,
 "nbformat_minor": 5
}
