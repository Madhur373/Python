{
 "cells": [
  {
   "cell_type": "code",
   "execution_count": 48,
   "id": "7cc6ca00-3c42-4761-8825-c024f23c8639",
   "metadata": {},
   "outputs": [],
   "source": [
    "def f(k):\n",
    "    \n",
    "    n=[]\n",
    "    for i in range(len(k)):\n",
    "        if k[i] not in n:\n",
    "            n.append(k[i])\n",
    "        else:\n",
    "            return i\n",
    "    if len(n)==len(k):\n",
    "        return len(n)\n",
    "            "
   ]
  },
  {
   "cell_type": "code",
   "execution_count": 30,
   "id": "4236bea8-b12b-427b-b971-abd6d899e141",
   "metadata": {},
   "outputs": [
    {
     "name": "stdout",
     "output_type": "stream",
     "text": [
      "4\n"
     ]
    }
   ],
   "source": [
    "print(f(\"absdbabab\"))"
   ]
  },
  {
   "cell_type": "code",
   "execution_count": 50,
   "id": "bf288656-61e4-4a12-9912-dcfd1cba68c5",
   "metadata": {},
   "outputs": [
    {
     "name": "stdout",
     "output_type": "stream",
     "text": [
      "6\n"
     ]
    }
   ],
   "source": [
    "print(f(\"bhdryi\"))"
   ]
  },
  {
   "cell_type": "code",
   "execution_count": 32,
   "id": "5a57effa-77a2-40df-8531-5a969f4013f0",
   "metadata": {},
   "outputs": [
    {
     "name": "stdout",
     "output_type": "stream",
     "text": [
      "1\n"
     ]
    }
   ],
   "source": [
    "print(f(\"bbb\"))"
   ]
  },
  {
   "cell_type": "code",
   "execution_count": 54,
   "id": "5e0faeae-99f1-47df-9cc4-797a11185ebe",
   "metadata": {},
   "outputs": [
    {
     "name": "stdout",
     "output_type": "stream",
     "text": [
      "Collecting phonenumbers\n",
      "  Downloading phonenumbers-8.13.48-py2.py3-none-any.whl.metadata (10 kB)\n",
      "Downloading phonenumbers-8.13.48-py2.py3-none-any.whl (2.6 MB)\n",
      "   ---------------------------------------- 0.0/2.6 MB ? eta -:--:--\n",
      "   ---------------------------------------- 0.0/2.6 MB ? eta -:--:--\n",
      "   ---------------------------------------- 0.0/2.6 MB 262.6 kB/s eta 0:00:10\n",
      "    --------------------------------------- 0.0/2.6 MB 281.8 kB/s eta 0:00:10\n",
      "   -- ------------------------------------- 0.2/2.6 MB 766.6 kB/s eta 0:00:04\n",
      "   ----- ---------------------------------- 0.3/2.6 MB 1.4 MB/s eta 0:00:02\n",
      "   -------- ------------------------------- 0.5/2.6 MB 1.9 MB/s eta 0:00:02\n",
      "   ---------- ----------------------------- 0.7/2.6 MB 2.2 MB/s eta 0:00:01\n",
      "   ------------- -------------------------- 0.9/2.6 MB 2.4 MB/s eta 0:00:01\n",
      "   ---------------- ----------------------- 1.1/2.6 MB 2.6 MB/s eta 0:00:01\n",
      "   ------------------ --------------------- 1.2/2.6 MB 2.7 MB/s eta 0:00:01\n",
      "   ---------------------- ----------------- 1.4/2.6 MB 2.8 MB/s eta 0:00:01\n",
      "   ------------------------ --------------- 1.6/2.6 MB 2.9 MB/s eta 0:00:01\n",
      "   --------------------------- ------------ 1.8/2.6 MB 3.0 MB/s eta 0:00:01\n",
      "   ------------------------------ --------- 2.0/2.6 MB 3.0 MB/s eta 0:00:01\n",
      "   --------------------------------- ------ 2.1/2.6 MB 3.1 MB/s eta 0:00:01\n",
      "   ----------------------------------- ---- 2.3/2.6 MB 3.1 MB/s eta 0:00:01\n",
      "   -------------------------------------- - 2.5/2.6 MB 3.2 MB/s eta 0:00:01\n",
      "   ---------------------------------------  2.6/2.6 MB 3.2 MB/s eta 0:00:01\n",
      "   ---------------------------------------- 2.6/2.6 MB 3.1 MB/s eta 0:00:00\n",
      "Installing collected packages: phonenumbers\n",
      "Successfully installed phonenumbers-8.13.48\n"
     ]
    }
   ],
   "source": [
    "!pip install phonenumbers\n"
   ]
  },
  {
   "cell_type": "code",
   "execution_count": 62,
   "id": "ec452489-958e-451e-ac26-4ed7ac5f40d8",
   "metadata": {},
   "outputs": [
    {
     "name": "stdout",
     "output_type": "stream",
     "text": [
      "India\n"
     ]
    }
   ],
   "source": [
    "import phonenumbers\n",
    "from phonenumbers import geocoder\n",
    "\n",
    "# Parse phone numbers\n",
    "phone_number1 = phonenumbers.parse(\"+919811915212\")\n",
    "\n",
    "\n",
    "# Print locations for the phone numbers\n",
    "\n",
    "\n",
    "\n",
    "print(geocoder.description_for_number(phone_number1, \"en\"))\n",
    "\n"
   ]
  },
  {
   "cell_type": "code",
   "execution_count": null,
   "id": "0d03dc86-a503-4a65-8c7c-af5ca1354fff",
   "metadata": {},
   "outputs": [],
   "source": []
  }
 ],
 "metadata": {
  "kernelspec": {
   "display_name": "Python 3 (ipykernel)",
   "language": "python",
   "name": "python3"
  },
  "language_info": {
   "codemirror_mode": {
    "name": "ipython",
    "version": 3
   },
   "file_extension": ".py",
   "mimetype": "text/x-python",
   "name": "python",
   "nbconvert_exporter": "python",
   "pygments_lexer": "ipython3",
   "version": "3.12.4"
  }
 },
 "nbformat": 4,
 "nbformat_minor": 5
}
