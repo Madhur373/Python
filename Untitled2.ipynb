{
 "cells": [
  {
   "cell_type": "code",
   "execution_count": 1,
   "id": "ed6a9779-01b6-49f6-bf7c-5c8ddaa75b22",
   "metadata": {},
   "outputs": [],
   "source": [
    "sentence=\"helllo hello hi hi do odo rh didndsoisowowowoww\"\n"
   ]
  },
  {
   "cell_type": "code",
   "execution_count": 4,
   "id": "7844819c-3788-45be-a561-72a128df1482",
   "metadata": {},
   "outputs": [],
   "source": [
    "def word_count(s):\n",
    "    word=sentence.split()\n",
    "    d={}\n",
    "    for i in word:\n",
    "        if i in d:\n",
    "            d[i]+=1\n",
    "        else:\n",
    "            d[i]=1\n",
    "    return d\n",
    "    "
   ]
  },
  {
   "cell_type": "code",
   "execution_count": 6,
   "id": "8bf3c8b2-c6cf-41a2-b106-9e527e6ef12e",
   "metadata": {},
   "outputs": [
    {
     "data": {
      "text/plain": [
       "{'helllo': 1,\n",
       " 'hello': 1,\n",
       " 'hi': 2,\n",
       " 'do': 1,\n",
       " 'odo': 1,\n",
       " 'rh': 1,\n",
       " 'didndsoisowowowoww': 1}"
      ]
     },
     "execution_count": 6,
     "metadata": {},
     "output_type": "execute_result"
    }
   ],
   "source": [
    "word_count(sentence)"
   ]
  },
  {
   "cell_type": "code",
   "execution_count": 30,
   "id": "233195ea-bd41-46fc-9527-263bb91b87bb",
   "metadata": {},
   "outputs": [
    {
     "name": "stdout",
     "output_type": "stream",
     "text": [
      "oleeh\n"
     ]
    }
   ],
   "source": [
    "p=\"heelo\"\n",
    "q=\"\"\n",
    "for i in range(len(p)-1,-1,-1):\n",
    "    q+=p[i]\n",
    "print(q)"
   ]
  },
  {
   "cell_type": "code",
   "execution_count": 24,
   "id": "b8726570-a6e5-4b92-84b8-3bca074dbd5a",
   "metadata": {},
   "outputs": [],
   "source": [
    "q=p[::-1]"
   ]
  },
  {
   "cell_type": "code",
   "execution_count": 26,
   "id": "a09dd1d4-9b98-4e4b-974b-2a7d77559807",
   "metadata": {},
   "outputs": [
    {
     "data": {
      "text/plain": [
       "'oleeh'"
      ]
     },
     "execution_count": 26,
     "metadata": {},
     "output_type": "execute_result"
    }
   ],
   "source": [
    "q"
   ]
  },
  {
   "cell_type": "code",
   "execution_count": 48,
   "id": "adc3abfd-56b2-4817-b80c-a7e5b94acbc2",
   "metadata": {},
   "outputs": [],
   "source": [
    "\n",
    "def is_perfect_square(num):\n",
    "    m=(num)//2\n",
    "    for i in range(1,m+1):\n",
    "        if i**2==num:\n",
    "            return True\n",
    "            break\n",
    "    else:\n",
    "        return False"
   ]
  },
  {
   "cell_type": "code",
   "execution_count": 54,
   "id": "c64101bf-0ddb-4d40-9cd4-3057500aa4ac",
   "metadata": {},
   "outputs": [
    {
     "data": {
      "text/plain": [
       "False"
      ]
     },
     "execution_count": 54,
     "metadata": {},
     "output_type": "execute_result"
    }
   ],
   "source": [
    "\n",
    "is_perfect_square(3100)"
   ]
  },
  {
   "cell_type": "code",
   "execution_count": 72,
   "id": "7086657c-bf61-4005-8be2-8b5e9bb7aa3c",
   "metadata": {},
   "outputs": [],
   "source": [
    "l=[1,3,5]\n",
    "l1=[2,4,6]\n",
    "\n"
   ]
  },
  {
   "cell_type": "code",
   "execution_count": 90,
   "id": "cba7e962-b30a-4877-a475-8497496d3db2",
   "metadata": {},
   "outputs": [],
   "source": [
    "def sort_of_mergedlists(l,l1):\n",
    "    m=[]\n",
    "    i,j=0,0\n",
    "    while i<len(l) and j<len(l1):\n",
    "        if l[i]>l1[j]:\n",
    "            m.append(l1[j])\n",
    "            j+=1\n",
    "        else:\n",
    "            m.append(l[i])\n",
    "            i+=1\n",
    "    while i<len(l):\n",
    "        m.append(l[i])\n",
    "        i+=1\n",
    "    while j<len(l):\n",
    "        m.append(l1[j])\n",
    "        j+=1\n",
    "\n",
    "    return m\n",
    "    \n",
    "    \n",
    "    \n",
    "        \n",
    "            "
   ]
  },
  {
   "cell_type": "code",
   "execution_count": 92,
   "id": "1d1d8f3c-0641-4c63-a668-d225a1195bfa",
   "metadata": {},
   "outputs": [
    {
     "data": {
      "text/plain": [
       "[1, 2, 3, 4, 5, 6]"
      ]
     },
     "execution_count": 92,
     "metadata": {},
     "output_type": "execute_result"
    }
   ],
   "source": [
    "sort_of_mergedlists(l,l1)"
   ]
  },
  {
   "cell_type": "code",
   "execution_count": null,
   "id": "851d1959-aa33-4afa-910a-7fb80bcf627c",
   "metadata": {},
   "outputs": [],
   "source": []
  }
 ],
 "metadata": {
  "kernelspec": {
   "display_name": "Python 3 (ipykernel)",
   "language": "python",
   "name": "python3"
  },
  "language_info": {
   "codemirror_mode": {
    "name": "ipython",
    "version": 3
   },
   "file_extension": ".py",
   "mimetype": "text/x-python",
   "name": "python",
   "nbconvert_exporter": "python",
   "pygments_lexer": "ipython3",
   "version": "3.12.4"
  }
 },
 "nbformat": 4,
 "nbformat_minor": 5
}
