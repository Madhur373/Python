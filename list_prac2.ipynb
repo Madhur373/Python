{
 "cells": [
  {
   "cell_type": "code",
   "execution_count": 1,
   "id": "2327e99a-27e0-40f8-b51b-0f568815fbc1",
   "metadata": {},
   "outputs": [],
   "source": [
    "l=[2,4,1,3,5]\n",
    "l.sort()"
   ]
  },
  {
   "cell_type": "code",
   "execution_count": null,
   "id": "ccf22621-2465-4e73-a1f4-83cf88cca17a",
   "metadata": {},
   "outputs": [],
   "source": []
  },
  {
   "cell_type": "code",
   "execution_count": 2,
   "id": "17c85a76-b6a5-4a87-9efe-9895cf03a757",
   "metadata": {},
   "outputs": [
    {
     "data": {
      "text/plain": [
       "[1, 2, 3, 4, 5]"
      ]
     },
     "execution_count": 2,
     "metadata": {},
     "output_type": "execute_result"
    }
   ],
   "source": [
    "l\n"
   ]
  },
  {
   "cell_type": "code",
   "execution_count": 3,
   "id": "a61d7a45-4237-4523-a960-21bc5b6d28e2",
   "metadata": {},
   "outputs": [
    {
     "data": {
      "text/plain": [
       "4"
      ]
     },
     "execution_count": 3,
     "metadata": {},
     "output_type": "execute_result"
    }
   ],
   "source": [
    "l[-2]"
   ]
  },
  {
   "cell_type": "code",
   "execution_count": 4,
   "id": "3e1ade13-2284-46a1-96a1-387b4c17b822",
   "metadata": {},
   "outputs": [
    {
     "name": "stdout",
     "output_type": "stream",
     "text": [
      "5\n",
      "4\n"
     ]
    }
   ],
   "source": [
    "#second largest element Time complexity req=0n\n",
    "l=[2,4,1,3,5]\n",
    "max=l[0]\n",
    "sec=l[0]\n",
    "for i in range(len(l)):\n",
    "    if l[i]>max:\n",
    "        max=l[i]\n",
    "for i in range(len(l)):\n",
    "    if l[i]>sec and l[i]<max:\n",
    "        sec=l[i]\n",
    "        \n",
    "    \n",
    "print(max)\n",
    "print(sec)"
   ]
  },
  {
   "cell_type": "code",
   "execution_count": 5,
   "id": "f51c9d2b-46a0-4cbe-8d65-0027298b9e74",
   "metadata": {},
   "outputs": [
    {
     "name": "stdout",
     "output_type": "stream",
     "text": [
      "5\n",
      "4\n"
     ]
    }
   ],
   "source": [
    "#second largest element\n",
    "l=[2,4,1,3,5]\n",
    "max=l[0]\n",
    "sec=l[0]\n",
    "for i in range(len(l)):\n",
    "    if l[i]>max:\n",
    "        sec= max\n",
    "        max=l[i]\n",
    "    elif l[i]>sec and l[i]<max:\n",
    "        sec=l[i]\n",
    "        \n",
    "    \n",
    "print(max)\n",
    "print(sec)"
   ]
  },
  {
   "cell_type": "code",
   "execution_count": 6,
   "id": "eb8a0e41-7021-4111-a46a-e911cb56afa8",
   "metadata": {},
   "outputs": [
    {
     "name": "stdout",
     "output_type": "stream",
     "text": [
      "1\n",
      "2\n"
     ]
    }
   ],
   "source": [
    "#second largest element\n",
    "l=[2,4,1,3,5]\n",
    "min=l[0]\n",
    "sec=l[0]\n",
    "for i in range(len(l)):\n",
    "    if l[i]<min:\n",
    "        sec= min\n",
    "        min=l[i]\n",
    "    elif l[i]<min and l[i]>min:\n",
    "        sec=l[i]\n",
    "        \n",
    "    \n",
    "print(min)\n",
    "print(sec)"
   ]
  },
  {
   "cell_type": "code",
   "execution_count": 7,
   "id": "0a691a78-3721-47ff-9bd7-a7132ef347c5",
   "metadata": {},
   "outputs": [],
   "source": [
    "l=[2,3,4,5,56,6,7,78,8]"
   ]
  },
  {
   "cell_type": "code",
   "execution_count": 8,
   "id": "d090976e-3d24-4694-87bb-e8186dd6ff24",
   "metadata": {},
   "outputs": [],
   "source": [
    "#max element\n",
    "max=l[0]\n",
    "for i in range(len(l)):\n",
    "    if l[i]>max:\n",
    "        max=l[i]"
   ]
  },
  {
   "cell_type": "code",
   "execution_count": 9,
   "id": "8a9d3116-764a-46d3-a468-fbe997796342",
   "metadata": {},
   "outputs": [
    {
     "data": {
      "text/plain": [
       "78"
      ]
     },
     "execution_count": 9,
     "metadata": {},
     "output_type": "execute_result"
    }
   ],
   "source": [
    "max"
   ]
  },
  {
   "cell_type": "code",
   "execution_count": 10,
   "id": "68ea1686-3cb0-4255-8415-7556c367d50e",
   "metadata": {},
   "outputs": [
    {
     "name": "stdout",
     "output_type": "stream",
     "text": [
      "2\n"
     ]
    }
   ],
   "source": [
    "#min element\n",
    "min=l[0]\n",
    "for i in range(len(l)):\n",
    "    if l[i]<min:\n",
    "        min=l[i]\n",
    "print(min)\n",
    "\n"
   ]
  },
  {
   "cell_type": "code",
   "execution_count": 11,
   "id": "3540887f-db4c-46bc-8834-82ddc6f28e1d",
   "metadata": {},
   "outputs": [
    {
     "name": "stdout",
     "output_type": "stream",
     "text": [
      "[8, 78, 7, 6, 56, 5, 4, 3, 2]\n"
     ]
    }
   ],
   "source": [
    "#reversing the list\n",
    "m=int(len(l)/2)\n",
    "ll=len(l)-1\n",
    "for i in range(m):\n",
    "    l[i],l[ll-i]=l[ll-i],l[i]\n",
    "print(l)"
   ]
  },
  {
   "cell_type": "code",
   "execution_count": 1,
   "id": "59fa1f75-8c78-4779-92fd-2ad0d5abfaf8",
   "metadata": {},
   "outputs": [
    {
     "name": "stdout",
     "output_type": "stream",
     "text": [
      "0\n"
     ]
    }
   ],
   "source": [
    "l=[1,2,3,4,55,4,4,4332,1,0]\n",
    "print(min(l))"
   ]
  },
  {
   "cell_type": "code",
   "execution_count": 2,
   "id": "fb603034-c327-42ec-bd73-1399eb503c8e",
   "metadata": {},
   "outputs": [
    {
     "data": {
      "text/plain": [
       "4332"
      ]
     },
     "execution_count": 2,
     "metadata": {},
     "output_type": "execute_result"
    }
   ],
   "source": [
    "max(l)"
   ]
  },
  {
   "cell_type": "code",
   "execution_count": 3,
   "id": "34e3105c-ff07-4363-bcf7-7a39e799623c",
   "metadata": {},
   "outputs": [],
   "source": [
    "l.reverse()\n"
   ]
  },
  {
   "cell_type": "code",
   "execution_count": 4,
   "id": "0db5aa52-4dd3-4a1d-a054-3789d4f44712",
   "metadata": {},
   "outputs": [
    {
     "data": {
      "text/plain": [
       "[0, 1, 4332, 4, 4, 55, 4, 3, 2, 1]"
      ]
     },
     "execution_count": 4,
     "metadata": {},
     "output_type": "execute_result"
    }
   ],
   "source": [
    "l"
   ]
  },
  {
   "cell_type": "code",
   "execution_count": 5,
   "id": "6d665c2c-0093-463a-832c-78a50e23e0e7",
   "metadata": {},
   "outputs": [],
   "source": [
    "l.append(1)"
   ]
  },
  {
   "cell_type": "code",
   "execution_count": 6,
   "id": "f583869a-d829-485b-a6ac-8e4e5eacb350",
   "metadata": {},
   "outputs": [
    {
     "data": {
      "text/plain": [
       "[0, 1, 4332, 4, 4, 55, 4, 3, 2, 1, 1]"
      ]
     },
     "execution_count": 6,
     "metadata": {},
     "output_type": "execute_result"
    }
   ],
   "source": [
    "l"
   ]
  },
  {
   "cell_type": "code",
   "execution_count": 7,
   "id": "214b461d-1722-4701-ab95-1d331d1df19e",
   "metadata": {},
   "outputs": [
    {
     "data": {
      "text/plain": [
       "1"
      ]
     },
     "execution_count": 7,
     "metadata": {},
     "output_type": "execute_result"
    }
   ],
   "source": [
    "l.pop()\n"
   ]
  },
  {
   "cell_type": "code",
   "execution_count": 10,
   "id": "5a8e871e-5114-4b0e-b0e7-cfbb4047e1b7",
   "metadata": {},
   "outputs": [
    {
     "ename": "ValueError",
     "evalue": "list.remove(x): x not in list",
     "output_type": "error",
     "traceback": [
      "\u001b[1;31m---------------------------------------------------------------------------\u001b[0m",
      "\u001b[1;31mValueError\u001b[0m                                Traceback (most recent call last)",
      "Cell \u001b[1;32mIn[10], line 1\u001b[0m\n\u001b[1;32m----> 1\u001b[0m \u001b[43ml\u001b[49m\u001b[38;5;241;43m.\u001b[39;49m\u001b[43mremove\u001b[49m\u001b[43m(\u001b[49m\u001b[38;5;241;43m1\u001b[39;49m\u001b[43m)\u001b[49m\n\u001b[0;32m      2\u001b[0m l\n",
      "\u001b[1;31mValueError\u001b[0m: list.remove(x): x not in list"
     ]
    }
   ],
   "source": [
    "l.remove(1)\n"
   ]
  },
  {
   "cell_type": "code",
   "execution_count": 11,
   "id": "24059a0f-2938-46f2-b3cc-a5c7f8fa764a",
   "metadata": {},
   "outputs": [],
   "source": [
    "l.insert(1,1)"
   ]
  },
  {
   "cell_type": "code",
   "execution_count": 12,
   "id": "feb7e756-f691-4785-ba86-534852e9b5b7",
   "metadata": {},
   "outputs": [
    {
     "data": {
      "text/plain": [
       "[0, 1, 4332, 4, 4, 55, 4, 3, 2]"
      ]
     },
     "execution_count": 12,
     "metadata": {},
     "output_type": "execute_result"
    }
   ],
   "source": [
    "l"
   ]
  },
  {
   "cell_type": "code",
   "execution_count": 13,
   "id": "66b9f541-68c5-4530-a7bc-c5a0501130c0",
   "metadata": {},
   "outputs": [],
   "source": [
    "l.remove(4)"
   ]
  },
  {
   "cell_type": "code",
   "execution_count": 14,
   "id": "a4a5cb26-cc7a-41c7-a81e-f926ccdf0cd9",
   "metadata": {},
   "outputs": [
    {
     "data": {
      "text/plain": [
       "[0, 1, 4332, 4, 55, 4, 3, 2]"
      ]
     },
     "execution_count": 14,
     "metadata": {},
     "output_type": "execute_result"
    }
   ],
   "source": [
    "l"
   ]
  },
  {
   "cell_type": "code",
   "execution_count": 15,
   "id": "819160ea-e365-4d51-8db2-55176c1e58a8",
   "metadata": {},
   "outputs": [
    {
     "name": "stdin",
     "output_type": "stream",
     "text": [
      " 1 2 3 4 5 6\n"
     ]
    }
   ],
   "source": [
    "a=list(map(int,input().split()))"
   ]
  },
  {
   "cell_type": "code",
   "execution_count": 16,
   "id": "08260596-3fe2-4696-aeae-8c158a547a8a",
   "metadata": {},
   "outputs": [
    {
     "data": {
      "text/plain": [
       "[1, 2, 3, 4, 5, 6]"
      ]
     },
     "execution_count": 16,
     "metadata": {},
     "output_type": "execute_result"
    }
   ],
   "source": [
    "a\n"
   ]
  },
  {
   "cell_type": "code",
   "execution_count": null,
   "id": "dca74b99-2b15-4d9b-a4e6-489610b0c569",
   "metadata": {},
   "outputs": [],
   "source": []
  }
 ],
 "metadata": {
  "kernelspec": {
   "display_name": "Python 3 (ipykernel)",
   "language": "python",
   "name": "python3"
  },
  "language_info": {
   "codemirror_mode": {
    "name": "ipython",
    "version": 3
   },
   "file_extension": ".py",
   "mimetype": "text/x-python",
   "name": "python",
   "nbconvert_exporter": "python",
   "pygments_lexer": "ipython3",
   "version": "3.12.4"
  }
 },
 "nbformat": 4,
 "nbformat_minor": 5
}
