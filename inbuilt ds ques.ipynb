{
 "cells": [
  {
   "cell_type": "code",
   "execution_count": 35,
   "id": "ddd1503c-9bf8-4abe-9cd2-da3d53cd53bc",
   "metadata": {},
   "outputs": [],
   "source": [
    "def max_consecutive_difference(lst):\n",
    "     diff=0\n",
    "     for i in range(len(lst)-1):\n",
    "         n= abs(lst[i]-lst[i+1])\n",
    "         if n>diff:\n",
    "             diff=n\n",
    "     return diff"
   ]
  },
  {
   "cell_type": "code",
   "execution_count": 37,
   "id": "f74cfa2f-145a-4abe-b0ec-a321aa2688d8",
   "metadata": {},
   "outputs": [
    {
     "data": {
      "text/plain": [
       "72"
      ]
     },
     "execution_count": 37,
     "metadata": {},
     "output_type": "execute_result"
    }
   ],
   "source": [
    "l=[1,2,3,4,5,6,78]\n",
    "max_consecutive_difference(l)"
   ]
  },
  {
   "cell_type": "code",
   "execution_count": 30,
   "id": "dc5c2e25-9fe8-4407-af5a-4e95426e9604",
   "metadata": {},
   "outputs": [
    {
     "data": {
      "text/plain": [
       "6"
      ]
     },
     "execution_count": 30,
     "metadata": {},
     "output_type": "execute_result"
    }
   ],
   "source": [
    "abs(-6)"
   ]
  },
  {
   "cell_type": "code",
   "execution_count": 39,
   "id": "42752643-f229-44f3-a736-99e688a2c31c",
   "metadata": {},
   "outputs": [],
   "source": [
    "def merge_two_sorted_lists(list1, list2):\n",
    "    # Initialize pointers for both lists\n",
    "    i, j = 0, 0\n",
    "    result = []  # Initialize an empty list to store the merged result\n",
    " \n",
    "    # Traverse both lists and merge them in sorted order\n",
    "    while i < len(list1) and j < len(list2):\n",
    "        if list1[i] < list2[j]:\n",
    "            result.append(list1[i])  # Add the smaller element to the result list\n",
    "            i += 1\n",
    "        else:\n",
    "            result.append(list2[j])  # Add the smaller element to the result list\n",
    "            j += 1\n",
    " \n",
    "    # If there are remaining elements in list1, add them to the result\n",
    "    while i < len(list1):\n",
    "        result.append(list1[i])\n",
    "        i += 1\n",
    " \n",
    "    # If there are remaining elements in list2, add them to the result\n",
    "    while j < len(list2):\n",
    "        result.append(list2[j])\n",
    "        j += 1\n",
    " \n",
    "    return result"
   ]
  },
  {
   "cell_type": "code",
   "execution_count": 41,
   "id": "7fa2d670-4169-41b3-8277-670cc7374cf6",
   "metadata": {},
   "outputs": [
    {
     "data": {
      "text/plain": [
       "[12, 23, 34, 45, 54, 320, 433, 4554]"
      ]
     },
     "execution_count": 41,
     "metadata": {},
     "output_type": "execute_result"
    }
   ],
   "source": [
    "l=[12,34,54,320]\n",
    "l1=[23,45,433,4554]\n",
    "merge_two_sorted_lists(l,l1)"
   ]
  },
  {
   "cell_type": "code",
   "execution_count": 43,
   "id": "899cac99-1bec-450c-99e3-6768142cb9fd",
   "metadata": {},
   "outputs": [],
   "source": [
    "def rotate_list(lst, k):\n",
    "    while k>0:\n",
    "        p=lst.pop()\n",
    "        lst.insert(p,0)\n",
    "        k-=1\n",
    "    return lst\n"
   ]
  },
  {
   "cell_type": "code",
   "execution_count": 45,
   "id": "cf5516b4-8bef-4c4f-b133-cac9f1d8597e",
   "metadata": {},
   "outputs": [],
   "source": [
    "l=[x for x in range(5)]"
   ]
  },
  {
   "cell_type": "code",
   "execution_count": 51,
   "id": "dd9e0a2f-9f2d-4067-896e-f9cd08d4ac1a",
   "metadata": {},
   "outputs": [],
   "source": [
    "l1=[x**3 for x in range(5)]"
   ]
  },
  {
   "cell_type": "code",
   "execution_count": 53,
   "id": "9977f349-1e0c-465a-8ccc-2db372b641eb",
   "metadata": {},
   "outputs": [
    {
     "data": {
      "text/plain": [
       "([0, 1, 8, 27, 64], [0, 1, 2, 3, 4])"
      ]
     },
     "execution_count": 53,
     "metadata": {},
     "output_type": "execute_result"
    }
   ],
   "source": [
    "l1,l"
   ]
  },
  {
   "cell_type": "code",
   "execution_count": 68,
   "id": "6b64f3b5-ecb4-4269-aa4c-aa981d095345",
   "metadata": {},
   "outputs": [],
   "source": [
    "def rotate_list(lst, k):\n",
    "    if len(lst)<1:\n",
    "        return []\n",
    "    k = k % len(lst)\n",
    "    while k>0:\n",
    "        p=lst.pop()\n",
    "        lst.insert(0,p)\n",
    "        \n",
    "        k-=1\n",
    "    return lst"
   ]
  },
  {
   "cell_type": "code",
   "execution_count": 70,
   "id": "ddc9eb89-0af0-4ec7-84e7-5a115ce3e6a4",
   "metadata": {},
   "outputs": [
    {
     "data": {
      "text/plain": [
       "[4, 5, 1, 2, 3]"
      ]
     },
     "execution_count": 70,
     "metadata": {},
     "output_type": "execute_result"
    }
   ],
   "source": [
    "l=[1,2,3,4,5]\n",
    "rotate_list(l,2)"
   ]
  },
  {
   "cell_type": "code",
   "execution_count": 66,
   "id": "97280abb-b6c8-4f95-bfd3-be63156dbcde",
   "metadata": {},
   "outputs": [
    {
     "name": "stdout",
     "output_type": "stream",
     "text": [
      "[4, 5, 1, 2, 3]\n",
      "[4, 5, 1, 2, 3]\n",
      "[]\n",
      "[1]\n"
     ]
    }
   ],
   "source": [
    "def rotate_list(lst, k):\n",
    "    n = len(lst)  # Get the length of the list\n",
    "    if n == 0:    # Check for an empty list\n",
    "        return lst\n",
    "\n",
    "    k = k % n  # Handle cases where k is greater than the length of the list\n",
    "    for _ in range(k):\n",
    "        p = lst.pop()  # Remove the last element\n",
    "        lst.insert(0, p)  # Insert it at the beginning of the list\n",
    "    return lst\n",
    "\n",
    "# Test cases\n",
    "print(rotate_list([1, 2, 3, 4, 5], 2))  # Output: [4, 5, 1, 2, 3]\n",
    "print(rotate_list([1, 2, 3, 4, 5], 7))  # Output: [4, 5, 1, 2, 3] (7 % 5 = 2)\n",
    "print(rotate_list([], 3))                # Output: []\n",
    "print(rotate_list([1], 1))                # Output: [1]\n"
   ]
  },
  {
   "cell_type": "code",
   "execution_count": 88,
   "id": "800451ae-4838-4f19-8d62-3990560d45de",
   "metadata": {},
   "outputs": [
    {
     "data": {
      "text/plain": [
       "2"
      ]
     },
     "execution_count": 88,
     "metadata": {},
     "output_type": "execute_result"
    }
   ],
   "source": [
    "-7%9\n"
   ]
  },
  {
   "cell_type": "code",
   "execution_count": 90,
   "id": "24f0625c-c222-4929-9719-0d4aaaa46a23",
   "metadata": {},
   "outputs": [],
   "source": [
    "def rotate_list(lst, k):\n",
    "    n = len(lst)  # Get the length of the list\n",
    "    if n == 0:  # Check for an empty list\n",
    "        return lst\n",
    "    \n",
    "    k = k % n  # Handle cases where k is greater than the length of the list\n",
    "    return lst[-k:] + lst[:-k]"
   ]
  },
  {
   "cell_type": "code",
   "execution_count": 94,
   "id": "8d275a84-e5b3-4762-841a-e7c29035751c",
   "metadata": {},
   "outputs": [
    {
     "data": {
      "text/plain": [
       "[4, 5, 6, 1, 2, 3]"
      ]
     },
     "execution_count": 94,
     "metadata": {},
     "output_type": "execute_result"
    }
   ],
   "source": [
    "l=[1,2,3,4,5,6]\n",
    "rotate_list(l,3)"
   ]
  },
  {
   "cell_type": "code",
   "execution_count": 2,
   "id": "6e396225-e9ae-4a9b-a4aa-c1fa3b20d124",
   "metadata": {},
   "outputs": [],
   "source": [
    "def merge_two_sorted_lists(list1, list2):\n",
    "    # Initialize pointers for both lists\n",
    "    i, j = 0, 0\n",
    "    result = []  # Initialize an empty list to store the merged result\n",
    " \n",
    "    # Traverse both lists and merge them in sorted order\n",
    "    while i < len(list1) and j < len(list2):\n",
    "        if list1[i] < list2[j]:\n",
    "            result.append(list1[i])  # Add the smaller element to the result list\n",
    "            i += 1\n",
    "        else:\n",
    "            result.append(list2[j])  # Add the smaller element to the result list\n",
    "            j += 1\n",
    " \n",
    "    # If there are remaining elements in list1, add them to the result\n",
    "    while i < len(list1):\n",
    "        result.append(list1[i])\n",
    "        i += 1\n",
    " \n",
    "    # If there are remaining elements in list2, add them to the result\n",
    "    while j < len(list2):\n",
    "        result.append(list2[j])\n",
    "        j += 1\n",
    " \n",
    "    return result  # Return the merged sorted list\n",
    " "
   ]
  },
  {
   "cell_type": "code",
   "execution_count": 30,
   "id": "fc746ea4-c573-4d35-a4b4-d0c547d8ae53",
   "metadata": {},
   "outputs": [],
   "source": [
    "l=[1,2,3,4,80,95]\n",
    "l1=[2,3,4,76,90]"
   ]
  },
  {
   "cell_type": "code",
   "execution_count": 32,
   "id": "4dc12c47-d2ad-484b-9077-c89b371cabf7",
   "metadata": {},
   "outputs": [
    {
     "name": "stdout",
     "output_type": "stream",
     "text": [
      "[1, 2, 2, 3, 3, 4, 4, 76, 80, 90, 95]\n"
     ]
    }
   ],
   "source": [
    "res=[]\n",
    "i,j=0,0\n",
    "while i<len(l) and j<len(l1):\n",
    "    if l[i]>l[j]:\n",
    "        res.append(l1[j])\n",
    "        j+=1\n",
    "    else:\n",
    "        res.append(l[i])\n",
    "        i+=1\n",
    "while i < len(l):\n",
    "    res.append(l[i])\n",
    "    i += 1\n",
    "\n",
    "\n",
    "while j < len(l1):\n",
    "    res.append(l1[j])\n",
    "    j += 1\n",
    "print(res)"
   ]
  },
  {
   "cell_type": "code",
   "execution_count": null,
   "id": "172cc2a6-844a-48b6-90c2-4476cd277212",
   "metadata": {},
   "outputs": [],
   "source": [
    "\"\"\"\"\n",
    "    d={}\n",
    "    if(len(keys) != len(values)):\n",
    "        return False\n",
    "    \n",
    "    for i in range(len(keys)):\n",
    "        d[keys[i]]=values[i]\n",
    "    \n",
    "    return d\n",
    "\"\"\""
   ]
  },
  {
   "cell_type": "code",
   "execution_count": null,
   "id": "f9144eb8-b825-4819-8a88-5ccb0014cdc2",
   "metadata": {},
   "outputs": [],
   "source": [
    "dict1.copy()"
   ]
  },
  {
   "cell_type": "code",
   "execution_count": 40,
   "id": "d266550e-a6f0-4822-b60b-027fbb5aff21",
   "metadata": {},
   "outputs": [
    {
     "name": "stdout",
     "output_type": "stream",
     "text": [
      "{'heelo': 1, 'kee': 3, 'hello': 1, 'ni': 1, 'hi': 6, 'ih': 3, 'hih': 7, 'ihi': 3}\n"
     ]
    }
   ],
   "source": [
    "f=\"heelo kee kee kee hello ni hi ih hi hih ihi ihi hi hih ih hih hih ihi hi hih hih hi hih ih hi\"\n",
    "words=f.split()\n",
    "d={}\n",
    "for i in words:\n",
    "    if i in d:\n",
    "        d[i]+=1\n",
    "    else:\n",
    "        d[i]=1\n",
    "print(d)"
   ]
  },
  {
   "cell_type": "code",
   "execution_count": 42,
   "id": "9b3d03b7-0d34-4859-87b9-153378abf245",
   "metadata": {},
   "outputs": [],
   "source": [
    "def is_palindromic_tuple(tup):\n",
    "\n",
    "    start=0\n",
    "    end=len(tup)-1\n",
    "    while start<end:\n",
    "        if tup[start]!=tup[end]:\n",
    "            return False\n",
    "        start+=1\n",
    "        end-=1\n",
    "    return True"
   ]
  },
  {
   "cell_type": "code",
   "execution_count": 44,
   "id": "d354159d-866b-4136-91be-202916ac994e",
   "metadata": {},
   "outputs": [
    {
     "data": {
      "text/plain": [
       "True"
      ]
     },
     "execution_count": 44,
     "metadata": {},
     "output_type": "execute_result"
    }
   ],
   "source": [
    "is_palindromic_tuple(\"heeleeh\")"
   ]
  },
  {
   "cell_type": "code",
   "execution_count": 64,
   "id": "e6caeba2-7179-46b0-9a13-12ba1120c226",
   "metadata": {},
   "outputs": [],
   "source": [
    "def gcd(n, m):\n",
    "    l=[]\n",
    "    l1=[]\n",
    "    for i in range(1,n):\n",
    "        if n%i==0:\n",
    "            l.append(i)\n",
    "    for i in range(1,m):\n",
    "        if m%i==0:\n",
    "            l1.append(i)\n",
    "    \n",
    "    for i in l1:\n",
    "        if i not in l:\n",
    "            l.append(i)\n",
    "    return l\n",
    "    "
   ]
  },
  {
   "cell_type": "code",
   "execution_count": 66,
   "id": "6b661985-6f1a-44fb-9210-ea11c3c524f7",
   "metadata": {},
   "outputs": [
    {
     "name": "stdout",
     "output_type": "stream",
     "text": [
      "[1, 3, 5, 9, 15, 2, 6, 10, 25, 30, 50, 75]\n"
     ]
    }
   ],
   "source": [
    "print(gcd(45,150))"
   ]
  },
  {
   "cell_type": "code",
   "execution_count": null,
   "id": "cb9a8ac4-9288-4885-b551-bc31ab83bc00",
   "metadata": {},
   "outputs": [],
   "source": []
  },
  {
   "cell_type": "code",
   "execution_count": null,
   "id": "f0b3e33e-ef21-4470-ba00-d1b9f4a2d117",
   "metadata": {},
   "outputs": [],
   "source": []
  },
  {
   "cell_type": "code",
   "execution_count": null,
   "id": "471e717e-a397-4e40-a4cc-9ec6570e11e8",
   "metadata": {},
   "outputs": [],
   "source": []
  },
  {
   "cell_type": "code",
   "execution_count": null,
   "id": "3b6c1b38-a369-40b9-a91d-d7757f4bc378",
   "metadata": {},
   "outputs": [],
   "source": []
  }
 ],
 "metadata": {
  "kernelspec": {
   "display_name": "Python 3 (ipykernel)",
   "language": "python",
   "name": "python3"
  },
  "language_info": {
   "codemirror_mode": {
    "name": "ipython",
    "version": 3
   },
   "file_extension": ".py",
   "mimetype": "text/x-python",
   "name": "python",
   "nbconvert_exporter": "python",
   "pygments_lexer": "ipython3",
   "version": "3.12.4"
  }
 },
 "nbformat": 4,
 "nbformat_minor": 5
}
