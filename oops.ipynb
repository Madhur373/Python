{
 "cells": [
  {
   "cell_type": "code",
   "execution_count": 3,
   "id": "7859a8b4-b367-4d1e-b4b5-7237f26177b6",
   "metadata": {},
   "outputs": [],
   "source": [
    "class car:\n",
    "    pass\n",
    "    "
   ]
  },
  {
   "cell_type": "code",
   "execution_count": 5,
   "id": "2de4dda6-f930-4a8b-b305-f529d67f1167",
   "metadata": {},
   "outputs": [],
   "source": [
    "audi=car()"
   ]
  },
  {
   "cell_type": "code",
   "execution_count": 9,
   "id": "ac591b5f-0d1f-44c1-9b15-60ac957fe388",
   "metadata": {},
   "outputs": [
    {
     "data": {
      "text/plain": [
       "__main__.car"
      ]
     },
     "execution_count": 9,
     "metadata": {},
     "output_type": "execute_result"
    }
   ],
   "source": [
    "type(audi)"
   ]
  },
  {
   "cell_type": "code",
   "execution_count": 11,
   "id": "fd39a950-1208-4062-9422-775a56890f43",
   "metadata": {},
   "outputs": [
    {
     "name": "stdout",
     "output_type": "stream",
     "text": [
      "<__main__.car object at 0x0000015F1C22BA10>\n"
     ]
    }
   ],
   "source": [
    "print(audi)"
   ]
  },
  {
   "cell_type": "code",
   "execution_count": 13,
   "id": "712575d0-163b-4760-9c9a-58fb1b88049c",
   "metadata": {},
   "outputs": [],
   "source": [
    "#instance variable and attriute "
   ]
  },
  {
   "cell_type": "code",
   "execution_count": 17,
   "id": "26512faf-282a-4e60-9a5b-5499ad9c0a4a",
   "metadata": {},
   "outputs": [],
   "source": [
    "audi.window=4"
   ]
  },
  {
   "cell_type": "code",
   "execution_count": 19,
   "id": "44c2f48f-9aec-47ee-8a00-3a0464ea9f68",
   "metadata": {},
   "outputs": [
    {
     "name": "stdout",
     "output_type": "stream",
     "text": [
      "4\n"
     ]
    }
   ],
   "source": [
    "print(audi.window)"
   ]
  },
  {
   "cell_type": "code",
   "execution_count": 21,
   "id": "e83f75d8-634b-416b-8e43-18cde1fa22e4",
   "metadata": {},
   "outputs": [],
   "source": [
    "# instance means the behaviour of the object is defined by the class"
   ]
  },
  {
   "cell_type": "code",
   "execution_count": 23,
   "id": "18e0e0ce-96fc-4724-8889-d1a7784d0bb9",
   "metadata": {},
   "outputs": [],
   "source": [
    "tata=car()"
   ]
  },
  {
   "cell_type": "code",
   "execution_count": 29,
   "id": "1a38b743-718e-4b77-a180-e43f8612e733",
   "metadata": {},
   "outputs": [
    {
     "data": {
      "text/plain": [
       "['__class__',\n",
       " '__delattr__',\n",
       " '__dict__',\n",
       " '__dir__',\n",
       " '__doc__',\n",
       " '__eq__',\n",
       " '__format__',\n",
       " '__ge__',\n",
       " '__getattribute__',\n",
       " '__getstate__',\n",
       " '__gt__',\n",
       " '__hash__',\n",
       " '__init__',\n",
       " '__init_subclass__',\n",
       " '__le__',\n",
       " '__lt__',\n",
       " '__module__',\n",
       " '__ne__',\n",
       " '__new__',\n",
       " '__reduce__',\n",
       " '__reduce_ex__',\n",
       " '__repr__',\n",
       " '__setattr__',\n",
       " '__sizeof__',\n",
       " '__str__',\n",
       " '__subclasshook__',\n",
       " '__weakref__',\n",
       " 'window']"
      ]
     },
     "execution_count": 29,
     "metadata": {},
     "output_type": "execute_result"
    }
   ],
   "source": [
    "dir(audi)"
   ]
  },
  {
   "cell_type": "code",
   "execution_count": 31,
   "id": "cbbec440-ac85-44de-8fd6-86a51cf4ea63",
   "metadata": {},
   "outputs": [],
   "source": [
    "class dog:\n",
    "    #constructor\n",
    "    def __init__(self,name,age):\n",
    "        self.name=name\n",
    "        self.age=age\n",
    "        "
   ]
  },
  {
   "cell_type": "code",
   "execution_count": 35,
   "id": "e75338ad-1b15-46ad-b68b-738da53c9a01",
   "metadata": {},
   "outputs": [],
   "source": [
    "dog1=dog(\"buddy\",3)"
   ]
  },
  {
   "cell_type": "code",
   "execution_count": 37,
   "id": "4c6140b9-b8cb-4159-b155-c85c563c3047",
   "metadata": {},
   "outputs": [
    {
     "name": "stdout",
     "output_type": "stream",
     "text": [
      "<__main__.dog object at 0x0000015F1E745B80>\n"
     ]
    }
   ],
   "source": [
    "print(dog1)"
   ]
  },
  {
   "cell_type": "code",
   "execution_count": 39,
   "id": "9a5f3753-9aba-4005-b596-f15e200ef7ce",
   "metadata": {},
   "outputs": [
    {
     "data": {
      "text/plain": [
       "<__main__.dog at 0x15f1e745b80>"
      ]
     },
     "execution_count": 39,
     "metadata": {},
     "output_type": "execute_result"
    }
   ],
   "source": [
    "dog1"
   ]
  },
  {
   "cell_type": "code",
   "execution_count": null,
   "id": "1a639c02-b9f3-4369-b1d4-90eec9db5dd7",
   "metadata": {},
   "outputs": [],
   "source": [
    "we can say that all the objects are diff types of object"
   ]
  },
  {
   "cell_type": "code",
   "execution_count": 45,
   "id": "e82a0bb7-3d48-4baa-9cdc-13b142395903",
   "metadata": {},
   "outputs": [
    {
     "data": {
      "text/plain": [
       "'buddy'"
      ]
     },
     "execution_count": 45,
     "metadata": {},
     "output_type": "execute_result"
    }
   ],
   "source": [
    "dog1.name"
   ]
  },
  {
   "cell_type": "code",
   "execution_count": 66,
   "id": "b8a4fe3e-b2b6-4949-9543-27d9bcc5a00b",
   "metadata": {},
   "outputs": [],
   "source": [
    "class dog:\n",
    "    #constructor\n",
    "    def __init__(self,name,age):\n",
    "        self.name=name\n",
    "        self.age=age\n",
    "    def bark(self):\n",
    "        print(f\"{self.name} says woof woof\")"
   ]
  },
  {
   "cell_type": "code",
   "execution_count": 62,
   "id": "58c15ac9-6b6e-4d79-b29a-d2b43dd66a27",
   "metadata": {},
   "outputs": [],
   "source": [
    "dog1=dog(\"buddy\",3)"
   ]
  },
  {
   "cell_type": "code",
   "execution_count": 64,
   "id": "e8e35116-06b3-4d6b-aa3d-37ce06623da5",
   "metadata": {},
   "outputs": [
    {
     "name": "stdout",
     "output_type": "stream",
     "text": [
      "buddy woof woof\n"
     ]
    }
   ],
   "source": [
    "dog1.bark()"
   ]
  },
  {
   "cell_type": "code",
   "execution_count": null,
   "id": "2ce8a376-22a8-4780-b2d5-4441b4d41a30",
   "metadata": {},
   "outputs": [],
   "source": []
  },
  {
   "cell_type": "code",
   "execution_count": 104,
   "id": "2e194338-f995-4faf-a4e5-08106af1497c",
   "metadata": {},
   "outputs": [],
   "source": [
    "class employee:\n",
    "    def __init__(self,name,age):\n",
    "        self.name=name\n",
    "        self.age=age\n",
    "    def order(self):\n",
    "        print(f'{self.name} says sir yes sir')\n",
    "    def kitnabuddha(self):\n",
    "        print(f'{self.name} says mai {self.age} saal buddha huun')\n",
    "        "
   ]
  },
  {
   "cell_type": "code",
   "execution_count": 78,
   "id": "e47b4451-3b14-4d93-99cd-40d486ec41bc",
   "metadata": {},
   "outputs": [],
   "source": [
    "employee1=employee(\"raja\",46)"
   ]
  },
  {
   "cell_type": "code",
   "execution_count": 106,
   "id": "bf700f9a-ec0c-46a5-a18b-688b7bc7ddc3",
   "metadata": {},
   "outputs": [],
   "source": [
    "employee2=employee(\"raju\",86)"
   ]
  },
  {
   "cell_type": "code",
   "execution_count": 86,
   "id": "21f1d1cf-5482-4dfc-9867-e444d227fa38",
   "metadata": {},
   "outputs": [
    {
     "name": "stdout",
     "output_type": "stream",
     "text": [
      "raja says sir yes sir\n"
     ]
    }
   ],
   "source": [
    "employee1.order()"
   ]
  },
  {
   "cell_type": "code",
   "execution_count": 88,
   "id": "86c09412-8dd7-4d54-b2a8-5d9b28892ba9",
   "metadata": {},
   "outputs": [
    {
     "name": "stdout",
     "output_type": "stream",
     "text": [
      "raju says sir yes sir\n"
     ]
    }
   ],
   "source": [
    "employee2.order()"
   ]
  },
  {
   "cell_type": "code",
   "execution_count": 108,
   "id": "f3ae695c-a53e-49c7-ad54-3012627879ef",
   "metadata": {},
   "outputs": [
    {
     "name": "stdout",
     "output_type": "stream",
     "text": [
      "raju says mai 86 saal buddha huun\n"
     ]
    }
   ],
   "source": [
    "employee2.kitnabuddha()"
   ]
  },
  {
   "cell_type": "code",
   "execution_count": 121,
   "id": "5bbed2dc-beee-4afc-a476-246b7211c382",
   "metadata": {},
   "outputs": [],
   "source": [
    "class BankAccount:\n",
    "    def __init__(self, holder_name, balance=0):\n",
    "        self.holder_name = holder_name\n",
    "        self.balance = balance\n",
    "    \n",
    "    def deposit(self, amount):\n",
    "        if amount > 0:\n",
    "            self.balance += amount\n",
    "            print(f\"Deposited {amount} to {self.holder_name}'s account.\")\n",
    "        else:\n",
    "            print(\"Deposit amount must be positive.\")\n",
    "    \n",
    "    def withdraw(self, amount):\n",
    "        if amount > 0 and amount <= self.balance:\n",
    "            self.balance -= amount\n",
    "            print(f\"Withdrew {amount} from {self.holder_name}'s account.\")\n",
    "        elif amount > self.balance:\n",
    "            print(f\"Insufficient funds in {self.holder_name}'s account.\")\n",
    "        else:\n",
    "            print(\"Withdrawal amount must be positive.\")\n",
    "    \n",
    "    def transfer(self, other_account, amount):\n",
    "        if amount > 0 and amount <= self.balance:\n",
    "            self.balance -= amount\n",
    "            other_account.balance += amount\n",
    "            print(f\"Transferred {amount} from {self.holder_name}'s account to {other_account.holder_name}'s account.\")\n",
    "        elif amount > self.balance:\n",
    "            print(f\"Insufficient funds in {self.holder_name}'s account for transfer.\")\n",
    "        else:\n",
    "            print(\"Transfer amount must be positive.\")\n",
    "\n"
   ]
  },
  {
   "cell_type": "code",
   "execution_count": null,
   "id": "2294ce77-f34f-43f4-bab1-7bc75dc977f1",
   "metadata": {},
   "outputs": [],
   "source": [
    "INHERITENCE"
   ]
  },
  {
   "cell_type": "code",
   "execution_count": null,
   "id": "6170c43a-f1ed-46b6-bdb4-0c7925e1f7bb",
   "metadata": {},
   "outputs": [],
   "source": [
    "class Car:\n",
    "    def __init__(self,window,door,enginetype):\n",
    "        self.window=window\n",
    "        self.doors=doors\n",
    "        self.enginetype=enginetype\n",
    "        "
   ]
  }
 ],
 "metadata": {
  "kernelspec": {
   "display_name": "Python 3 (ipykernel)",
   "language": "python",
   "name": "python3"
  },
  "language_info": {
   "codemirror_mode": {
    "name": "ipython",
    "version": 3
   },
   "file_extension": ".py",
   "mimetype": "text/x-python",
   "name": "python",
   "nbconvert_exporter": "python",
   "pygments_lexer": "ipython3",
   "version": "3.12.4"
  }
 },
 "nbformat": 4,
 "nbformat_minor": 5
}
