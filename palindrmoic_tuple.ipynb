{
 "cells": [
  {
   "cell_type": "code",
   "execution_count": 7,
   "id": "c0befd27-0758-4630-8ab5-7f99be90c85c",
   "metadata": {},
   "outputs": [],
   "source": [
    "tup=(1,2,3,5,4,3,2,2,1)\n",
    "r=tup[::-1]"
   ]
  },
  {
   "cell_type": "code",
   "execution_count": 9,
   "id": "3c8a63c9-c080-404d-b76c-40b9588084ce",
   "metadata": {},
   "outputs": [
    {
     "data": {
      "text/plain": [
       "(1, 2, 2, 3, 4, 5, 3, 2, 1)"
      ]
     },
     "execution_count": 9,
     "metadata": {},
     "output_type": "execute_result"
    }
   ],
   "source": [
    "r\n"
   ]
  },
  {
   "cell_type": "code",
   "execution_count": 11,
   "id": "c77c878e-e334-42e7-bb92-38256592dd33",
   "metadata": {},
   "outputs": [],
   "source": [
    "\n",
    "def is_palindromic_tuple(tup):\n",
    "    # Initialize pointers for the start and end of the tuple\n",
    "    start = 0\n",
    "    end = len(tup) - 1\n",
    "    \n",
    "    # Loop until the start pointer is less than or equal to the end pointer\n",
    "    while start <= end:\n",
    "        # If elements at start and end pointers are not equal, it's not a palindrome\n",
    "        if tup[start] != tup[end]:\n",
    "            return False\n",
    "        # Move the pointers towards the center\n",
    "        start += 1\n",
    "        end -= 1\n",
    "    \n",
    "    # If all elements matched, it is a palindrome\n",
    "    return True\n",
    "    "
   ]
  },
  {
   "cell_type": "code",
   "execution_count": 13,
   "id": "f604fbfd-07bd-4060-871b-a4cb793b0113",
   "metadata": {},
   "outputs": [],
   "source": [
    "def is_palindromic_tuple(tup):\n",
    "    r=tup[::-1]\n",
    "    if r==tup:\n",
    "        return True\n",
    "    else:\n",
    "        return False\n",
    "        "
   ]
  },
  {
   "cell_type": "code",
   "execution_count": null,
   "id": "b4e9b173-1841-4294-a733-4f169e05831a",
   "metadata": {},
   "outputs": [],
   "source": []
  }
 ],
 "metadata": {
  "kernelspec": {
   "display_name": "Python 3 (ipykernel)",
   "language": "python",
   "name": "python3"
  },
  "language_info": {
   "codemirror_mode": {
    "name": "ipython",
    "version": 3
   },
   "file_extension": ".py",
   "mimetype": "text/x-python",
   "name": "python",
   "nbconvert_exporter": "python",
   "pygments_lexer": "ipython3",
   "version": "3.12.4"
  }
 },
 "nbformat": 4,
 "nbformat_minor": 5
}
